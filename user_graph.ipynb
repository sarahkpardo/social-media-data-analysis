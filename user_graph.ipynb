{
 "cells": [
  {
   "cell_type": "markdown",
   "metadata": {},
   "source": [
    "Reference:\n",
    "\n",
    "John R. Ladd, Jessica Otis, Christopher N. Warren, and Scott Weingart, \"Exploring and Analyzing Network Data with Python,\" The Programming Historian 6 (2017), https://doi.org/10.46430/phen0064.\n",
    "\n",
    "https://programminghistorian.org/en/lessons/exploring-and-analyzing-network-data-with-python"
   ]
  },
  {
   "cell_type": "code",
   "execution_count": 1,
   "metadata": {},
   "outputs": [],
   "source": [
    "from collections import Counter\n",
    "import functools\n",
    "import itertools\n",
    "from operator import itemgetter\n",
    "import re\n",
    "import timeit\n",
    "\n",
    "import pandas as pd\n",
    "import matplotlib.pyplot as plt\n",
    "import networkx as nx\n",
    "import numpy as np\n",
    "from scipy import stats\n",
    "\n",
    "from utils import *\n",
    "\n",
    "%matplotlib notebook"
   ]
  },
  {
   "cell_type": "markdown",
   "metadata": {},
   "source": [
    "## Graph utilities"
   ]
  },
  {
   "cell_type": "code",
   "execution_count": 2,
   "metadata": {},
   "outputs": [],
   "source": [
    "def add_node_attributes(G):\n",
    "    \"\"\"Compute various graph metrics and add to node attributes.\n",
    "    \"\"\"\n",
    "    # degree\n",
    "    nx.set_node_attributes(G,\n",
    "                           dict(G.out_degree(G.nodes())), \n",
    "                           'out_degree')\n",
    "    nx.set_node_attributes(G,\n",
    "                           dict(G.in_degree(G.nodes())), \n",
    "                           'in_degree')\n",
    "    \n",
    "    if (type(G) != nx.classes.multidigraph.MultiDiGraph):\n",
    "        # eigenvector centrality\n",
    "        nx.set_node_attributes(G, \n",
    "                               nx.eigenvector_centrality(G),\n",
    "                               'eigenvector')\n",
    "\n",
    "        # betweenness centrality\n",
    "        nx.set_node_attributes(G,\n",
    "                               nx.betweenness_centrality(G), \n",
    "                               'betweenness')\n",
    "\n",
    "        # degree centrality\n",
    "        nx.set_node_attributes(G,\n",
    "                               nx.degree_centrality(re),\n",
    "                               'degree_centrality')"
   ]
  },
  {
   "cell_type": "code",
   "execution_count": 3,
   "metadata": {
    "scrolled": false
   },
   "outputs": [],
   "source": [
    "def top_nodes(data_dict, limit=20, show=False):\n",
    "    \"\"\"Return and optionally print the top n nodes in an attribute\n",
    "    dictionary.\n",
    "    \"\"\"\n",
    "    nodes = sorted(data_dict.items(), \n",
    "                   key=lambda item: item[1], \n",
    "                   reverse=True)[:limit]\n",
    "    if show:\n",
    "        print(\"Top {} nodes:\".format(limit))\n",
    "        for d in nodes:\n",
    "            print(d)\n",
    "        \n",
    "    return nodes\n",
    "        \n",
    "def highest_value(attribute_dict):     \n",
    "    \"\"\"Find the node with largest value in an attribute dictionary.\n",
    "    \n",
    "    Return: \n",
    "        tuple(node, value)\n",
    "        \n",
    "    \"\"\"     \n",
    "    # Ordered tuple\n",
    "    attr_items = [(b,a) for (a,b) in attribute_dict.iteritems()]    \n",
    "    # Sort in descending order     \n",
    "    attr_items.sort()     \n",
    "    attr_items.reverse()     \n",
    "    return tuple(reversed(attr_items[0]))"
   ]
  },
  {
   "cell_type": "markdown",
   "metadata": {},
   "source": [
    "### Export"
   ]
  },
  {
   "cell_type": "code",
   "execution_count": 4,
   "metadata": {},
   "outputs": [],
   "source": [
    "def to_df(G):\n",
    "    \"\"\"Export graph to Pandas dataframe with attributes as columns.\"\"\"\n",
    "    return pd.DataFrame(dict(G.nodes(data=True))).T\n",
    "    \n",
    "def to_file(G, file):\n",
    "    \"\"\"Export graph to .gexf file.\"\"\"\n",
    "    nx.write_gexf(G, file)\n",
    "    \n",
    "def to_txt(G, file):\n",
    "    \"\"\"Export node attributes to .txt file.\"\"\"\n",
    "    results = [(k, bet_cen[k], clo_cen[k], eig_cen[k]) for k in range(len(nodes))]\n",
    "    \n",
    "    f = open(file,'w')\n",
    "    for item in results:     \n",
    "        f.write(','.join(map(str,item)))     \n",
    "        f.write('\\n')\n",
    "    f.close()\n",
    "\n",
    "def get_matrix(G):\n",
    "    return nx.to_numpy_matrix(G)"
   ]
  },
  {
   "cell_type": "code",
   "execution_count": 5,
   "metadata": {},
   "outputs": [],
   "source": [
    "def visualize(G, format_dict=None):\n",
    "    if format_dict == None:\n",
    "        format_dict = {'font_size':16,\n",
    "                       'width':3,\n",
    "                       'edge_color':'grey',\n",
    "                       'node_color':'purple',\n",
    "                       'with_labels':False,\n",
    "                      }\n",
    "\n",
    "    fig, ax = plt.subplots(figsize=(10, 8))\n",
    "\n",
    "    pos = nx.spring_layout(G, k=2)\n",
    "\n",
    "    nx.draw_networkx(G, \n",
    "                     pos,\n",
    "                     ax=ax,\n",
    "                     kwargs=format_dict,\n",
    "                    )\n",
    "    # Offset labels\n",
    "    for key, value in pos.items():\n",
    "        x, y = value[0]+.135, value[1]+.045\n",
    "        ax.text(x, y,\n",
    "                s=key,\n",
    "                bbox=dict(facecolor='red', alpha=0.25),\n",
    "                horizontalalignment='center', fontsize=13)"
   ]
  },
  {
   "cell_type": "code",
   "execution_count": 6,
   "metadata": {
    "scrolled": true
   },
   "outputs": [],
   "source": [
    "def graph_properties(graph):\n",
    "    properties = []\n",
    "    out = \"Nodes: {}\".format(graph.number_of_nodes())\n",
    "    properties.append(out)\n",
    "    print(out)\n",
    "    \n",
    "    out = \"Edges: {}\".format(graph.number_of_edges())\n",
    "    print(out)\n",
    "    properties.append(out)\n",
    "    \n",
    "    degrees = [val for (node, val) in graph.degree()]\n",
    "    out = \"Maximum degree: {}\".format(np.max(degrees))\n",
    "    properties.append(out)\n",
    "    print(out)\n",
    "    \n",
    "    out = \"Minimum degree: {}\".format(np.min(degrees))\n",
    "    properties.append(out)\n",
    "    print(out)\n",
    "    \n",
    "    out = \"Average degree: {:.1f}\".format(np.mean(degrees))\n",
    "    properties.append(out)\n",
    "    print(out)\n",
    "    \n",
    "    out = \"Mode: {}\".format(stats.mode(degrees)[0][0])\n",
    "    properties.append(out)\n",
    "    print(out)\n",
    "    \n",
    "    return properties"
   ]
  },
  {
   "cell_type": "markdown",
   "metadata": {},
   "source": [
    "## Build User Graphs"
   ]
  },
  {
   "cell_type": "markdown",
   "metadata": {},
   "source": [
    "### structure:\n",
    "MultiDiGraph:\n",
    "- nodes are userids $\\rightarrow$ make nodes from unique ids\n",
    "- edges are a tweet\n",
    "- edges are directed (```user1 -retweet> user2```)\n",
    "- multiple edges between nodes (```user1``` retweeted ```user2``` multiple times)"
   ]
  },
  {
   "cell_type": "code",
   "execution_count": 7,
   "metadata": {},
   "outputs": [],
   "source": [
    "def get_unique_ids(campaign, campaign_users):\n",
    "    campaign_userids = (campaign_users\n",
    "           .groupby('userid')\n",
    "           .size()\n",
    "           .index\n",
    "          )\n",
    "    tweet_userids = (campaign\n",
    "                   .groupby('userid')\n",
    "                   .size()\n",
    "                   .index\n",
    "                  )\n",
    "    retweet_userids = (campaign\n",
    "                   .loc[:]['retweet_userid']\n",
    "                   .dropna()\n",
    "                  )\n",
    "    reply_userids = (campaign\n",
    "                   .loc[:]['in_reply_to_userid']\n",
    "                   .dropna()\n",
    "                  )\n",
    "    mention_userids = (campaign['user_mentions']\n",
    "                # expand usernames into columns\n",
    "                .explode()\n",
    "                # melt wide table into duplicated tweets\n",
    "                .reset_index()\n",
    "                .melt(id_vars=['tweetid'],\n",
    "                      value_name='mentioned_userid')\n",
    "                # clean up\n",
    "                .astype({'mentioned_userid':'string'})\n",
    "                .drop(columns=['variable'])\n",
    "                .join(campaign['userid'], on='tweetid')\n",
    "                .dropna()\n",
    "               ).loc[:]['mentioned_userid']\n",
    "    \n",
    "    return Counter(list(itertools.chain(*[campaign_userids,\n",
    "                                            tweet_userids,\n",
    "                                            retweet_userids,\n",
    "                                            reply_userids,\n",
    "                                            mention_userids,\n",
    "                                           ])))"
   ]
  },
  {
   "cell_type": "code",
   "execution_count": 8,
   "metadata": {},
   "outputs": [],
   "source": [
    "def get_connections(tweets):\n",
    "    \"\"\"Generate three multi-digraphs of connections ((user1, user2), tweetid):\n",
    "        1. Retweeted: ((['userid'], ['retweet_userid'])['tweetid'])\n",
    "        2. Replied: ((['userid'], ['in_reply_to_userid']), ['tweetid'])\n",
    "        3. Mentioned: ((['userid'], ['mentioned_userid']), ['tweetid'])\n",
    "    \"\"\"\n",
    "    \n",
    "    mention_userids = (campaign['user_mentions']\n",
    "                # expand usernames into columns\n",
    "                .explode()\n",
    "                # melt wide table into duplicated tweets\n",
    "                .reset_index()\n",
    "                .melt(id_vars=['tweetid'],\n",
    "                      value_name='mentioned_userid')\n",
    "                # clean up\n",
    "                .astype({'mentioned_userid':'string'})\n",
    "                .drop(columns=['variable'])\n",
    "                .join(campaign['userid'], on='tweetid')\n",
    "                .dropna()\n",
    "               )\n",
    "    \n",
    "    rt = (campaign\n",
    "          .loc[:][['userid','retweet_userid']]\n",
    "          .dropna()\n",
    "          .reset_index()\n",
    "         )\n",
    "    re = (campaign\n",
    "          .loc[:][['userid', 'in_reply_to_userid']]\n",
    "          .dropna()\n",
    "          .reset_index()\n",
    "         )\n",
    "    mentions = (mention_userids\n",
    "                .loc[:][['userid','mentioned_userid','tweetid']]\n",
    "                .query('mentioned_userid != \"\"')\n",
    "               )\n",
    "    \n",
    "    unique_ids = dict(get_unique_ids(campaign, campaign_users))\n",
    "    \n",
    "    # retweets graph\n",
    "    rt_graph = nx.MultiDiGraph()\n",
    "\n",
    "    rt_graph.add_nodes_from(unique_ids.keys(), count=unique_ids.values())\n",
    "\n",
    "    dictionary = [dict(tweetid=tid) for tid in rt['tweetid']]\n",
    "    rt_graph.add_edges_from(list(zip(rt['userid'],\n",
    "                                     rt['retweet_userid'],\n",
    "                                     dictionary)))\n",
    "    \n",
    "    # replies graph\n",
    "    re_graph = nx.MultiDiGraph()\n",
    "\n",
    "    re_graph.add_nodes_from(unique_ids.keys(), count=unique_ids.values())\n",
    "\n",
    "    dictionary = [dict(tweetid=tid) for tid in re['tweetid']]\n",
    "    re_graph.add_edges_from(list(zip(re['userid'],\n",
    "                                     re['in_reply_to_userid'],\n",
    "                                     dictionary)))\n",
    "    \n",
    "    # mentions graph\n",
    "    mention_graph = nx.MultiDiGraph()\n",
    "\n",
    "    mention_graph.add_nodes_from(unique_ids.keys(), count=unique_ids.values())\n",
    "\n",
    "    dictionary = [dict(tweetid=tid) for tid in mentions['tweetid']]\n",
    "    mention_graph.add_edges_from(list(zip(mentions['userid'],\n",
    "                                          mentions['mentioned_userid'],\n",
    "                                          dictionary)))\n",
    "    \n",
    "    return rt_graph, re_graph, mention_graph"
   ]
  },
  {
   "cell_type": "markdown",
   "metadata": {},
   "source": [
    "## Example: Iran 12/2020 Campaign"
   ]
  },
  {
   "cell_type": "code",
   "execution_count": 9,
   "metadata": {},
   "outputs": [],
   "source": [
    "users = UsersData('data/users')\n",
    "tweets = TweetsData('data/tweets')"
   ]
  },
  {
   "cell_type": "code",
   "execution_count": 10,
   "metadata": {},
   "outputs": [],
   "source": [
    "tweets_df = tweets.df.loc[:][:]\n",
    "users_df = users.df.loc[:][:]"
   ]
  },
  {
   "cell_type": "code",
   "execution_count": 11,
   "metadata": {},
   "outputs": [],
   "source": [
    "campaign = tweets_df[tweets_df['campaign'] == 'iran202012']\n",
    "campaign_users = users_df[users_df['campaign'] == 'iran202012']"
   ]
  },
  {
   "cell_type": "code",
   "execution_count": 12,
   "metadata": {
    "scrolled": true
   },
   "outputs": [
    {
     "name": "stdout",
     "output_type": "stream",
     "text": [
      "<class 'pandas.core.frame.DataFrame'>\n",
      "Int64Index: 560571 entries, 1271764746983952390 to 948848104362663936\n",
      "Data columns (total 36 columns):\n",
      " #   Column                    Non-Null Count   Dtype         \n",
      "---  ------                    --------------   -----         \n",
      " 0   userid                    560571 non-null  string        \n",
      " 1   user_display_name         560571 non-null  string        \n",
      " 2   user_screen_name          560571 non-null  string        \n",
      " 3   user_reported_location    417523 non-null  string        \n",
      " 4   user_profile_description  530518 non-null  string        \n",
      " 5   user_profile_url          338535 non-null  string        \n",
      " 6   follower_count            560571 non-null  int64         \n",
      " 7   following_count           560571 non-null  int64         \n",
      " 8   account_creation_date     560571 non-null  datetime64[ns]\n",
      " 9   account_language          560571 non-null  string        \n",
      " 10  tweet_language            444758 non-null  string        \n",
      " 11  tweet_text                560571 non-null  string        \n",
      " 12  tweet_time                560571 non-null  datetime64[ns]\n",
      " 13  tweet_client_name         560571 non-null  category      \n",
      " 14  in_reply_to_userid        95096 non-null   string        \n",
      " 15  in_reply_to_tweetid       89139 non-null   object        \n",
      " 16  quoted_tweet_tweetid      18513 non-null   object        \n",
      " 17  is_retweet                560571 non-null  bool          \n",
      " 18  retweet_userid            17981 non-null   string        \n",
      " 19  retweet_tweetid           100446 non-null  object        \n",
      " 20  latitude                  560571 non-null  category      \n",
      " 21  longitude                 560571 non-null  category      \n",
      " 22  quote_count               560571 non-null  int64         \n",
      " 23  reply_count               560571 non-null  int64         \n",
      " 24  like_count                560571 non-null  int64         \n",
      " 25  retweet_count             560571 non-null  int64         \n",
      " 26  hashtags                  444588 non-null  object        \n",
      " 27  urls                      465724 non-null  object        \n",
      " 28  user_mentions             560571 non-null  object        \n",
      " 29  file                      560571 non-null  string        \n",
      " 30  campaign                  560571 non-null  string        \n",
      " 31  release                   560571 non-null  object        \n",
      " 32  government                560571 non-null  string        \n",
      " 33  type                      560571 non-null  object        \n",
      " 34  is_reply                  560571 non-null  bool          \n",
      " 35  has_quote                 560571 non-null  bool          \n",
      "dtypes: bool(3), category(3), datetime64[ns](2), int64(6), object(8), string(14)\n",
      "memory usage: 135.8+ MB\n"
     ]
    }
   ],
   "source": [
    "campaign.info()"
   ]
  },
  {
   "cell_type": "code",
   "execution_count": 13,
   "metadata": {},
   "outputs": [],
   "source": [
    "rt_graph, re_graph, mention_graph = get_connections(campaign)"
   ]
  },
  {
   "cell_type": "code",
   "execution_count": 14,
   "metadata": {},
   "outputs": [],
   "source": [
    "add_node_attributes(rt_graph)\n",
    "add_node_attributes(re_graph)\n",
    "add_node_attributes(mention_graph)"
   ]
  },
  {
   "cell_type": "code",
   "execution_count": 15,
   "metadata": {},
   "outputs": [
    {
     "name": "stdout",
     "output_type": "stream",
     "text": [
      "Nodes: 61117\n",
      "Edges: 17981\n",
      "Maximum degree: 9737\n",
      "Minimum degree: 0\n",
      "Average degree: 0.6\n",
      "Mode: 0\n"
     ]
    }
   ],
   "source": [
    "properties = graph_properties(rt_graph)"
   ]
  },
  {
   "cell_type": "code",
   "execution_count": 16,
   "metadata": {
    "scrolled": true
   },
   "outputs": [
    {
     "data": {
      "text/plain": [
       "[('213589457', 4857),\n",
       " ('rrkP3RNDiwWqLySjcoqdFlz7DrFX7RCwwDSxyDqaU=', 2025),\n",
       " ('79Tf6XH3DwjdUWGO4aQWghSj5G2esetBnePoOBB3wYM=', 1522),\n",
       " ('z3nCVBEHiIbcBhhxU2mOz5iWK4a7sUdGmRSPFM16G0=', 1453),\n",
       " ('BYaaZkKxjVQjhsnn9REZ0UcFoEHl+tKnzJ+0Hv+Pg=', 1336),\n",
       " ('6qhrzJLryTiE7VlJkmY+cKE5VsITiaFwMA7s3Dr5I=', 649),\n",
       " ('794097607845015552', 625),\n",
       " ('QXyUcPxvoQ+uzkqCj6O+AT9nUf3Avh0JTvwTG9GncQk=', 581),\n",
       " ('A2ufeZxtC32uuqgSKfm1EiJPs4uMP3aM7AfHUMsTM=', 571),\n",
       " ('Hz3n1y2y3sLOknEGxPWczYyCSeZrz15JLPTcJAd6oAo=', 569),\n",
       " ('EOkiPW6kT+GE5A2wU5mqPe7hiK8s7Cr0tfCybFsz2Sg=', 523),\n",
       " ('ihPCMQ32xEzpD35Et9IH4HO21XKiWdSJreVg+pHT5o=', 403),\n",
       " ('1091795789263921152', 371),\n",
       " ('etDaWEjMPleueDrpkatPUSCApc6yU8W95+yZYWzVxSY=', 293),\n",
       " ('LubegkQHPmV20BdQonItq03iWY5unAkvlI2M7PNKvjI=', 241),\n",
       " ('1067814896706994176', 211),\n",
       " ('xkCWfX+FKOlOHNYjW1jeAG4IfrkxhOZLVbgnDWHVevg=', 158),\n",
       " ('Bl9IUxp6GStTkiNGbhfBJM9xu85e3Y9BQdNd97GFAI=', 155),\n",
       " ('6UQXw4Mnf0c4YkJ5rSJWtgfZlNBQFdx38mOzYUt16sI=', 133),\n",
       " ('T8AyWQK3ajadJJL2J+OJovSr4z+rpoK4LqM6ob+wTw=', 124)]"
      ]
     },
     "execution_count": 16,
     "metadata": {},
     "output_type": "execute_result"
    }
   ],
   "source": [
    "most_retweets = top_nodes(nx.get_node_attributes(rt_graph, 'out_degree'),limit=20)\n",
    "most_retweets"
   ]
  },
  {
   "cell_type": "code",
   "execution_count": 17,
   "metadata": {},
   "outputs": [
    {
     "data": {
      "text/plain": [
       "[('213589457', 4880),\n",
       " ('Bl9IUxp6GStTkiNGbhfBJM9xu85e3Y9BQdNd97GFAI=', 2623),\n",
       " ('1067814896706994176', 2407),\n",
       " ('etDaWEjMPleueDrpkatPUSCApc6yU8W95+yZYWzVxSY=', 1783),\n",
       " ('794097607845015552', 625),\n",
       " ('BYaaZkKxjVQjhsnn9REZ0UcFoEHl+tKnzJ+0Hv+Pg=', 545),\n",
       " ('79Tf6XH3DwjdUWGO4aQWghSj5G2esetBnePoOBB3wYM=', 544),\n",
       " ('z3nCVBEHiIbcBhhxU2mOz5iWK4a7sUdGmRSPFM16G0=', 529),\n",
       " ('6qhrzJLryTiE7VlJkmY+cKE5VsITiaFwMA7s3Dr5I=', 505),\n",
       " ('rrkP3RNDiwWqLySjcoqdFlz7DrFX7RCwwDSxyDqaU=', 445),\n",
       " ('1091795789263921152', 371),\n",
       " ('ihPCMQ32xEzpD35Et9IH4HO21XKiWdSJreVg+pHT5o=', 366),\n",
       " ('mpY+AZI80Nu61VS3o4Zm+UXTjaxrkE08xU0nO3JQ=', 342),\n",
       " ('EOkiPW6kT+GE5A2wU5mqPe7hiK8s7Cr0tfCybFsz2Sg=', 299),\n",
       " ('1099221870530961408', 215),\n",
       " ('XCVp3AesS42sNbyxhBsKM62AylqUJyipi3laS53gY=', 168),\n",
       " ('6UQXw4Mnf0c4YkJ5rSJWtgfZlNBQFdx38mOzYUt16sI=', 133),\n",
       " ('QXyUcPxvoQ+uzkqCj6O+AT9nUf3Avh0JTvwTG9GncQk=', 133),\n",
       " ('xkCWfX+FKOlOHNYjW1jeAG4IfrkxhOZLVbgnDWHVevg=', 109),\n",
       " ('T8AyWQK3ajadJJL2J+OJovSr4z+rpoK4LqM6ob+wTw=', 106)]"
      ]
     },
     "execution_count": 17,
     "metadata": {},
     "output_type": "execute_result"
    }
   ],
   "source": [
    "most_retweeted = top_nodes(nx.get_node_attributes(rt_graph, 'in_degree'),limit=20)\n",
    "most_retweeted"
   ]
  },
  {
   "cell_type": "code",
   "execution_count": 18,
   "metadata": {
    "scrolled": true
   },
   "outputs": [
    {
     "data": {
      "text/html": [
       "<div>\n",
       "<style scoped>\n",
       "    .dataframe tbody tr th:only-of-type {\n",
       "        vertical-align: middle;\n",
       "    }\n",
       "\n",
       "    .dataframe tbody tr th {\n",
       "        vertical-align: top;\n",
       "    }\n",
       "\n",
       "    .dataframe thead th {\n",
       "        text-align: right;\n",
       "    }\n",
       "</style>\n",
       "<table border=\"1\" class=\"dataframe\">\n",
       "  <thead>\n",
       "    <tr style=\"text-align: right;\">\n",
       "      <th></th>\n",
       "      <th>user_display_name</th>\n",
       "      <th>user_reported_location</th>\n",
       "      <th>user_profile_description</th>\n",
       "      <th>follower_count</th>\n",
       "      <th>following_count</th>\n",
       "    </tr>\n",
       "    <tr>\n",
       "      <th>userid</th>\n",
       "      <th></th>\n",
       "      <th></th>\n",
       "      <th></th>\n",
       "      <th></th>\n",
       "      <th></th>\n",
       "    </tr>\n",
       "  </thead>\n",
       "  <tbody>\n",
       "    <tr>\n",
       "      <th>213589457</th>\n",
       "      <td>HispanTV</td>\n",
       "      <td>Teherán</td>\n",
       "      <td>Medio no corporativo, que se hace eco de las r...</td>\n",
       "      <td>161512</td>\n",
       "      <td>31</td>\n",
       "    </tr>\n",
       "    <tr>\n",
       "      <th>Bl9IUxp6GStTkiNGbhfBJM9xu85e3Y9BQdNd97GFAI=</th>\n",
       "      <td>Bl9IUxp6GStTkiNGbhfBJM9xu85e3Y9BQdNd97GFAI=</td>\n",
       "      <td>&lt;NA&gt;</td>\n",
       "      <td>Freelance Journalist 📝\n",
       "Middle-Eastern Politics...</td>\n",
       "      <td>2499</td>\n",
       "      <td>2701</td>\n",
       "    </tr>\n",
       "    <tr>\n",
       "      <th>1067814896706994176</th>\n",
       "      <td>Fatma Nursani</td>\n",
       "      <td>Jakarta Barat, DKI Jakarta</td>\n",
       "      <td>أَمَّنْ يُجِيبُ الْمُضْطَرَّ إِذَا دَعَاهُ وَي...</td>\n",
       "      <td>5292</td>\n",
       "      <td>2384</td>\n",
       "    </tr>\n",
       "    <tr>\n",
       "      <th>etDaWEjMPleueDrpkatPUSCApc6yU8W95+yZYWzVxSY=</th>\n",
       "      <td>etDaWEjMPleueDrpkatPUSCApc6yU8W95+yZYWzVxSY=</td>\n",
       "      <td>Jakarta</td>\n",
       "      <td>Pejuang keadilan 💪✊🇮🇩\n",
       "\n",
       "Yang belum kefollow, in...</td>\n",
       "      <td>4436</td>\n",
       "      <td>2613</td>\n",
       "    </tr>\n",
       "    <tr>\n",
       "      <th>794097607845015552</th>\n",
       "      <td>Political Economy</td>\n",
       "      <td>&lt;NA&gt;</td>\n",
       "      <td>&lt;NA&gt;</td>\n",
       "      <td>5578</td>\n",
       "      <td>596</td>\n",
       "    </tr>\n",
       "    <tr>\n",
       "      <th>BYaaZkKxjVQjhsnn9REZ0UcFoEHl+tKnzJ+0Hv+Pg=</th>\n",
       "      <td>BYaaZkKxjVQjhsnn9REZ0UcFoEHl+tKnzJ+0Hv+Pg=</td>\n",
       "      <td>Jakarta Selatan, DKI Jakarta</td>\n",
       "      <td>Account that fought for the oppressed countrie...</td>\n",
       "      <td>2485</td>\n",
       "      <td>1619</td>\n",
       "    </tr>\n",
       "    <tr>\n",
       "      <th>79Tf6XH3DwjdUWGO4aQWghSj5G2esetBnePoOBB3wYM=</th>\n",
       "      <td>79Tf6XH3DwjdUWGO4aQWghSj5G2esetBnePoOBB3wYM=</td>\n",
       "      <td>Jakarta Selatan, DKI Jakarta</td>\n",
       "      <td>Indonesian 🇮🇩 😘\n",
       "Middle Eastern Activist 💪🏻\n",
       "Ant...</td>\n",
       "      <td>2536</td>\n",
       "      <td>2419</td>\n",
       "    </tr>\n",
       "    <tr>\n",
       "      <th>z3nCVBEHiIbcBhhxU2mOz5iWK4a7sUdGmRSPFM16G0=</th>\n",
       "      <td>z3nCVBEHiIbcBhhxU2mOz5iWK4a7sUdGmRSPFM16G0=</td>\n",
       "      <td>&lt;NA&gt;</td>\n",
       "      <td>in God we Trust</td>\n",
       "      <td>745</td>\n",
       "      <td>794</td>\n",
       "    </tr>\n",
       "    <tr>\n",
       "      <th>6qhrzJLryTiE7VlJkmY+cKE5VsITiaFwMA7s3Dr5I=</th>\n",
       "      <td>6qhrzJLryTiE7VlJkmY+cKE5VsITiaFwMA7s3Dr5I=</td>\n",
       "      <td>Indonesia</td>\n",
       "      <td>sharing my happy thoughts 🌹</td>\n",
       "      <td>584</td>\n",
       "      <td>383</td>\n",
       "    </tr>\n",
       "    <tr>\n",
       "      <th>rrkP3RNDiwWqLySjcoqdFlz7DrFX7RCwwDSxyDqaU=</th>\n",
       "      <td>rrkP3RNDiwWqLySjcoqdFlz7DrFX7RCwwDSxyDqaU=</td>\n",
       "      <td>&lt;NA&gt;</td>\n",
       "      <td>Treat others the way you'd like to be treated ...</td>\n",
       "      <td>2911</td>\n",
       "      <td>2441</td>\n",
       "    </tr>\n",
       "    <tr>\n",
       "      <th>1091795789263921152</th>\n",
       "      <td>با تو...</td>\n",
       "      <td>Tehran</td>\n",
       "      <td>لطفا با ادب وارد شوید!\n",
       "#کاش_یاد_بگیرم</td>\n",
       "      <td>5953</td>\n",
       "      <td>6122</td>\n",
       "    </tr>\n",
       "    <tr>\n",
       "      <th>ihPCMQ32xEzpD35Et9IH4HO21XKiWdSJreVg+pHT5o=</th>\n",
       "      <td>ihPCMQ32xEzpD35Et9IH4HO21XKiWdSJreVg+pHT5o=</td>\n",
       "      <td>&lt;NA&gt;</td>\n",
       "      <td>Berterimakasihlah pada segala yang memberi keh...</td>\n",
       "      <td>191</td>\n",
       "      <td>69</td>\n",
       "    </tr>\n",
       "    <tr>\n",
       "      <th>EOkiPW6kT+GE5A2wU5mqPe7hiK8s7Cr0tfCybFsz2Sg=</th>\n",
       "      <td>EOkiPW6kT+GE5A2wU5mqPe7hiK8s7Cr0tfCybFsz2Sg=</td>\n",
       "      <td>بغداد</td>\n",
       "      <td>تسرح اعيوني ابجمالك عودتني\n",
       "\n",
       "Follow = 🥰\n",
       "Unfollo...</td>\n",
       "      <td>304</td>\n",
       "      <td>433</td>\n",
       "    </tr>\n",
       "    <tr>\n",
       "      <th>6UQXw4Mnf0c4YkJ5rSJWtgfZlNBQFdx38mOzYUt16sI=</th>\n",
       "      <td>6UQXw4Mnf0c4YkJ5rSJWtgfZlNBQFdx38mOzYUt16sI=</td>\n",
       "      <td>&lt;NA&gt;</td>\n",
       "      <td>only in the darkness  you can see the stars #M...</td>\n",
       "      <td>1133</td>\n",
       "      <td>1646</td>\n",
       "    </tr>\n",
       "    <tr>\n",
       "      <th>QXyUcPxvoQ+uzkqCj6O+AT9nUf3Avh0JTvwTG9GncQk=</th>\n",
       "      <td>QXyUcPxvoQ+uzkqCj6O+AT9nUf3Avh0JTvwTG9GncQk=</td>\n",
       "      <td>&lt;NA&gt;</td>\n",
       "      <td>Coz It's Us Against the World</td>\n",
       "      <td>157</td>\n",
       "      <td>226</td>\n",
       "    </tr>\n",
       "    <tr>\n",
       "      <th>xkCWfX+FKOlOHNYjW1jeAG4IfrkxhOZLVbgnDWHVevg=</th>\n",
       "      <td>xkCWfX+FKOlOHNYjW1jeAG4IfrkxhOZLVbgnDWHVevg=</td>\n",
       "      <td>&lt;NA&gt;</td>\n",
       "      <td>‏‏‏‏‏‏‏‏‏‏‏‏‏‎‎‎‎‎‎‎‎‎‎‎‎#Patriot‎.‎‎‎‎‎‎‎‎‎‎#...</td>\n",
       "      <td>384</td>\n",
       "      <td>584</td>\n",
       "    </tr>\n",
       "    <tr>\n",
       "      <th>T8AyWQK3ajadJJL2J+OJovSr4z+rpoK4LqM6ob+wTw=</th>\n",
       "      <td>T8AyWQK3ajadJJL2J+OJovSr4z+rpoK4LqM6ob+wTw=</td>\n",
       "      <td>&lt;NA&gt;</td>\n",
       "      <td>‏‏‏اکانت قبلی در کمتر از ۲۴ساعت از فعالیتم محد...</td>\n",
       "      <td>880</td>\n",
       "      <td>826</td>\n",
       "    </tr>\n",
       "  </tbody>\n",
       "</table>\n",
       "</div>"
      ],
      "text/plain": [
       "                                                                         user_display_name  \\\n",
       "userid                                                                                       \n",
       "213589457                                                                         HispanTV   \n",
       "Bl9IUxp6GStTkiNGbhfBJM9xu85e3Y9BQdNd97GFAI=    Bl9IUxp6GStTkiNGbhfBJM9xu85e3Y9BQdNd97GFAI=   \n",
       "1067814896706994176                                                          Fatma Nursani   \n",
       "etDaWEjMPleueDrpkatPUSCApc6yU8W95+yZYWzVxSY=  etDaWEjMPleueDrpkatPUSCApc6yU8W95+yZYWzVxSY=   \n",
       "794097607845015552                                                       Political Economy   \n",
       "BYaaZkKxjVQjhsnn9REZ0UcFoEHl+tKnzJ+0Hv+Pg=      BYaaZkKxjVQjhsnn9REZ0UcFoEHl+tKnzJ+0Hv+Pg=   \n",
       "79Tf6XH3DwjdUWGO4aQWghSj5G2esetBnePoOBB3wYM=  79Tf6XH3DwjdUWGO4aQWghSj5G2esetBnePoOBB3wYM=   \n",
       "z3nCVBEHiIbcBhhxU2mOz5iWK4a7sUdGmRSPFM16G0=    z3nCVBEHiIbcBhhxU2mOz5iWK4a7sUdGmRSPFM16G0=   \n",
       "6qhrzJLryTiE7VlJkmY+cKE5VsITiaFwMA7s3Dr5I=      6qhrzJLryTiE7VlJkmY+cKE5VsITiaFwMA7s3Dr5I=   \n",
       "rrkP3RNDiwWqLySjcoqdFlz7DrFX7RCwwDSxyDqaU=      rrkP3RNDiwWqLySjcoqdFlz7DrFX7RCwwDSxyDqaU=   \n",
       "1091795789263921152                                                               با تو...   \n",
       "ihPCMQ32xEzpD35Et9IH4HO21XKiWdSJreVg+pHT5o=    ihPCMQ32xEzpD35Et9IH4HO21XKiWdSJreVg+pHT5o=   \n",
       "EOkiPW6kT+GE5A2wU5mqPe7hiK8s7Cr0tfCybFsz2Sg=  EOkiPW6kT+GE5A2wU5mqPe7hiK8s7Cr0tfCybFsz2Sg=   \n",
       "6UQXw4Mnf0c4YkJ5rSJWtgfZlNBQFdx38mOzYUt16sI=  6UQXw4Mnf0c4YkJ5rSJWtgfZlNBQFdx38mOzYUt16sI=   \n",
       "QXyUcPxvoQ+uzkqCj6O+AT9nUf3Avh0JTvwTG9GncQk=  QXyUcPxvoQ+uzkqCj6O+AT9nUf3Avh0JTvwTG9GncQk=   \n",
       "xkCWfX+FKOlOHNYjW1jeAG4IfrkxhOZLVbgnDWHVevg=  xkCWfX+FKOlOHNYjW1jeAG4IfrkxhOZLVbgnDWHVevg=   \n",
       "T8AyWQK3ajadJJL2J+OJovSr4z+rpoK4LqM6ob+wTw=    T8AyWQK3ajadJJL2J+OJovSr4z+rpoK4LqM6ob+wTw=   \n",
       "\n",
       "                                                    user_reported_location  \\\n",
       "userid                                                                       \n",
       "213589457                                                          Teherán   \n",
       "Bl9IUxp6GStTkiNGbhfBJM9xu85e3Y9BQdNd97GFAI=                           <NA>   \n",
       "1067814896706994176                             Jakarta Barat, DKI Jakarta   \n",
       "etDaWEjMPleueDrpkatPUSCApc6yU8W95+yZYWzVxSY=                       Jakarta   \n",
       "794097607845015552                                                    <NA>   \n",
       "BYaaZkKxjVQjhsnn9REZ0UcFoEHl+tKnzJ+0Hv+Pg=    Jakarta Selatan, DKI Jakarta   \n",
       "79Tf6XH3DwjdUWGO4aQWghSj5G2esetBnePoOBB3wYM=  Jakarta Selatan, DKI Jakarta   \n",
       "z3nCVBEHiIbcBhhxU2mOz5iWK4a7sUdGmRSPFM16G0=                           <NA>   \n",
       "6qhrzJLryTiE7VlJkmY+cKE5VsITiaFwMA7s3Dr5I=                       Indonesia   \n",
       "rrkP3RNDiwWqLySjcoqdFlz7DrFX7RCwwDSxyDqaU=                            <NA>   \n",
       "1091795789263921152                                                 Tehran   \n",
       "ihPCMQ32xEzpD35Et9IH4HO21XKiWdSJreVg+pHT5o=                           <NA>   \n",
       "EOkiPW6kT+GE5A2wU5mqPe7hiK8s7Cr0tfCybFsz2Sg=                         بغداد   \n",
       "6UQXw4Mnf0c4YkJ5rSJWtgfZlNBQFdx38mOzYUt16sI=                          <NA>   \n",
       "QXyUcPxvoQ+uzkqCj6O+AT9nUf3Avh0JTvwTG9GncQk=                          <NA>   \n",
       "xkCWfX+FKOlOHNYjW1jeAG4IfrkxhOZLVbgnDWHVevg=                          <NA>   \n",
       "T8AyWQK3ajadJJL2J+OJovSr4z+rpoK4LqM6ob+wTw=                           <NA>   \n",
       "\n",
       "                                                                       user_profile_description  \\\n",
       "userid                                                                                            \n",
       "213589457                                     Medio no corporativo, que se hace eco de las r...   \n",
       "Bl9IUxp6GStTkiNGbhfBJM9xu85e3Y9BQdNd97GFAI=   Freelance Journalist 📝\n",
       "Middle-Eastern Politics...   \n",
       "1067814896706994176                           أَمَّنْ يُجِيبُ الْمُضْطَرَّ إِذَا دَعَاهُ وَي...   \n",
       "etDaWEjMPleueDrpkatPUSCApc6yU8W95+yZYWzVxSY=  Pejuang keadilan 💪✊🇮🇩\n",
       "\n",
       "Yang belum kefollow, in...   \n",
       "794097607845015552                                                                         <NA>   \n",
       "BYaaZkKxjVQjhsnn9REZ0UcFoEHl+tKnzJ+0Hv+Pg=    Account that fought for the oppressed countrie...   \n",
       "79Tf6XH3DwjdUWGO4aQWghSj5G2esetBnePoOBB3wYM=  Indonesian 🇮🇩 😘\n",
       "Middle Eastern Activist 💪🏻\n",
       "Ant...   \n",
       "z3nCVBEHiIbcBhhxU2mOz5iWK4a7sUdGmRSPFM16G0=                                     in God we Trust   \n",
       "6qhrzJLryTiE7VlJkmY+cKE5VsITiaFwMA7s3Dr5I=                          sharing my happy thoughts 🌹   \n",
       "rrkP3RNDiwWqLySjcoqdFlz7DrFX7RCwwDSxyDqaU=    Treat others the way you'd like to be treated ...   \n",
       "1091795789263921152                                       لطفا با ادب وارد شوید!\n",
       "#کاش_یاد_بگیرم   \n",
       "ihPCMQ32xEzpD35Et9IH4HO21XKiWdSJreVg+pHT5o=   Berterimakasihlah pada segala yang memberi keh...   \n",
       "EOkiPW6kT+GE5A2wU5mqPe7hiK8s7Cr0tfCybFsz2Sg=  تسرح اعيوني ابجمالك عودتني\n",
       "\n",
       "Follow = 🥰\n",
       "Unfollo...   \n",
       "6UQXw4Mnf0c4YkJ5rSJWtgfZlNBQFdx38mOzYUt16sI=  only in the darkness  you can see the stars #M...   \n",
       "QXyUcPxvoQ+uzkqCj6O+AT9nUf3Avh0JTvwTG9GncQk=                      Coz It's Us Against the World   \n",
       "xkCWfX+FKOlOHNYjW1jeAG4IfrkxhOZLVbgnDWHVevg=  ‏‏‏‏‏‏‏‏‏‏‏‏‏‎‎‎‎‎‎‎‎‎‎‎‎#Patriot‎.‎‎‎‎‎‎‎‎‎‎#...   \n",
       "T8AyWQK3ajadJJL2J+OJovSr4z+rpoK4LqM6ob+wTw=   ‏‏‏اکانت قبلی در کمتر از ۲۴ساعت از فعالیتم محد...   \n",
       "\n",
       "                                              follower_count  following_count  \n",
       "userid                                                                         \n",
       "213589457                                             161512               31  \n",
       "Bl9IUxp6GStTkiNGbhfBJM9xu85e3Y9BQdNd97GFAI=             2499             2701  \n",
       "1067814896706994176                                     5292             2384  \n",
       "etDaWEjMPleueDrpkatPUSCApc6yU8W95+yZYWzVxSY=            4436             2613  \n",
       "794097607845015552                                      5578              596  \n",
       "BYaaZkKxjVQjhsnn9REZ0UcFoEHl+tKnzJ+0Hv+Pg=              2485             1619  \n",
       "79Tf6XH3DwjdUWGO4aQWghSj5G2esetBnePoOBB3wYM=            2536             2419  \n",
       "z3nCVBEHiIbcBhhxU2mOz5iWK4a7sUdGmRSPFM16G0=              745              794  \n",
       "6qhrzJLryTiE7VlJkmY+cKE5VsITiaFwMA7s3Dr5I=               584              383  \n",
       "rrkP3RNDiwWqLySjcoqdFlz7DrFX7RCwwDSxyDqaU=              2911             2441  \n",
       "1091795789263921152                                     5953             6122  \n",
       "ihPCMQ32xEzpD35Et9IH4HO21XKiWdSJreVg+pHT5o=              191               69  \n",
       "EOkiPW6kT+GE5A2wU5mqPe7hiK8s7Cr0tfCybFsz2Sg=             304              433  \n",
       "6UQXw4Mnf0c4YkJ5rSJWtgfZlNBQFdx38mOzYUt16sI=            1133             1646  \n",
       "QXyUcPxvoQ+uzkqCj6O+AT9nUf3Avh0JTvwTG9GncQk=             157              226  \n",
       "xkCWfX+FKOlOHNYjW1jeAG4IfrkxhOZLVbgnDWHVevg=             384              584  \n",
       "T8AyWQK3ajadJJL2J+OJovSr4z+rpoK4LqM6ob+wTw=              880              826  "
      ]
     },
     "execution_count": 18,
     "metadata": {},
     "output_type": "execute_result"
    }
   ],
   "source": [
    "fields = ['user_display_name',\n",
    "           'user_reported_location',\n",
    "           'user_profile_description',\n",
    "           'follower_count',\n",
    "           'following_count']\n",
    "\n",
    "common_users = [userid for userid in dict(most_retweeted).keys() \n",
    "                if userid in dict(most_retweets).keys()]\n",
    "(campaign_users\n",
    " .loc[common_users][fields]\n",
    ")"
   ]
  },
  {
   "cell_type": "code",
   "execution_count": 19,
   "metadata": {},
   "outputs": [
    {
     "data": {
      "text/plain": [
       "[('0zCl5U0pYu0gEmK3JtjO5fbnxEj6pO9GUgH52Q6yg0E=', 13282),\n",
       " ('T8AyWQK3ajadJJL2J+OJovSr4z+rpoK4LqM6ob+wTw=', 10258),\n",
       " ('etDaWEjMPleueDrpkatPUSCApc6yU8W95+yZYWzVxSY=', 8118),\n",
       " ('XpT328jUSYUJJM4Bt0HmKSJ8d8rJWgkBkQhdff62skE=', 6296),\n",
       " ('WFMM2eW8YAMex3B1z4P8vxx0OvkEJvFCx9l0uYGMqug=', 5969),\n",
       " ('1091795789263921152', 5086),\n",
       " ('1067814896706994176', 4852),\n",
       " ('wqcue0aByZjWGy2aKzh3IiKOK3urEeCGmRPpbpfvPBc=', 2703),\n",
       " ('1099221870530961408', 1832),\n",
       " ('rrkP3RNDiwWqLySjcoqdFlz7DrFX7RCwwDSxyDqaU=', 1774),\n",
       " ('z3nCVBEHiIbcBhhxU2mOz5iWK4a7sUdGmRSPFM16G0=', 1746),\n",
       " ('mpY+AZI80Nu61VS3o4Zm+UXTjaxrkE08xU0nO3JQ=', 1427),\n",
       " ('DsqKOBIbyhdb1fRCREnRRabr2ijPMzNgximA+u8N8=', 1233),\n",
       " ('iVnWPNBGsoPoOI0d759LSmf2u0DGfCCHSznVuHLNjo=', 1218),\n",
       " ('lTQFNj2OGHS3yOz2SZimhktwdgrQmMsXUuaGHi7zek=', 1125),\n",
       " ('tfIRka6bXJoCm84UisMb2m4L8XpKyPJr7Yfv8UmeQ=', 1109),\n",
       " ('6UQXw4Mnf0c4YkJ5rSJWtgfZlNBQFdx38mOzYUt16sI=', 1075),\n",
       " ('5O68KDqdztRXhsl9HkNpWLfdwjINlgxlCDiKbBCFzzc=', 982),\n",
       " ('wBrHiyqOL5uBhytBGwy2W3A8nDXyRNfgAXfqXn3e0GY=', 982),\n",
       " ('ebMU+otXnrLJy3t9WTpszW3hVN383SmJXD8sg1eGPuQ=', 976)]"
      ]
     },
     "execution_count": 19,
     "metadata": {},
     "output_type": "execute_result"
    }
   ],
   "source": [
    "most_replies = top_nodes(nx.get_node_attributes(re_graph, 'out_degree'),limit=20)\n",
    "most_replies"
   ]
  },
  {
   "cell_type": "code",
   "execution_count": 20,
   "metadata": {},
   "outputs": [
    {
     "data": {
      "text/plain": [
       "[('25073877', 6440),\n",
       " ('759251', 5264),\n",
       " ('rrkP3RNDiwWqLySjcoqdFlz7DrFX7RCwwDSxyDqaU=', 1686),\n",
       " ('z3nCVBEHiIbcBhhxU2mOz5iWK4a7sUdGmRSPFM16G0=', 1666),\n",
       " ('47448563', 693),\n",
       " ('EOkiPW6kT+GE5A2wU5mqPe7hiK8s7Cr0tfCybFsz2Sg=', 635),\n",
       " ('2467791', 608),\n",
       " ('2836421', 540),\n",
       " ('QXyUcPxvoQ+uzkqCj6O+AT9nUf3Avh0JTvwTG9GncQk=', 529),\n",
       " ('138212728', 513),\n",
       " ('790728', 487),\n",
       " ('410718052', 475),\n",
       " ('128262354', 420),\n",
       " ('irXcL8Y80STibhjlS3a48BahFUg3yqPT+XtTxkpLL8I=', 350),\n",
       " ('BYaaZkKxjVQjhsnn9REZ0UcFoEHl+tKnzJ+0Hv+Pg=', 344),\n",
       " ('1285276850411864065', 316),\n",
       " ('5bXQzilfbR70wndojgGtIlSmUsL8W8RbAPssGLY0Y=', 302),\n",
       " ('1009577803304656896', 298),\n",
       " ('818910970567344128', 295),\n",
       " ('374729426', 291)]"
      ]
     },
     "execution_count": 20,
     "metadata": {},
     "output_type": "execute_result"
    }
   ],
   "source": [
    "most_replied = top_nodes(nx.get_node_attributes(re_graph, 'in_degree'),limit=20)\n",
    "most_replied"
   ]
  },
  {
   "cell_type": "code",
   "execution_count": 21,
   "metadata": {},
   "outputs": [
    {
     "data": {
      "text/html": [
       "<div>\n",
       "<style scoped>\n",
       "    .dataframe tbody tr th:only-of-type {\n",
       "        vertical-align: middle;\n",
       "    }\n",
       "\n",
       "    .dataframe tbody tr th {\n",
       "        vertical-align: top;\n",
       "    }\n",
       "\n",
       "    .dataframe thead th {\n",
       "        text-align: right;\n",
       "    }\n",
       "</style>\n",
       "<table border=\"1\" class=\"dataframe\">\n",
       "  <thead>\n",
       "    <tr style=\"text-align: right;\">\n",
       "      <th></th>\n",
       "      <th>user_display_name</th>\n",
       "      <th>user_reported_location</th>\n",
       "      <th>user_profile_description</th>\n",
       "      <th>follower_count</th>\n",
       "      <th>following_count</th>\n",
       "    </tr>\n",
       "    <tr>\n",
       "      <th>userid</th>\n",
       "      <th></th>\n",
       "      <th></th>\n",
       "      <th></th>\n",
       "      <th></th>\n",
       "      <th></th>\n",
       "    </tr>\n",
       "  </thead>\n",
       "  <tbody>\n",
       "    <tr>\n",
       "      <th>rrkP3RNDiwWqLySjcoqdFlz7DrFX7RCwwDSxyDqaU=</th>\n",
       "      <td>rrkP3RNDiwWqLySjcoqdFlz7DrFX7RCwwDSxyDqaU=</td>\n",
       "      <td>&lt;NA&gt;</td>\n",
       "      <td>Treat others the way you'd like to be treated ...</td>\n",
       "      <td>2911</td>\n",
       "      <td>2441</td>\n",
       "    </tr>\n",
       "    <tr>\n",
       "      <th>z3nCVBEHiIbcBhhxU2mOz5iWK4a7sUdGmRSPFM16G0=</th>\n",
       "      <td>z3nCVBEHiIbcBhhxU2mOz5iWK4a7sUdGmRSPFM16G0=</td>\n",
       "      <td>&lt;NA&gt;</td>\n",
       "      <td>in God we Trust</td>\n",
       "      <td>745</td>\n",
       "      <td>794</td>\n",
       "    </tr>\n",
       "  </tbody>\n",
       "</table>\n",
       "</div>"
      ],
      "text/plain": [
       "                                                                       user_display_name  \\\n",
       "userid                                                                                     \n",
       "rrkP3RNDiwWqLySjcoqdFlz7DrFX7RCwwDSxyDqaU=    rrkP3RNDiwWqLySjcoqdFlz7DrFX7RCwwDSxyDqaU=   \n",
       "z3nCVBEHiIbcBhhxU2mOz5iWK4a7sUdGmRSPFM16G0=  z3nCVBEHiIbcBhhxU2mOz5iWK4a7sUdGmRSPFM16G0=   \n",
       "\n",
       "                                            user_reported_location  \\\n",
       "userid                                                               \n",
       "rrkP3RNDiwWqLySjcoqdFlz7DrFX7RCwwDSxyDqaU=                    <NA>   \n",
       "z3nCVBEHiIbcBhhxU2mOz5iWK4a7sUdGmRSPFM16G0=                   <NA>   \n",
       "\n",
       "                                                                      user_profile_description  \\\n",
       "userid                                                                                           \n",
       "rrkP3RNDiwWqLySjcoqdFlz7DrFX7RCwwDSxyDqaU=   Treat others the way you'd like to be treated ...   \n",
       "z3nCVBEHiIbcBhhxU2mOz5iWK4a7sUdGmRSPFM16G0=                                    in God we Trust   \n",
       "\n",
       "                                             follower_count  following_count  \n",
       "userid                                                                        \n",
       "rrkP3RNDiwWqLySjcoqdFlz7DrFX7RCwwDSxyDqaU=             2911             2441  \n",
       "z3nCVBEHiIbcBhhxU2mOz5iWK4a7sUdGmRSPFM16G0=             745              794  "
      ]
     },
     "execution_count": 21,
     "metadata": {},
     "output_type": "execute_result"
    }
   ],
   "source": [
    "common_users = [userid for userid in dict(most_replied).keys() \n",
    "                if userid in dict(most_replies).keys()]\n",
    "(campaign_users\n",
    " .loc[common_users][fields]\n",
    ")"
   ]
  },
  {
   "cell_type": "code",
   "execution_count": 29,
   "metadata": {},
   "outputs": [
    {
     "data": {
      "text/plain": [
       "[('213589457', 42752),\n",
       " ('1235289416370774016', 23375),\n",
       " ('0zCl5U0pYu0gEmK3JtjO5fbnxEj6pO9GUgH52Q6yg0E=', 23120),\n",
       " ('T8AyWQK3ajadJJL2J+OJovSr4z+rpoK4LqM6ob+wTw=', 22923),\n",
       " ('etDaWEjMPleueDrpkatPUSCApc6yU8W95+yZYWzVxSY=', 14665),\n",
       " ('1067814896706994176', 11811),\n",
       " ('WFMM2eW8YAMex3B1z4P8vxx0OvkEJvFCx9l0uYGMqug=', 8936),\n",
       " ('XpT328jUSYUJJM4Bt0HmKSJ8d8rJWgkBkQhdff62skE=', 8023),\n",
       " ('A8dbNc6R+dK0Ml02nrs1gjJKz9HIHRqLkcIixDiREoM=', 7997),\n",
       " ('1091795789263921152', 6760),\n",
       " ('fOKnPXaJon5pH9ZoHgWWQG+L1TdWue7y5OAPSPhLZs=', 5706),\n",
       " ('rrkP3RNDiwWqLySjcoqdFlz7DrFX7RCwwDSxyDqaU=', 5413),\n",
       " ('79Tf6XH3DwjdUWGO4aQWghSj5G2esetBnePoOBB3wYM=', 5110),\n",
       " ('z3nCVBEHiIbcBhhxU2mOz5iWK4a7sUdGmRSPFM16G0=', 4412),\n",
       " ('6qhrzJLryTiE7VlJkmY+cKE5VsITiaFwMA7s3Dr5I=', 4296),\n",
       " ('ihPCMQ32xEzpD35Et9IH4HO21XKiWdSJreVg+pHT5o=', 3923),\n",
       " ('BYaaZkKxjVQjhsnn9REZ0UcFoEHl+tKnzJ+0Hv+Pg=', 3868),\n",
       " ('1099221870530961408', 3479),\n",
       " ('wqcue0aByZjWGy2aKzh3IiKOK3urEeCGmRPpbpfvPBc=', 3433),\n",
       " ('794097607845015552', 3380)]"
      ]
     },
     "execution_count": 29,
     "metadata": {},
     "output_type": "execute_result"
    }
   ],
   "source": [
    "most_mentioning = top_nodes(nx.get_node_attributes(mention_graph, 'out_degree'),limit=20)\n",
    "most_mentioning"
   ]
  },
  {
   "cell_type": "code",
   "execution_count": 30,
   "metadata": {
    "scrolled": true
   },
   "outputs": [
    {
     "data": {
      "text/plain": [
       "[('10228272', 34405),\n",
       " ('25073877', 7660),\n",
       " ('759251', 5409),\n",
       " ('irXcL8Y80STibhjlS3a48BahFUg3yqPT+XtTxkpLL8I=', 4901),\n",
       " (' 25073877', 3219),\n",
       " ('Bl9IUxp6GStTkiNGbhfBJM9xu85e3Y9BQdNd97GFAI=', 2744),\n",
       " ('5bXQzilfbR70wndojgGtIlSmUsL8W8RbAPssGLY0Y=', 2573),\n",
       " ('etDaWEjMPleueDrpkatPUSCApc6yU8W95+yZYWzVxSY=', 1964),\n",
       " ('1172112779815399424', 1759),\n",
       " ('1252764865', 1688),\n",
       " ('150573137', 976),\n",
       " ('1640929196', 727),\n",
       " ('47448563', 700),\n",
       " (' 939091', 694),\n",
       " ('1212304197627998209', 675),\n",
       " ('2467791', 647),\n",
       " ('1215636956291510274', 626),\n",
       " ('iMu6Ukwlry6PiiRnPSE710AKRlyOVlncYVaHAY9tRU4=', 625),\n",
       " ('1175350204628787200', 611),\n",
       " ('1009577803304656896', 601)]"
      ]
     },
     "execution_count": 30,
     "metadata": {},
     "output_type": "execute_result"
    }
   ],
   "source": [
    "most_mentioned = top_nodes(nx.get_node_attributes(mention_graph, 'in_degree'),limit=20)\n",
    "most_mentioned"
   ]
  },
  {
   "cell_type": "code",
   "execution_count": 31,
   "metadata": {},
   "outputs": [
    {
     "data": {
      "text/html": [
       "<div>\n",
       "<style scoped>\n",
       "    .dataframe tbody tr th:only-of-type {\n",
       "        vertical-align: middle;\n",
       "    }\n",
       "\n",
       "    .dataframe tbody tr th {\n",
       "        vertical-align: top;\n",
       "    }\n",
       "\n",
       "    .dataframe thead th {\n",
       "        text-align: right;\n",
       "    }\n",
       "</style>\n",
       "<table border=\"1\" class=\"dataframe\">\n",
       "  <thead>\n",
       "    <tr style=\"text-align: right;\">\n",
       "      <th></th>\n",
       "      <th>user_display_name</th>\n",
       "      <th>user_reported_location</th>\n",
       "      <th>user_profile_description</th>\n",
       "      <th>follower_count</th>\n",
       "      <th>following_count</th>\n",
       "    </tr>\n",
       "    <tr>\n",
       "      <th>userid</th>\n",
       "      <th></th>\n",
       "      <th></th>\n",
       "      <th></th>\n",
       "      <th></th>\n",
       "      <th></th>\n",
       "    </tr>\n",
       "  </thead>\n",
       "  <tbody>\n",
       "    <tr>\n",
       "      <th>etDaWEjMPleueDrpkatPUSCApc6yU8W95+yZYWzVxSY=</th>\n",
       "      <td>etDaWEjMPleueDrpkatPUSCApc6yU8W95+yZYWzVxSY=</td>\n",
       "      <td>Jakarta</td>\n",
       "      <td>Pejuang keadilan 💪✊🇮🇩\n",
       "\n",
       "Yang belum kefollow, in...</td>\n",
       "      <td>4436</td>\n",
       "      <td>2613</td>\n",
       "    </tr>\n",
       "  </tbody>\n",
       "</table>\n",
       "</div>"
      ],
      "text/plain": [
       "                                                                         user_display_name  \\\n",
       "userid                                                                                       \n",
       "etDaWEjMPleueDrpkatPUSCApc6yU8W95+yZYWzVxSY=  etDaWEjMPleueDrpkatPUSCApc6yU8W95+yZYWzVxSY=   \n",
       "\n",
       "                                             user_reported_location  \\\n",
       "userid                                                                \n",
       "etDaWEjMPleueDrpkatPUSCApc6yU8W95+yZYWzVxSY=                Jakarta   \n",
       "\n",
       "                                                                       user_profile_description  \\\n",
       "userid                                                                                            \n",
       "etDaWEjMPleueDrpkatPUSCApc6yU8W95+yZYWzVxSY=  Pejuang keadilan 💪✊🇮🇩\n",
       "\n",
       "Yang belum kefollow, in...   \n",
       "\n",
       "                                              follower_count  following_count  \n",
       "userid                                                                         \n",
       "etDaWEjMPleueDrpkatPUSCApc6yU8W95+yZYWzVxSY=            4436             2613  "
      ]
     },
     "execution_count": 31,
     "metadata": {},
     "output_type": "execute_result"
    }
   ],
   "source": [
    "common_users = [userid for userid in dict(most_mentioned).keys() \n",
    "                if userid in dict(most_mentioning).keys()]\n",
    "(campaign_users\n",
    " .loc[common_users][fields]\n",
    ")"
   ]
  },
  {
   "cell_type": "markdown",
   "metadata": {},
   "source": [
    "### Density, clustering, transitivity\n",
    "\n",
    "Measuring the tendency for nodes to cluster together or for edges to form triangles: this corresponds to measures of the extent to which the users interacting with one particular user tend to interact with each other as well. These metrics can provide insight into how users tend to create groups characterized by dense connections.\n",
    "\n",
    "- Density describes the ratio of graph edges to the number of edges if the graph were fully connected.\n",
    "\n",
    "- The clustering coefficient is calculated as the number of triangles connected to node $i$ divided by the number of sets of two edges connected to node $i$ (node triples). \n",
    "\n",
    "- The transitivity coefficient is calculated as 3 times the number of triangles in the network, divided by the number of connected triples of nodes in the network. Transitivity weights nodes with a large degree higher."
   ]
  },
  {
   "cell_type": "code",
   "execution_count": 22,
   "metadata": {},
   "outputs": [],
   "source": [
    "digraph = nx.DiGraph(rt_graph)"
   ]
  },
  {
   "cell_type": "code",
   "execution_count": 23,
   "metadata": {},
   "outputs": [
    {
     "name": "stdout",
     "output_type": "stream",
     "text": [
      "Retweets:\n",
      "Density: 8.540311915515041e-08\n",
      "Average clustering coefficient: 0.00037529907717083943\n",
      "Transitivity: 0.6254199328107503\n"
     ]
    }
   ],
   "source": [
    "print('Retweets:')\n",
    "out = 'Density: {}'.format(nx.density(digraph))\n",
    "print(out)\n",
    "out = \"Average clustering coefficient: {}\".format(nx.average_clustering(digraph))\n",
    "print(out)\n",
    "out = \"Transitivity: {}\".format(nx.transitivity(digraph))\n",
    "print(out)"
   ]
  },
  {
   "cell_type": "markdown",
   "metadata": {},
   "source": [
    "### Other attributes"
   ]
  },
  {
   "cell_type": "code",
   "execution_count": 24,
   "metadata": {},
   "outputs": [],
   "source": [
    "def add_undirected_attributes(G):\n",
    "    \n",
    "    G.graph['connected_components'] = nx.number_connected_components(graph)\n",
    "    \n",
    "    clustering_coeffs = nx.clustering(graph)\n",
    "    G.graph['avg_clust'] = (sum(clustering_coeffs.values()) \n",
    "                             / len(clustering_coeffs)) "
   ]
  },
  {
   "cell_type": "code",
   "execution_count": 25,
   "metadata": {},
   "outputs": [],
   "source": [
    "graph = nx.Graph(rt_graph)\n",
    "add_undirected_attributes(graph)"
   ]
  },
  {
   "cell_type": "code",
   "execution_count": 26,
   "metadata": {},
   "outputs": [
    {
     "name": "stdout",
     "output_type": "stream",
     "text": [
      "Connected components: 61056\n",
      "Avg. clustering coefficient: 0.0004933720185999085\n"
     ]
    }
   ],
   "source": [
    "out = 'Connected components: {}'.format(nx.number_connected_components(graph))\n",
    "print(out)\n",
    "\n",
    "clustering_coeffs = nx.clustering(graph)\n",
    "out = 'Avg. clustering coefficient: {}'.format(sum(clustering_coeffs.values()) \n",
    "                             / len(clustering_coeffs))\n",
    "print(out)"
   ]
  },
  {
   "cell_type": "markdown",
   "metadata": {},
   "source": [
    "### Centrality\n",
    "\n",
    "Capture the importance of a node's position in the network considering: \n",
    "- degree, on the assumption that an important node will have many connections\n",
    "- closeness, on the assumption that important nodes are close to other nodes"
   ]
  },
  {
   "cell_type": "code",
   "execution_count": 27,
   "metadata": {},
   "outputs": [
    {
     "data": {
      "text/plain": [
       "[('v6groR3jb3Pkm5X9ccSwgoPnmlZzKEkx5bsc1XQHb0=', 0.0003108842201714772),\n",
       " ('etDaWEjMPleueDrpkatPUSCApc6yU8W95+yZYWzVxSY=', 0.00027815956541658485),\n",
       " ('1067814896706994176', 0.00026179723803913867),\n",
       " ('79Tf6XH3DwjdUWGO4aQWghSj5G2esetBnePoOBB3wYM=', 0.00026179723803913867),\n",
       " ('Bl9IUxp6GStTkiNGbhfBJM9xu85e3Y9BQdNd97GFAI=', 0.00026179723803913867)]"
      ]
     },
     "execution_count": 27,
     "metadata": {},
     "output_type": "execute_result"
    }
   ],
   "source": [
    "graph_centrality = nx.degree_centrality(graph)\n",
    "sorted(graph_centrality.items(), \n",
    "       key=lambda item: item[1],\n",
    "       reverse=True)[:5]"
   ]
  },
  {
   "cell_type": "code",
   "execution_count": 28,
   "metadata": {},
   "outputs": [
    {
     "data": {
      "text/plain": [
       "[('y3KkURpZFjT+WeW9e6BcxBYRg311F8fz1eJ647ahQc=', 0.00033293176299362923),\n",
       " ('wBrHiyqOL5uBhytBGwy2W3A8nDXyRNfgAXfqXn3e0GY=', 0.0003220159674856414),\n",
       " ('79Tf6XH3DwjdUWGO4aQWghSj5G2esetBnePoOBB3wYM=', 0.00029989273307823094),\n",
       " ('z3nCVBEHiIbcBhhxU2mOz5iWK4a7sUdGmRSPFM16G0=', 0.00029762081843369886),\n",
       " ('v6groR3jb3Pkm5X9ccSwgoPnmlZzKEkx5bsc1XQHb0=', 0.0002931787166660317)]"
      ]
     },
     "execution_count": 28,
     "metadata": {},
     "output_type": "execute_result"
    }
   ],
   "source": [
    "graph_closeness = nx.closeness_centrality(graph)\n",
    "sorted(graph_closeness.items(),\n",
    "       key=lambda item: item[1],\n",
    "       reverse=True)[:5]"
   ]
  },
  {
   "cell_type": "markdown",
   "metadata": {},
   "source": [
    "## To do\n",
    "- In general, these measures reflect the sparsity of connections among users in the total user graph. Further analysis could search for denser subsets of the overall graph.\n",
    "- Removal of outliers, e.g. for more meaningful statistics on in/out degree"
   ]
  }
 ],
 "metadata": {
  "kernelspec": {
   "display_name": "Python 3",
   "language": "python",
   "name": "python3"
  },
  "language_info": {
   "codemirror_mode": {
    "name": "ipython",
    "version": 3
   },
   "file_extension": ".py",
   "mimetype": "text/x-python",
   "name": "python",
   "nbconvert_exporter": "python",
   "pygments_lexer": "ipython3",
   "version": "3.7.6"
  }
 },
 "nbformat": 4,
 "nbformat_minor": 4
}
