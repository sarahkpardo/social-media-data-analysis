{
 "cells": [
  {
   "cell_type": "code",
   "execution_count": null,
   "metadata": {
    "scrolled": true
   },
   "outputs": [],
   "source": [
    "!pip install tensorflow\n",
    "!pip install tokenizers\n",
    "!pip install transformers"
   ]
  },
  {
   "cell_type": "code",
   "execution_count": 1,
   "metadata": {},
   "outputs": [],
   "source": [
    "import collections\n",
    "from collections import defaultdict\n",
    "import csv\n",
    "import functools\n",
    "import itertools\n",
    "import re\n",
    "import string\n",
    "import timeit\n",
    "from timeit import default_timer\n",
    "import urllib.request\n",
    "\n",
    "import matplotlib.pyplot as plt\n",
    "import numpy as np\n",
    "import pandas as pd\n",
    "from scipy.spatial.distance import cosine\n",
    "from scipy.special import softmax\n",
    "from transformers import AutoModelForSequenceClassification\n",
    "from transformers import TFAutoModelForSequenceClassification\n",
    "from transformers import AutoTokenizer, AutoModel, TFAutoModel\n",
    "\n",
    "from utils import *\n",
    "from topic_utils import *"
   ]
  },
  {
   "cell_type": "markdown",
   "metadata": {},
   "source": [
    "### Data"
   ]
  },
  {
   "cell_type": "code",
   "execution_count": 2,
   "metadata": {},
   "outputs": [],
   "source": [
    "users = UsersData('data/users')\n",
    "tweets = TweetsData('data/tweets')"
   ]
  },
  {
   "cell_type": "code",
   "execution_count": 3,
   "metadata": {},
   "outputs": [],
   "source": [
    "df = tweets.df.loc[:][:]\n",
    "user_df = users.df.loc[:][:]"
   ]
  },
  {
   "cell_type": "code",
   "execution_count": 4,
   "metadata": {},
   "outputs": [],
   "source": [
    "campaign = df[df['campaign'] == 'iran202012']\n",
    "campaign_users = user_df[user_df['campaign'] == 'iran202012']"
   ]
  },
  {
   "cell_type": "markdown",
   "metadata": {},
   "source": [
    "# Sentiment Analysis"
   ]
  },
  {
   "cell_type": "markdown",
   "metadata": {},
   "source": [
    "Download the Cardiff NLP Twitter pre-trained roBERTa base model:"
   ]
  },
  {
   "cell_type": "code",
   "execution_count": 5,
   "metadata": {},
   "outputs": [
    {
     "name": "stderr",
     "output_type": "stream",
     "text": [
      "All model checkpoint layers were used when initializing TFRobertaForSequenceClassification.\n",
      "\n",
      "All the layers of TFRobertaForSequenceClassification were initialized from the model checkpoint at cardiffnlp/twitter-roberta-base-sentiment.\n",
      "If your task is similar to the task the model of the checkpoint was trained on, you can already use TFRobertaForSequenceClassification for predictions without further training.\n"
     ]
    },
    {
     "data": {
      "text/plain": [
       "3"
      ]
     },
     "execution_count": 5,
     "metadata": {},
     "output_type": "execute_result"
    }
   ],
   "source": [
    "task = 'sentiment'\n",
    "\n",
    "MODEL = \"cardiffnlp/twitter-roberta-base-{}\".format(task)\n",
    "model = TFAutoModelForSequenceClassification.from_pretrained(MODEL)\n",
    "\n",
    "tokenizer = AutoTokenizer.from_pretrained(MODEL)\n",
    "tokenizer.add_tokens([\"[HTAG]\", \"[URL]\", \"[AT]\"])"
   ]
  },
  {
   "cell_type": "code",
   "execution_count": 6,
   "metadata": {},
   "outputs": [
    {
     "data": {
      "text/plain": [
       "['negative', 'neutral', 'positive']"
      ]
     },
     "execution_count": 6,
     "metadata": {},
     "output_type": "execute_result"
    }
   ],
   "source": [
    "# label mapping\n",
    "mapping_link = f\"https://raw.githubusercontent.com/cardiffnlp/tweeteval/main/datasets/{task}/mapping.txt\"\n",
    "\n",
    "with urllib.request.urlopen(mapping_link) as f:\n",
    "    html = f.read().decode('utf-8').split(\"\\n\")\n",
    "    csvreader = csv.reader(html, delimiter='\\t')\n",
    "\n",
    "labels = [row[1] for row in csvreader if len(row) > 1]\n",
    "labels"
   ]
  },
  {
   "cell_type": "markdown",
   "metadata": {},
   "source": [
    "Choose level of analysis: here we will test adding a sentiment label to individual tweets."
   ]
  },
  {
   "cell_type": "code",
   "execution_count": 9,
   "metadata": {},
   "outputs": [],
   "source": [
    "string_agg = lambda x: list(x)\n",
    "\n",
    "user_tweets = (campaign\n",
    "               .groupby(['userid'])[['tweet_text']]\n",
    "               .agg(string_agg)\n",
    "              )"
   ]
  },
  {
   "cell_type": "code",
   "execution_count": 10,
   "metadata": {},
   "outputs": [],
   "source": [
    "documents = (user_tweets\n",
    "             .loc[:]['tweet_text']\n",
    "            )"
   ]
  },
  {
   "cell_type": "code",
   "execution_count": 11,
   "metadata": {},
   "outputs": [
    {
     "data": {
      "text/plain": [
       "['America and the way its government treats its people must be reformed https://t.co/DupN3cE2dd',\n",
       " 'https://t.co/ee5KZJMm5R',\n",
       " 'Portland Police Bureau is preparing for a variety of mass gathering events being planned for Saturday, September 26, 2020. At this time, one group has been announced they will hold an event at Delta Park at noon.  #PoliceLivesMatter  #Polizeigewalt  #Portland  #PortlandProtests https://t.co/3JSoa0UcOL',\n",
       " 'Why lies ..... why hypocrisy .... why security forces .... why racism ..... why cut budgets .... to deceive people    No Trump       No No   No #ARMY  #COVIDー19  #Biden #Trump https://t.co/v1WYXyidzJ',\n",
       " 'Difference #Biden https://t.co/Vl5lB7q2l6',\n",
       " 'He has destroyed every busines......🐂🐃🐃🐃🐃🐃 #TrumpMeltdown https://t.co/tKrPEdujCZ',\n",
       " 'Even if the power to negotiate deals is handed over to the presidency, Congress will still have the final say, and judging by the current political climate, Johnson will not fire him this time #Trump  #Covid_19  #DemocracyDay https://t.co/25ovVSWAFJ',\n",
       " 'Trump ...Trump\\n\\n..trump #Trump https://t.co/vHAZyS0LeZ',\n",
       " '#BlacklivesStillMatter  #BlackLivesMatter https://t.co/XQT3V5vGHZ',\n",
       " 'Yes, Biden ..... not Trump #BidenHarrisLandslide2020 https://t.co/TPYT11Zb4U']"
      ]
     },
     "execution_count": 11,
     "metadata": {},
     "output_type": "execute_result"
    }
   ],
   "source": [
    "test = documents[0][:10]\n",
    "test"
   ]
  },
  {
   "cell_type": "code",
   "execution_count": 12,
   "metadata": {},
   "outputs": [],
   "source": [
    "def get_sentiment(documents):\n",
    "    \n",
    "    sentiments = []\n",
    "\n",
    "    for doc in documents:\n",
    "        encoded_input = tokenizer(doc, return_tensors='tf')\n",
    "        output = model(encoded_input)\n",
    "        scores = output[0][0].numpy()\n",
    "        scores = softmax(scores)\n",
    "\n",
    "        sentiments.append(labels[np.argmax(scores)])\n",
    "\n",
    "    return dict(zip(documents, sentiments))"
   ]
  },
  {
   "cell_type": "code",
   "execution_count": 13,
   "metadata": {},
   "outputs": [
    {
     "data": {
      "text/plain": [
       "{'America and the way its government treats its people must be reformed https://t.co/DupN3cE2dd': 'negative',\n",
       " 'https://t.co/ee5KZJMm5R': 'neutral',\n",
       " 'Portland Police Bureau is preparing for a variety of mass gathering events being planned for Saturday, September 26, 2020. At this time, one group has been announced they will hold an event at Delta Park at noon.  #PoliceLivesMatter  #Polizeigewalt  #Portland  #PortlandProtests https://t.co/3JSoa0UcOL': 'neutral',\n",
       " 'Why lies ..... why hypocrisy .... why security forces .... why racism ..... why cut budgets .... to deceive people    No Trump       No No   No #ARMY  #COVIDー19  #Biden #Trump https://t.co/v1WYXyidzJ': 'negative',\n",
       " 'Difference #Biden https://t.co/Vl5lB7q2l6': 'neutral',\n",
       " 'He has destroyed every busines......🐂🐃🐃🐃🐃🐃 #TrumpMeltdown https://t.co/tKrPEdujCZ': 'negative',\n",
       " 'Even if the power to negotiate deals is handed over to the presidency, Congress will still have the final say, and judging by the current political climate, Johnson will not fire him this time #Trump  #Covid_19  #DemocracyDay https://t.co/25ovVSWAFJ': 'neutral',\n",
       " 'Trump ...Trump\\n\\n..trump #Trump https://t.co/vHAZyS0LeZ': 'neutral',\n",
       " '#BlacklivesStillMatter  #BlackLivesMatter https://t.co/XQT3V5vGHZ': 'neutral',\n",
       " 'Yes, Biden ..... not Trump #BidenHarrisLandslide2020 https://t.co/TPYT11Zb4U': 'neutral'}"
      ]
     },
     "execution_count": 13,
     "metadata": {},
     "output_type": "execute_result"
    }
   ],
   "source": [
    "with_sentiment = get_sentiment(test)\n",
    "with_sentiment"
   ]
  },
  {
   "cell_type": "code",
   "execution_count": null,
   "metadata": {},
   "outputs": [],
   "source": []
  },
  {
   "cell_type": "markdown",
   "metadata": {},
   "source": [
    "Find percent positive/negative/neutral for all campaign tweets:"
   ]
  },
  {
   "cell_type": "code",
   "execution_count": 30,
   "metadata": {},
   "outputs": [],
   "source": [
    "def get_sentiment_apply(document):\n",
    "    \"\"\"Usage: df.apply(get_sentiment_apply)\"\"\"\n",
    "    encoded_input = tokenizer(document, return_tensors='tf')\n",
    "    output = model(encoded_input)\n",
    "    scores = output[0][0].numpy()\n",
    "    scores = softmax(scores)\n",
    "\n",
    "    return labels[np.argmax(scores)]#, np.max(scores)"
   ]
  },
  {
   "cell_type": "code",
   "execution_count": 37,
   "metadata": {},
   "outputs": [
    {
     "name": "stdout",
     "output_type": "stream",
     "text": [
      "elapsed: 146.13301213801606\n"
     ]
    }
   ],
   "source": [
    "t1 = default_timer()\n",
    "\n",
    "sentiment = (campaign['tweet_text']\n",
    "             .iloc[:1000]\n",
    "             .apply(get_sentiment_apply)\n",
    "            )\n",
    "print('elapsed: {}'.format(default_timer() - t1))"
   ]
  },
  {
   "cell_type": "code",
   "execution_count": 53,
   "metadata": {},
   "outputs": [],
   "source": [
    "df_abbrv = pd.DataFrame(campaign['tweet_text'].iloc[:1000])\n",
    "df_abbrv['sentiment'] = sentiment"
   ]
  },
  {
   "cell_type": "code",
   "execution_count": 54,
   "metadata": {},
   "outputs": [
    {
     "data": {
      "text/html": [
       "<div>\n",
       "<style scoped>\n",
       "    .dataframe tbody tr th:only-of-type {\n",
       "        vertical-align: middle;\n",
       "    }\n",
       "\n",
       "    .dataframe tbody tr th {\n",
       "        vertical-align: top;\n",
       "    }\n",
       "\n",
       "    .dataframe thead th {\n",
       "        text-align: right;\n",
       "    }\n",
       "</style>\n",
       "<table border=\"1\" class=\"dataframe\">\n",
       "  <thead>\n",
       "    <tr style=\"text-align: right;\">\n",
       "      <th></th>\n",
       "      <th>tweet_text</th>\n",
       "      <th>sentiment</th>\n",
       "    </tr>\n",
       "    <tr>\n",
       "      <th>tweetid</th>\n",
       "      <th></th>\n",
       "      <th></th>\n",
       "    </tr>\n",
       "  </thead>\n",
       "  <tbody>\n",
       "    <tr>\n",
       "      <th>1271764746983952390</th>\n",
       "      <td>Tous ces gens qui s'en prennent à #Colbert alo...</td>\n",
       "      <td>neutral</td>\n",
       "    </tr>\n",
       "    <tr>\n",
       "      <th>907991739713118208</th>\n",
       "      <td>Why there's a bird sound? And why it's upside ...</td>\n",
       "      <td>neutral</td>\n",
       "    </tr>\n",
       "    <tr>\n",
       "      <th>1277789135470768129</th>\n",
       "      <td>Malawi is using bamboo to fight #climatechange...</td>\n",
       "      <td>positive</td>\n",
       "    </tr>\n",
       "    <tr>\n",
       "      <th>137282411095539712</th>\n",
       "      <td>terpikir terus bayanganmu..</td>\n",
       "      <td>neutral</td>\n",
       "    </tr>\n",
       "    <tr>\n",
       "      <th>1314271851988873251</th>\n",
       "      <td>😷Right in the middle of an illness😷 ..... #Bla...</td>\n",
       "      <td>neutral</td>\n",
       "    </tr>\n",
       "    <tr>\n",
       "      <th>...</th>\n",
       "      <td>...</td>\n",
       "      <td>...</td>\n",
       "    </tr>\n",
       "    <tr>\n",
       "      <th>1273570739535392768</th>\n",
       "      <td>Over a thousand turn out to mourn Mr. Leung, t...</td>\n",
       "      <td>negative</td>\n",
       "    </tr>\n",
       "    <tr>\n",
       "      <th>1143385775842762752</th>\n",
       "      <td>#TheInvestigation is a magnificent 70-minute t...</td>\n",
       "      <td>positive</td>\n",
       "    </tr>\n",
       "    <tr>\n",
       "      <th>1178802943816032256</th>\n",
       "      <td>Pompeo took part in Trump-Zelensky call: repor...</td>\n",
       "      <td>negative</td>\n",
       "    </tr>\n",
       "    <tr>\n",
       "      <th>1142062694046019591</th>\n",
       "      <td>President Donald Trump downplayed Iran’s attac...</td>\n",
       "      <td>negative</td>\n",
       "    </tr>\n",
       "    <tr>\n",
       "      <th>1258377516491902978</th>\n",
       "      <td>Are you agree with this pic or not? Why?\n",
       "#Pale...</td>\n",
       "      <td>neutral</td>\n",
       "    </tr>\n",
       "  </tbody>\n",
       "</table>\n",
       "<p>1000 rows × 2 columns</p>\n",
       "</div>"
      ],
      "text/plain": [
       "                                                            tweet_text  \\\n",
       "tweetid                                                                  \n",
       "1271764746983952390  Tous ces gens qui s'en prennent à #Colbert alo...   \n",
       "907991739713118208   Why there's a bird sound? And why it's upside ...   \n",
       "1277789135470768129  Malawi is using bamboo to fight #climatechange...   \n",
       "137282411095539712                         terpikir terus bayanganmu..   \n",
       "1314271851988873251  😷Right in the middle of an illness😷 ..... #Bla...   \n",
       "...                                                                ...   \n",
       "1273570739535392768  Over a thousand turn out to mourn Mr. Leung, t...   \n",
       "1143385775842762752  #TheInvestigation is a magnificent 70-minute t...   \n",
       "1178802943816032256  Pompeo took part in Trump-Zelensky call: repor...   \n",
       "1142062694046019591  President Donald Trump downplayed Iran’s attac...   \n",
       "1258377516491902978  Are you agree with this pic or not? Why?\n",
       "#Pale...   \n",
       "\n",
       "                    sentiment  \n",
       "tweetid                        \n",
       "1271764746983952390   neutral  \n",
       "907991739713118208    neutral  \n",
       "1277789135470768129  positive  \n",
       "137282411095539712    neutral  \n",
       "1314271851988873251   neutral  \n",
       "...                       ...  \n",
       "1273570739535392768  negative  \n",
       "1143385775842762752  positive  \n",
       "1178802943816032256  negative  \n",
       "1142062694046019591  negative  \n",
       "1258377516491902978   neutral  \n",
       "\n",
       "[1000 rows x 2 columns]"
      ]
     },
     "execution_count": 54,
     "metadata": {},
     "output_type": "execute_result"
    }
   ],
   "source": [
    "df_abbrv"
   ]
  },
  {
   "cell_type": "markdown",
   "metadata": {},
   "source": [
    "## Cosine similarity"
   ]
  },
  {
   "cell_type": "code",
   "execution_count": 56,
   "metadata": {},
   "outputs": [],
   "source": [
    "def get_embedding(text, model):\n",
    "    text = preprocess_string(text)    \n",
    "    encoded_input = tokenizer(text, return_tensors='pt')\n",
    "    \n",
    "    features = model(**encoded_input)\n",
    "    features = features[0].detach().cpu().numpy() \n",
    "    features_mean = np.mean(features[0], axis=0) \n",
    "    \n",
    "    return features_mean"
   ]
  },
  {
   "cell_type": "code",
   "execution_count": 65,
   "metadata": {},
   "outputs": [
    {
     "data": {
      "text/plain": [
       "['America and the way its government treats its people must be reformed https://t.co/DupN3cE2dd',\n",
       " 'https://t.co/ee5KZJMm5R',\n",
       " 'Portland Police Bureau is preparing for a variety of mass gathering events being planned for Saturday, September 26, 2020. At this time, one group has been announced they will hold an event at Delta Park at noon.  #PoliceLivesMatter  #Polizeigewalt  #Portland  #PortlandProtests https://t.co/3JSoa0UcOL',\n",
       " 'Why lies ..... why hypocrisy .... why security forces .... why racism ..... why cut budgets .... to deceive people    No Trump       No No   No #ARMY  #COVIDー19  #Biden #Trump https://t.co/v1WYXyidzJ',\n",
       " 'Difference #Biden https://t.co/Vl5lB7q2l6',\n",
       " 'He has destroyed every busines......🐂🐃🐃🐃🐃🐃 #TrumpMeltdown https://t.co/tKrPEdujCZ',\n",
       " 'Even if the power to negotiate deals is handed over to the presidency, Congress will still have the final say, and judging by the current political climate, Johnson will not fire him this time #Trump  #Covid_19  #DemocracyDay https://t.co/25ovVSWAFJ',\n",
       " 'Trump ...Trump\\n\\n..trump #Trump https://t.co/vHAZyS0LeZ',\n",
       " '#BlacklivesStillMatter  #BlackLivesMatter https://t.co/XQT3V5vGHZ',\n",
       " 'Yes, Biden ..... not Trump #BidenHarrisLandslide2020 https://t.co/TPYT11Zb4U',\n",
       " '..........and.............😭😭😭 #ThursdayThoughts https://t.co/WHWxf5D44L',\n",
       " 'Democratic Presidential Nominee Joe Biden had also warned Johnson that either he will respect Northern Ireland’s peace agreement or else he will get no U.S. trade deal. #HappyChenDay\\n #Trump #Covid19',\n",
       " 'Why should racism exist in America? For example, we are the first country in the world #Trump https://t.co/spSLY2UY47',\n",
       " 'Who is the idiot ... the one who extended the corona .... who is Trump according to Pelosi Corona herself #COVIDー19 https://t.co/Y5TRDpoZ6M',\n",
       " 'https://t.co/SRByuzX5jC',\n",
       " 'https://t.co/JVX1MaOxQG',\n",
       " 'Our president is ridiculous .... he is accused of raping a 13-year-old girl ...... #Trump #TrumpisaPedo https://t.co/BD3FsyXITS',\n",
       " 'This photo of racism is complete ........ does not want to be explained #Racism #Army #Democrats\\n #democracyday https://t.co/77OHHpy9qe',\n",
       " 'Are Democrats angry about Trump lying about vaccines?  NO.....NO\\n...NO #Trump2020\\n #COVID__19\\n #coronavirus  #Biden',\n",
       " 'The way to heaven https://t.co/Q1YJF6DZAA',\n",
       " 'https://t.co/gUd7uePIca',\n",
       " '32% reduction in Brazilian exports to the United States ..... Although the Trump administration is proud of its relations with Brazil, in practice it is something else #trump #Biden #TrumpKnew  #TrumpkillsAmericans https://t.co/mseaeJDB7O',\n",
       " 'In America, the law goes hand in hand with the police #seattleprotests https://t.co/n1FCwoCON8',\n",
       " '850 people die every day and Trump tells new lies every day #coronavirus\\n #COVID__19\\n #Covid_19 https://t.co/5CT3Q5AzE8',\n",
       " 'Health wants a long-term plan ... not like the Trump administration a few months ago did not believe in masks after a few months again when coronary heart disease spread .... #Health  #coronavirus  #COVID19 https://t.co/bU2vJxKs67',\n",
       " 'What are your plans for choosing Trump as the successor to the late Lady of American Justice? #trump',\n",
       " 'Corona is for all ages .... Mask is suitable for Corona .... Corona does not have any medicine at the moment #coronavirus https://t.co/5YrHdx72vI',\n",
       " '#Covid_19  #DemocracyDay https://t.co/UZS4xmbHRs',\n",
       " 'Biden and kissing granddaughter magically #Biden #trump #TrumpLandslideVictory2020\\n #BidenHarris2020 https://t.co/QDtqEOJPLU',\n",
       " 'Corona.....#coronavirus https://t.co/LcafZ6T7Fz',\n",
       " 'Deadly germs alert in Texas drinking water #COVIDー19 https://t.co/kB9TVzkdgE',\n",
       " '#COVID19 https://t.co/vcZAdxUnbx',\n",
       " 'https://t.co/Ke59HugLf5',\n",
       " 'Look.....👇😭😭😭😭😭😭 #TrumpTownHall https://t.co/CLpf9940mZ',\n",
       " 'Trump and Corona are destroying America together #Trump\\n #Corona\\n#TrumpPressConference https://t.co/0E1GVkA1ir',\n",
       " 'https://t.co/36dmHri4pG',\n",
       " '#TrumpTownHall https://t.co/WaF778uKj1',\n",
       " 'https://t.co/5hlUTfhf3g',\n",
       " 'smile https://t.co/nkfBCugmoJ',\n",
       " 'https://t.co/YcK6ypfmeQ',\n",
       " 'No important  ⚠More than 70% of Americans say the debates won’t matter much to them, a recent Wall Street Journal/NBC News #TrumpIsNotABillionaire\\n #TrumpTaxes  #Biden #VoteHimOut2020 https://t.co/y3dwMF3EnD',\n",
       " 'My veto protective mask #COVID19 https://t.co/LRxmlOrfN4',\n",
       " '❤😂❤😂❤ https://t.co/piQwxECUhp',\n",
       " 'Trump.....\\n\\n.Where is the vaccine liar? #COVID19 https://t.co/30NRZTXtNp',\n",
       " '#Trump https://t.co/YXBovhSAxr',\n",
       " 'Ginsburg Justice A beautiful dream might come true without Trump, yes without a fool #Biden #trump #BlackLivesMatter https://t.co/j1dVIrkTer',\n",
       " 'https://t.co/22wjWV5D1d',\n",
       " 'Trump is a tyrant ... the return of tyranny if Trump is elected in 2020 #TrumpIsNotABillionaire\\n #TrumpIsBroke\\n #TrumpTaxes https://t.co/tgDv3OzWWj',\n",
       " 'Wear a mask. The situation is bad. Do not listen to this dumb president #COVID__19\\n #coronavirus https://t.co/pwFAWCMy78',\n",
       " 'Think #DemocracyDay https://t.co/xwpL1RWvSx',\n",
       " 'From reality to lies from earth to sky ..... You are not American #ARMY  #trump #COVIDー19  #CoronaWarnApp  #BlackLivesMatter https://t.co/xqFPsiBE7g',\n",
       " 'Thanks  Obama. #DemocracyDay https://t.co/LrRdUgtWyv',\n",
       " 'https://t.co/XmlC8RJCKZ',\n",
       " 'https://t.co/JDbVJ8WGRD',\n",
       " 'Destruction https://t.co/oJFMnFDYO5',\n",
       " 'Why do you blame your shortcomings and your government on the states and condemn them? Trump .... Enough lies #Trump #Biden https://t.co/14wzsyfLtw',\n",
       " 'It just goes over his head whether he has the right to do so or not #DemocratsAreDestroyingAmerica\\n #BlackLivesMatter  #Seattle  #seattleprotests https://t.co/IxVmKrNPBK',\n",
       " 'Why are you lying so much about Trump that the vaccine was not produced in the end of betraying the Americans? #TrumpTownHall https://t.co/t1BeGBPtRa',\n",
       " 'https://t.co/RnIzFTK67y',\n",
       " 'A world proud of the future just for voting correctly #COVID19  #Trump https://t.co/4lJC0a2uXJ',\n",
       " 'https://t.co/JwwkPrT92u',\n",
       " 'https://t.co/eHgMb7kfRP',\n",
       " '❤❤❤❤The Miami Heat team reached the finals. The 6-year high ...... was ❤❤❤❤❤❤❤❤great',\n",
       " 'https://t.co/iunIsU9mAN',\n",
       " 'Corona ....... means an excuse for dismissal. Please see the problems of the economy #COVIDー19  #CoronaWarnApp https://t.co/Aj8VnDGslD',\n",
       " 'https://t.co/Qh74C0z9Ty',\n",
       " 'The CDC director says young people are expanding the corona #coronavirus  #Covid_19 https://t.co/a8ikKsIVBs',\n",
       " 'Racism in a country beyond the claims of humanity ..... is ridiculous #ThursdayThoughts\\n #BlackLivesMatter https://t.co/pTRUz1Xjxk',\n",
       " 'RT @annarmpeters: Deutschland ist, wenn nur 3 Polizist*innen Nazis davon abhalten, den Bundestag zu stürmen, aber Einheiten mit Hunden, Pfe…',\n",
       " 'RT @Shawwwwwn1: No ❤trump......2020 No 💚No💜 #TrumpCrimeFamily https://t.co/uLQ1kF1h8s',\n",
       " '@cnnbrk Yes.....This is awful',\n",
       " 'RT @Baligubadle1: @ProjectLincoln @pjlacasse22 Joe Biden should also have stoped the asteroid from wiping out the dinosaurs',\n",
       " 'RT @SenKamalaHarris: “My most fervent wish is that I will not be replaced until a new president is installed.” – Justice Ruth Bader Ginsbur…',\n",
       " 'RT @schland2014: @Rachet090604 @lonepalm99 @daveinla @Jim622 @JoeBiden The difference is how Trump handled the virus. He is a monster. #Tru…',\n",
       " 'RT @ThomasVanBarnes: All Trump Supporters believe Bidens truths as lies. But Believe Trumps lies as truths..How ironic. I mean most of the…',\n",
       " 'RT @JasonOverstreet: Sick! \\n\\nOne of the most disturbing things about Trump is how he has embraced and attempted to normalize so many distur…',\n",
       " 'RT @ThomasVanBarnes: So Trump supporters are saying \"Go see a therapist\" should we tell them to \"Go see a scientist\"??',\n",
       " '@ThomasVanBarnes Yes❤']"
      ]
     },
     "execution_count": 65,
     "metadata": {},
     "output_type": "execute_result"
    }
   ],
   "source": [
    "query = documents.sample()[0][0]\n",
    "data = documents.head(100)[0]\n",
    "data"
   ]
  },
  {
   "cell_type": "code",
   "execution_count": 66,
   "metadata": {},
   "outputs": [
    {
     "ename": "ValueError",
     "evalue": "Data of type <class 'torch.Tensor'> is not allowed only (<class 'tensorflow.python.framework.ops.Tensor'>, <class 'bool'>, <class 'int'>, <class 'transformers.file_utils.ModelOutput'>, <class 'tuple'>, <class 'list'>, <class 'dict'>, <class 'numpy.ndarray'>) is accepted for attention_mask.",
     "output_type": "error",
     "traceback": [
      "\u001b[0;31m---------------------------------------------------------------------------\u001b[0m",
      "\u001b[0;31mValueError\u001b[0m                                Traceback (most recent call last)",
      "\u001b[0;32m<ipython-input-66-a2876d4dcdf5>\u001b[0m in \u001b[0;36m<module>\u001b[0;34m\u001b[0m\n\u001b[1;32m      2\u001b[0m \u001b[0;34m\u001b[0m\u001b[0m\n\u001b[1;32m      3\u001b[0m \u001b[0;32mfor\u001b[0m \u001b[0mtweet\u001b[0m \u001b[0;32min\u001b[0m \u001b[0mdata\u001b[0m\u001b[0;34m:\u001b[0m\u001b[0;34m\u001b[0m\u001b[0;34m\u001b[0m\u001b[0m\n\u001b[0;32m----> 4\u001b[0;31m     \u001b[0msimilarity\u001b[0m \u001b[0;34m=\u001b[0m \u001b[0;36m1\u001b[0m \u001b[0;34m-\u001b[0m \u001b[0mcosine\u001b[0m\u001b[0;34m(\u001b[0m\u001b[0mget_embedding\u001b[0m\u001b[0;34m(\u001b[0m\u001b[0mquery\u001b[0m\u001b[0;34m,\u001b[0m \u001b[0mmodel\u001b[0m\u001b[0;34m)\u001b[0m\u001b[0;34m,\u001b[0m \u001b[0mget_embedding\u001b[0m\u001b[0;34m(\u001b[0m\u001b[0mtweet\u001b[0m\u001b[0;34m,\u001b[0m \u001b[0mmodel\u001b[0m\u001b[0;34m)\u001b[0m\u001b[0;34m)\u001b[0m\u001b[0;34m\u001b[0m\u001b[0;34m\u001b[0m\u001b[0m\n\u001b[0m\u001b[1;32m      5\u001b[0m     \u001b[0md\u001b[0m\u001b[0;34m[\u001b[0m\u001b[0mtweet\u001b[0m\u001b[0;34m]\u001b[0m \u001b[0;34m=\u001b[0m \u001b[0msimilarity\u001b[0m\u001b[0;34m\u001b[0m\u001b[0;34m\u001b[0m\u001b[0m\n\u001b[1;32m      6\u001b[0m \u001b[0;34m\u001b[0m\u001b[0m\n",
      "\u001b[0;32m<ipython-input-56-e49892b4f827>\u001b[0m in \u001b[0;36mget_embedding\u001b[0;34m(text, model)\u001b[0m\n\u001b[1;32m      3\u001b[0m     \u001b[0mencoded_input\u001b[0m \u001b[0;34m=\u001b[0m \u001b[0mtokenizer\u001b[0m\u001b[0;34m(\u001b[0m\u001b[0mtext\u001b[0m\u001b[0;34m,\u001b[0m \u001b[0mreturn_tensors\u001b[0m\u001b[0;34m=\u001b[0m\u001b[0;34m'pt'\u001b[0m\u001b[0;34m)\u001b[0m\u001b[0;34m\u001b[0m\u001b[0;34m\u001b[0m\u001b[0m\n\u001b[1;32m      4\u001b[0m \u001b[0;34m\u001b[0m\u001b[0m\n\u001b[0;32m----> 5\u001b[0;31m     \u001b[0mfeatures\u001b[0m \u001b[0;34m=\u001b[0m \u001b[0mmodel\u001b[0m\u001b[0;34m(\u001b[0m\u001b[0;34m**\u001b[0m\u001b[0mencoded_input\u001b[0m\u001b[0;34m)\u001b[0m\u001b[0;34m\u001b[0m\u001b[0;34m\u001b[0m\u001b[0m\n\u001b[0m\u001b[1;32m      6\u001b[0m     \u001b[0mfeatures\u001b[0m \u001b[0;34m=\u001b[0m \u001b[0mfeatures\u001b[0m\u001b[0;34m[\u001b[0m\u001b[0;36m0\u001b[0m\u001b[0;34m]\u001b[0m\u001b[0;34m.\u001b[0m\u001b[0mdetach\u001b[0m\u001b[0;34m(\u001b[0m\u001b[0;34m)\u001b[0m\u001b[0;34m.\u001b[0m\u001b[0mcpu\u001b[0m\u001b[0;34m(\u001b[0m\u001b[0;34m)\u001b[0m\u001b[0;34m.\u001b[0m\u001b[0mnumpy\u001b[0m\u001b[0;34m(\u001b[0m\u001b[0;34m)\u001b[0m\u001b[0;34m\u001b[0m\u001b[0;34m\u001b[0m\u001b[0m\n\u001b[1;32m      7\u001b[0m     \u001b[0mfeatures_mean\u001b[0m \u001b[0;34m=\u001b[0m \u001b[0mnp\u001b[0m\u001b[0;34m.\u001b[0m\u001b[0mmean\u001b[0m\u001b[0;34m(\u001b[0m\u001b[0mfeatures\u001b[0m\u001b[0;34m[\u001b[0m\u001b[0;36m0\u001b[0m\u001b[0;34m]\u001b[0m\u001b[0;34m,\u001b[0m \u001b[0maxis\u001b[0m\u001b[0;34m=\u001b[0m\u001b[0;36m0\u001b[0m\u001b[0;34m)\u001b[0m\u001b[0;34m\u001b[0m\u001b[0;34m\u001b[0m\u001b[0m\n",
      "\u001b[0;32m~/anaconda3/lib/python3.7/site-packages/tensorflow/python/keras/engine/base_layer.py\u001b[0m in \u001b[0;36m__call__\u001b[0;34m(self, *args, **kwargs)\u001b[0m\n\u001b[1;32m   1028\u001b[0m         with autocast_variable.enable_auto_cast_variables(\n\u001b[1;32m   1029\u001b[0m             self._compute_dtype_object):\n\u001b[0;32m-> 1030\u001b[0;31m           \u001b[0moutputs\u001b[0m \u001b[0;34m=\u001b[0m \u001b[0mcall_fn\u001b[0m\u001b[0;34m(\u001b[0m\u001b[0minputs\u001b[0m\u001b[0;34m,\u001b[0m \u001b[0;34m*\u001b[0m\u001b[0margs\u001b[0m\u001b[0;34m,\u001b[0m \u001b[0;34m**\u001b[0m\u001b[0mkwargs\u001b[0m\u001b[0;34m)\u001b[0m\u001b[0;34m\u001b[0m\u001b[0;34m\u001b[0m\u001b[0m\n\u001b[0m\u001b[1;32m   1031\u001b[0m \u001b[0;34m\u001b[0m\u001b[0m\n\u001b[1;32m   1032\u001b[0m         \u001b[0;32mif\u001b[0m \u001b[0mself\u001b[0m\u001b[0;34m.\u001b[0m\u001b[0m_activity_regularizer\u001b[0m\u001b[0;34m:\u001b[0m\u001b[0;34m\u001b[0m\u001b[0;34m\u001b[0m\u001b[0m\n",
      "\u001b[0;32m~/anaconda3/lib/python3.7/site-packages/transformers/models/roberta/modeling_tf_roberta.py\u001b[0m in \u001b[0;36mcall\u001b[0;34m(self, input_ids, attention_mask, token_type_ids, position_ids, head_mask, inputs_embeds, output_attentions, output_hidden_states, return_dict, labels, training, **kwargs)\u001b[0m\n\u001b[1;32m   1008\u001b[0m             \u001b[0mlabels\u001b[0m\u001b[0;34m=\u001b[0m\u001b[0mlabels\u001b[0m\u001b[0;34m,\u001b[0m\u001b[0;34m\u001b[0m\u001b[0;34m\u001b[0m\u001b[0m\n\u001b[1;32m   1009\u001b[0m             \u001b[0mtraining\u001b[0m\u001b[0;34m=\u001b[0m\u001b[0mtraining\u001b[0m\u001b[0;34m,\u001b[0m\u001b[0;34m\u001b[0m\u001b[0;34m\u001b[0m\u001b[0m\n\u001b[0;32m-> 1010\u001b[0;31m             \u001b[0mkwargs_call\u001b[0m\u001b[0;34m=\u001b[0m\u001b[0mkwargs\u001b[0m\u001b[0;34m,\u001b[0m\u001b[0;34m\u001b[0m\u001b[0;34m\u001b[0m\u001b[0m\n\u001b[0m\u001b[1;32m   1011\u001b[0m         )\n\u001b[1;32m   1012\u001b[0m         outputs = self.roberta(\n",
      "\u001b[0;32m~/anaconda3/lib/python3.7/site-packages/transformers/modeling_tf_utils.py\u001b[0m in \u001b[0;36minput_processing\u001b[0;34m(func, config, input_ids, **kwargs)\u001b[0m\n\u001b[1;32m    362\u001b[0m             \u001b[0moutput\u001b[0m\u001b[0;34m[\u001b[0m\u001b[0mk\u001b[0m\u001b[0;34m]\u001b[0m \u001b[0;34m=\u001b[0m \u001b[0mv\u001b[0m\u001b[0;34m\u001b[0m\u001b[0;34m\u001b[0m\u001b[0m\n\u001b[1;32m    363\u001b[0m         \u001b[0;32melse\u001b[0m\u001b[0;34m:\u001b[0m\u001b[0;34m\u001b[0m\u001b[0;34m\u001b[0m\u001b[0m\n\u001b[0;32m--> 364\u001b[0;31m             \u001b[0;32mraise\u001b[0m \u001b[0mValueError\u001b[0m\u001b[0;34m(\u001b[0m\u001b[0;34mf\"Data of type {type(v)} is not allowed only {allowed_types} is accepted for {k}.\"\u001b[0m\u001b[0;34m)\u001b[0m\u001b[0;34m\u001b[0m\u001b[0;34m\u001b[0m\u001b[0m\n\u001b[0m\u001b[1;32m    365\u001b[0m \u001b[0;34m\u001b[0m\u001b[0m\n\u001b[1;32m    366\u001b[0m     \u001b[0;32mif\u001b[0m \u001b[0misinstance\u001b[0m\u001b[0;34m(\u001b[0m\u001b[0minput_ids\u001b[0m\u001b[0;34m,\u001b[0m \u001b[0;34m(\u001b[0m\u001b[0mtuple\u001b[0m\u001b[0;34m,\u001b[0m \u001b[0mlist\u001b[0m\u001b[0;34m)\u001b[0m\u001b[0;34m)\u001b[0m\u001b[0;34m:\u001b[0m\u001b[0;34m\u001b[0m\u001b[0;34m\u001b[0m\u001b[0m\n",
      "\u001b[0;31mValueError\u001b[0m: Data of type <class 'torch.Tensor'> is not allowed only (<class 'tensorflow.python.framework.ops.Tensor'>, <class 'bool'>, <class 'int'>, <class 'transformers.file_utils.ModelOutput'>, <class 'tuple'>, <class 'list'>, <class 'dict'>, <class 'numpy.ndarray'>) is accepted for attention_mask."
     ]
    }
   ],
   "source": [
    "d = defaultdict(int)\n",
    "\n",
    "for tweet in data:\n",
    "    similarity = 1 - cosine(get_embedding(query, model), get_embedding(tweet, model))\n",
    "    d[tweet] = similarity\n",
    "\n",
    "print('Most similar to \"{}\"'.format(query))\n",
    "for idx, x in enumerate(sorted(d.items(), key=lambda x: x[1], reverse=True)):\n",
    "    print(idx + 1, x[0])\n",
    "    if idx > 10:\n",
    "        break"
   ]
  },
  {
   "cell_type": "markdown",
   "metadata": {},
   "source": [
    "## Other datasets and models to use"
   ]
  },
  {
   "cell_type": "code",
   "execution_count": null,
   "metadata": {},
   "outputs": [],
   "source": [
    "from transformers.datasets import load_dataset\n",
    "\n",
    "# Arabic Jordanian General Tweets (AJGT) Corpus\n",
    "dataset = load_dataset(\"ajgt_twitter_ar\")\n",
    "# tweet_eval\n",
    "dataset = load_dataset(\"tweet_eval\", \"emoji\")\n",
    "# hate speech detection (primarily English)\n",
    "dataset = load_dataset(\"tweets_hate_speech_detection\")"
   ]
  },
  {
   "cell_type": "code",
   "execution_count": null,
   "metadata": {},
   "outputs": [],
   "source": []
  }
 ],
 "metadata": {
  "kernelspec": {
   "display_name": "Python 3",
   "language": "python",
   "name": "python3"
  },
  "language_info": {
   "codemirror_mode": {
    "name": "ipython",
    "version": 3
   },
   "file_extension": ".py",
   "mimetype": "text/x-python",
   "name": "python",
   "nbconvert_exporter": "python",
   "pygments_lexer": "ipython3",
   "version": "3.7.6"
  }
 },
 "nbformat": 4,
 "nbformat_minor": 4
}
