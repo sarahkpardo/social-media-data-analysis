{
 "cells": [
  {
   "cell_type": "code",
   "execution_count": null,
   "metadata": {
    "scrolled": true
   },
   "outputs": [],
   "source": [
    "!pip install tensorflow\n",
    "!pip install tokenizers\n",
    "!pip install transformers"
   ]
  },
  {
   "cell_type": "code",
   "execution_count": 1,
   "metadata": {},
   "outputs": [],
   "source": [
    "import collections\n",
    "from collections import defaultdict\n",
    "import csv\n",
    "import functools\n",
    "import itertools\n",
    "import re\n",
    "import string\n",
    "import timeit\n",
    "from timeit import default_timer\n",
    "import urllib.request\n",
    "\n",
    "import matplotlib.pyplot as plt\n",
    "import numpy as np\n",
    "import pandas as pd\n",
    "from scipy.spatial.distance import cosine\n",
    "from scipy.special import softmax\n",
    "from transformers import AutoModelForSequenceClassification\n",
    "from transformers import TFAutoModelForSequenceClassification\n",
    "from transformers import AutoTokenizer, AutoModel, TFAutoModel\n",
    "\n",
    "from utils import *\n",
    "from topic_utils import *"
   ]
  },
  {
   "cell_type": "markdown",
   "metadata": {},
   "source": [
    "### Data"
   ]
  },
  {
   "cell_type": "code",
   "execution_count": 2,
   "metadata": {},
   "outputs": [],
   "source": [
    "users = UsersData('data/users')\n",
    "tweets = TweetsData('data/tweets')"
   ]
  },
  {
   "cell_type": "code",
   "execution_count": 3,
   "metadata": {},
   "outputs": [],
   "source": [
    "df = tweets.df.loc[:][:]\n",
    "user_df = users.df.loc[:][:]"
   ]
  },
  {
   "cell_type": "code",
   "execution_count": 4,
   "metadata": {},
   "outputs": [],
   "source": [
    "campaign = df[df['campaign'] == 'iran202012']\n",
    "campaign_users = user_df[user_df['campaign'] == 'iran202012']"
   ]
  },
  {
   "cell_type": "markdown",
   "metadata": {},
   "source": [
    "# Sentiment Analysis"
   ]
  },
  {
   "cell_type": "markdown",
   "metadata": {},
   "source": [
    "Download the Cardiff NLP Twitter pre-trained roBERTa base model:"
   ]
  },
  {
   "cell_type": "code",
   "execution_count": 5,
   "metadata": {},
   "outputs": [
    {
     "name": "stderr",
     "output_type": "stream",
     "text": [
      "All model checkpoint layers were used when initializing TFRobertaForSequenceClassification.\n",
      "\n",
      "All the layers of TFRobertaForSequenceClassification were initialized from the model checkpoint at cardiffnlp/twitter-roberta-base-sentiment.\n",
      "If your task is similar to the task the model of the checkpoint was trained on, you can already use TFRobertaForSequenceClassification for predictions without further training.\n"
     ]
    }
   ],
   "source": [
    "task = 'sentiment'\n",
    "\n",
    "MODEL = \"cardiffnlp/twitter-roberta-base-{}\".format(task)\n",
    "model = TFAutoModelForSequenceClassification.from_pretrained(MODEL)"
   ]
  },
  {
   "cell_type": "code",
   "execution_count": 14,
   "metadata": {},
   "outputs": [
    {
     "data": {
      "text/plain": [
       "RobertaConfig {\n",
       "  \"_name_or_path\": \"cardiffnlp/twitter-roberta-base-sentiment\",\n",
       "  \"architectures\": [\n",
       "    \"RobertaForSequenceClassification\"\n",
       "  ],\n",
       "  \"attention_probs_dropout_prob\": 0.1,\n",
       "  \"bos_token_id\": 0,\n",
       "  \"eos_token_id\": 2,\n",
       "  \"gradient_checkpointing\": false,\n",
       "  \"hidden_act\": \"gelu\",\n",
       "  \"hidden_dropout_prob\": 0.1,\n",
       "  \"hidden_size\": 768,\n",
       "  \"id2label\": {\n",
       "    \"0\": \"LABEL_0\",\n",
       "    \"1\": \"LABEL_1\",\n",
       "    \"2\": \"LABEL_2\"\n",
       "  },\n",
       "  \"initializer_range\": 0.02,\n",
       "  \"intermediate_size\": 3072,\n",
       "  \"label2id\": {\n",
       "    \"LABEL_0\": 0,\n",
       "    \"LABEL_1\": 1,\n",
       "    \"LABEL_2\": 2\n",
       "  },\n",
       "  \"layer_norm_eps\": 1e-05,\n",
       "  \"max_position_embeddings\": 514,\n",
       "  \"model_type\": \"roberta\",\n",
       "  \"num_attention_heads\": 12,\n",
       "  \"num_hidden_layers\": 12,\n",
       "  \"pad_token_id\": 1,\n",
       "  \"position_embedding_type\": \"absolute\",\n",
       "  \"transformers_version\": \"4.8.2\",\n",
       "  \"type_vocab_size\": 1,\n",
       "  \"use_cache\": true,\n",
       "  \"vocab_size\": 50265\n",
       "}"
      ]
     },
     "execution_count": 14,
     "metadata": {},
     "output_type": "execute_result"
    }
   ],
   "source": [
    "model.config"
   ]
  },
  {
   "cell_type": "code",
   "execution_count": null,
   "metadata": {},
   "outputs": [],
   "source": [
    "def get_sentiment(documents):\n",
    "    \n",
    "    sentiments = []\n",
    "\n",
    "    for doc in documents:\n",
    "        encoded_input = tokenizer(doc, return_tensors='tf')\n",
    "        output = model(encoded_input)\n",
    "        scores = output[0][0].numpy()\n",
    "        scores = softmax(scores)\n",
    "\n",
    "        sentiments.append(labels[np.argmax(scores)])\n",
    "\n",
    "    return dict(zip(documents, sentiments))"
   ]
  },
  {
   "cell_type": "code",
   "execution_count": 100,
   "metadata": {},
   "outputs": [],
   "source": [
    "def get_model(model, task):\n",
    "    model = TFAutoModelForSequenceClassification.from_pretrained(MODEL)\n",
    "\n",
    "    tokenizer = AutoTokenizer.from_pretrained(MODEL)\n",
    "    tokenizer.add_tokens(['[HTAG]', '[URL]', '[AT]'])\n",
    "    \n",
    "    return model, tokenizer\n",
    "    \n",
    "def get_labels(task):\n",
    "    mapping_link = ('https://raw.githubusercontent.com/cardiffnlp/tweeteval/main/datasets/{}/mapping.txt'.format(task))\n",
    "    with urllib.request.urlopen(mapping_link) as f:\n",
    "        html = f.read().decode('utf-8').split(\"\\n\")\n",
    "        csvreader = csv.reader(html, delimiter='\\t')\n",
    "    return [row[1] for row in csvreader if len(row) > 1]\n",
    "    \n",
    "def predict_sentiment(document, model=None):\n",
    "    # preprocess\n",
    "    document = preprocess_string(document)\n",
    "    \n",
    "    # tokenize\n",
    "    encoded_input = tokenizer(document, return_tensors='tf')\n",
    "    \n",
    "    # apply model\n",
    "    output = model(encoded_input)\n",
    "    scores = output[0][0].numpy()\n",
    "    scores = softmax(scores)\n",
    "\n",
    "    return labels[np.argmax(scores)]#, np.max(scores)"
   ]
  },
  {
   "cell_type": "code",
   "execution_count": 8,
   "metadata": {},
   "outputs": [],
   "source": [
    "def get_sentiment_apply(document):\n",
    "    \"\"\"Usage: df.apply(get_sentiment_apply)\"\"\"\n",
    "    encoded_input = tokenizer(document, return_tensors='tf')\n",
    "    output = model(encoded_input)\n",
    "    scores = output[0][0].numpy()\n",
    "    scores = softmax(scores)\n",
    "\n",
    "    return labels[np.argmax(scores)]#, np.max(scores)"
   ]
  },
  {
   "cell_type": "code",
   "execution_count": 7,
   "metadata": {},
   "outputs": [
    {
     "name": "stderr",
     "output_type": "stream",
     "text": [
      "All model checkpoint layers were used when initializing TFRobertaForSequenceClassification.\n",
      "\n",
      "All the layers of TFRobertaForSequenceClassification were initialized from the model checkpoint at cardiffnlp/twitter-roberta-base-sentiment.\n",
      "If your task is similar to the task the model of the checkpoint was trained on, you can already use TFRobertaForSequenceClassification for predictions without further training.\n"
     ]
    }
   ],
   "source": [
    "task = 'sentiment'\n",
    "MODEL = 'cardiffnlp/twitter-roberta-base-{}'.format(task)\n",
    "\n",
    "model, tokenizer = get_model(MODEL, task)\n",
    "\n",
    "labels = get_labels(task)"
   ]
  },
  {
   "cell_type": "markdown",
   "metadata": {},
   "source": [
    "Apply only to English tweets (model has been trained on English):"
   ]
  },
  {
   "cell_type": "code",
   "execution_count": 61,
   "metadata": {},
   "outputs": [
    {
     "data": {
      "text/plain": [
       "\"Why there's a bird sound? And why it's upside down? https://t.co/FK8pOY2PqU\""
      ]
     },
     "execution_count": 61,
     "metadata": {},
     "output_type": "execute_result"
    }
   ],
   "source": [
    "documents = (campaign\n",
    " .groupby('tweet_language')\n",
    " .get_group('en')['tweet_text']\n",
    ").head(100)\n",
    "\n",
    "documents.iloc[0]"
   ]
  },
  {
   "cell_type": "code",
   "execution_count": 89,
   "metadata": {},
   "outputs": [
    {
     "name": "stdout",
     "output_type": "stream",
     "text": [
      "elapsed: 11.885387755988631\n"
     ]
    }
   ],
   "source": [
    "# todo: make this much faster\n",
    "t1 = default_timer()\n",
    "\n",
    "sentiment = (documents\n",
    "             .apply(preprocess_string)\n",
    "             .apply(predict_sentiment)\n",
    "            )\n",
    "print('elapsed: {}'.format(default_timer() - t1))"
   ]
  },
  {
   "cell_type": "code",
   "execution_count": 91,
   "metadata": {},
   "outputs": [
    {
     "data": {
      "text/html": [
       "<div>\n",
       "<style scoped>\n",
       "    .dataframe tbody tr th:only-of-type {\n",
       "        vertical-align: middle;\n",
       "    }\n",
       "\n",
       "    .dataframe tbody tr th {\n",
       "        vertical-align: top;\n",
       "    }\n",
       "\n",
       "    .dataframe thead th {\n",
       "        text-align: right;\n",
       "    }\n",
       "</style>\n",
       "<table border=\"1\" class=\"dataframe\">\n",
       "  <thead>\n",
       "    <tr style=\"text-align: right;\">\n",
       "      <th></th>\n",
       "      <th>tweet_text</th>\n",
       "      <th>sentiment</th>\n",
       "    </tr>\n",
       "    <tr>\n",
       "      <th>tweetid</th>\n",
       "      <th></th>\n",
       "      <th></th>\n",
       "    </tr>\n",
       "  </thead>\n",
       "  <tbody>\n",
       "    <tr>\n",
       "      <th>907991739713118208</th>\n",
       "      <td>Why there's a bird sound? And why it's upside ...</td>\n",
       "      <td>neutral</td>\n",
       "    </tr>\n",
       "    <tr>\n",
       "      <th>1277789135470768129</th>\n",
       "      <td>Malawi is using bamboo to fight #climatechange...</td>\n",
       "      <td>positive</td>\n",
       "    </tr>\n",
       "    <tr>\n",
       "      <th>1314271851988873251</th>\n",
       "      <td>😷Right in the middle of an illness😷 ..... #Bla...</td>\n",
       "      <td>negative</td>\n",
       "    </tr>\n",
       "    <tr>\n",
       "      <th>1298084197773520898</th>\n",
       "      <td>Scotland’s Climate Assembly, doing politics di...</td>\n",
       "      <td>neutral</td>\n",
       "    </tr>\n",
       "    <tr>\n",
       "      <th>1291999805770694656</th>\n",
       "      <td>It's an urgent warning from climate scientists...</td>\n",
       "      <td>neutral</td>\n",
       "    </tr>\n",
       "    <tr>\n",
       "      <th>1281483637997940736</th>\n",
       "      <td>Economic inequality is out of control...\n",
       "This ...</td>\n",
       "      <td>negative</td>\n",
       "    </tr>\n",
       "    <tr>\n",
       "      <th>1302115414919401473</th>\n",
       "      <td>DR. Anthony Fauci: I congratulate Russians to ...</td>\n",
       "      <td>negative</td>\n",
       "    </tr>\n",
       "    <tr>\n",
       "      <th>1267652700537315331</th>\n",
       "      <td>I can't breath...\n",
       "#HumanRights \n",
       "#HumanRightsVi...</td>\n",
       "      <td>negative</td>\n",
       "    </tr>\n",
       "    <tr>\n",
       "      <th>1243826214630031360</th>\n",
       "      <td>A major exhibition hall in Vienna has been tra...</td>\n",
       "      <td>neutral</td>\n",
       "    </tr>\n",
       "    <tr>\n",
       "      <th>1218816383812718592</th>\n",
       "      <td>The Global Human Rights Regime needs to be rev...</td>\n",
       "      <td>neutral</td>\n",
       "    </tr>\n",
       "  </tbody>\n",
       "</table>\n",
       "</div>"
      ],
      "text/plain": [
       "                                                            tweet_text  \\\n",
       "tweetid                                                                  \n",
       "907991739713118208   Why there's a bird sound? And why it's upside ...   \n",
       "1277789135470768129  Malawi is using bamboo to fight #climatechange...   \n",
       "1314271851988873251  😷Right in the middle of an illness😷 ..... #Bla...   \n",
       "1298084197773520898  Scotland’s Climate Assembly, doing politics di...   \n",
       "1291999805770694656  It's an urgent warning from climate scientists...   \n",
       "1281483637997940736  Economic inequality is out of control...\n",
       "This ...   \n",
       "1302115414919401473  DR. Anthony Fauci: I congratulate Russians to ...   \n",
       "1267652700537315331  I can't breath...\n",
       "#HumanRights \n",
       "#HumanRightsVi...   \n",
       "1243826214630031360  A major exhibition hall in Vienna has been tra...   \n",
       "1218816383812718592  The Global Human Rights Regime needs to be rev...   \n",
       "\n",
       "                    sentiment  \n",
       "tweetid                        \n",
       "907991739713118208    neutral  \n",
       "1277789135470768129  positive  \n",
       "1314271851988873251  negative  \n",
       "1298084197773520898   neutral  \n",
       "1291999805770694656   neutral  \n",
       "1281483637997940736  negative  \n",
       "1302115414919401473  negative  \n",
       "1267652700537315331  negative  \n",
       "1243826214630031360   neutral  \n",
       "1218816383812718592   neutral  "
      ]
     },
     "execution_count": 91,
     "metadata": {},
     "output_type": "execute_result"
    }
   ],
   "source": [
    "df_abbrv = pd.DataFrame(documents)\n",
    "df_abbrv['sentiment'] = sentiment\n",
    "df_abbrv.head(10)"
   ]
  },
  {
   "cell_type": "code",
   "execution_count": 64,
   "metadata": {},
   "outputs": [
    {
     "data": {
      "text/html": [
       "<div>\n",
       "<style scoped>\n",
       "    .dataframe tbody tr th:only-of-type {\n",
       "        vertical-align: middle;\n",
       "    }\n",
       "\n",
       "    .dataframe tbody tr th {\n",
       "        vertical-align: top;\n",
       "    }\n",
       "\n",
       "    .dataframe thead th {\n",
       "        text-align: right;\n",
       "    }\n",
       "</style>\n",
       "<table border=\"1\" class=\"dataframe\">\n",
       "  <thead>\n",
       "    <tr style=\"text-align: right;\">\n",
       "      <th></th>\n",
       "      <th>tweet_text</th>\n",
       "      <th>sentiment</th>\n",
       "    </tr>\n",
       "    <tr>\n",
       "      <th>tweetid</th>\n",
       "      <th></th>\n",
       "      <th></th>\n",
       "    </tr>\n",
       "  </thead>\n",
       "  <tbody>\n",
       "    <tr>\n",
       "      <th>1314271851988873251</th>\n",
       "      <td>😷Right in the middle of an illness😷 ..... #Bla...</td>\n",
       "      <td>negative</td>\n",
       "    </tr>\n",
       "    <tr>\n",
       "      <th>1281483637997940736</th>\n",
       "      <td>Economic inequality is out of control...\n",
       "This ...</td>\n",
       "      <td>negative</td>\n",
       "    </tr>\n",
       "    <tr>\n",
       "      <th>1302115414919401473</th>\n",
       "      <td>DR. Anthony Fauci: I congratulate Russians to ...</td>\n",
       "      <td>negative</td>\n",
       "    </tr>\n",
       "    <tr>\n",
       "      <th>1267652700537315331</th>\n",
       "      <td>I can't breath...\n",
       "#HumanRights \n",
       "#HumanRightsVi...</td>\n",
       "      <td>negative</td>\n",
       "    </tr>\n",
       "    <tr>\n",
       "      <th>1289552966752460802</th>\n",
       "      <td>Alexander Vindman retires,cites 'bullying' by ...</td>\n",
       "      <td>negative</td>\n",
       "    </tr>\n",
       "    <tr>\n",
       "      <th>1269827106042720258</th>\n",
       "      <td>This is what oppression of a black live looks ...</td>\n",
       "      <td>negative</td>\n",
       "    </tr>\n",
       "    <tr>\n",
       "      <th>1222143276951601153</th>\n",
       "      <td>I don't understand his language, but my heart ...</td>\n",
       "      <td>negative</td>\n",
       "    </tr>\n",
       "    <tr>\n",
       "      <th>1299400387078881281</th>\n",
       "      <td>can't name one because he ruined everything fo...</td>\n",
       "      <td>negative</td>\n",
       "    </tr>\n",
       "    <tr>\n",
       "      <th>1300830299786543104</th>\n",
       "      <td>The Role of Law Enforcement in Supporting Pede...</td>\n",
       "      <td>negative</td>\n",
       "    </tr>\n",
       "    <tr>\n",
       "      <th>1302039770076516354</th>\n",
       "      <td>A significant majority of Americans believe Pr...</td>\n",
       "      <td>negative</td>\n",
       "    </tr>\n",
       "  </tbody>\n",
       "</table>\n",
       "</div>"
      ],
      "text/plain": [
       "                                                            tweet_text  \\\n",
       "tweetid                                                                  \n",
       "1314271851988873251  😷Right in the middle of an illness😷 ..... #Bla...   \n",
       "1281483637997940736  Economic inequality is out of control...\n",
       "This ...   \n",
       "1302115414919401473  DR. Anthony Fauci: I congratulate Russians to ...   \n",
       "1267652700537315331  I can't breath...\n",
       "#HumanRights \n",
       "#HumanRightsVi...   \n",
       "1289552966752460802  Alexander Vindman retires,cites 'bullying' by ...   \n",
       "1269827106042720258  This is what oppression of a black live looks ...   \n",
       "1222143276951601153  I don't understand his language, but my heart ...   \n",
       "1299400387078881281  can't name one because he ruined everything fo...   \n",
       "1300830299786543104  The Role of Law Enforcement in Supporting Pede...   \n",
       "1302039770076516354  A significant majority of Americans believe Pr...   \n",
       "\n",
       "                    sentiment  \n",
       "tweetid                        \n",
       "1314271851988873251  negative  \n",
       "1281483637997940736  negative  \n",
       "1302115414919401473  negative  \n",
       "1267652700537315331  negative  \n",
       "1289552966752460802  negative  \n",
       "1269827106042720258  negative  \n",
       "1222143276951601153  negative  \n",
       "1299400387078881281  negative  \n",
       "1300830299786543104  negative  \n",
       "1302039770076516354  negative  "
      ]
     },
     "execution_count": 64,
     "metadata": {},
     "output_type": "execute_result"
    }
   ],
   "source": [
    "(df_abbrv\n",
    ".groupby('sentiment')\n",
    ".get_group('negative')\n",
    ").head(10)"
   ]
  },
  {
   "cell_type": "markdown",
   "metadata": {},
   "source": [
    "## Event-related sentiment"
   ]
  },
  {
   "cell_type": "code",
   "execution_count": 67,
   "metadata": {},
   "outputs": [
    {
     "data": {
      "text/html": [
       "<div>\n",
       "<style scoped>\n",
       "    .dataframe tbody tr th:only-of-type {\n",
       "        vertical-align: middle;\n",
       "    }\n",
       "\n",
       "    .dataframe tbody tr th {\n",
       "        vertical-align: top;\n",
       "    }\n",
       "\n",
       "    .dataframe thead th {\n",
       "        text-align: right;\n",
       "    }\n",
       "</style>\n",
       "<table border=\"1\" class=\"dataframe\">\n",
       "  <thead>\n",
       "    <tr style=\"text-align: right;\">\n",
       "      <th></th>\n",
       "      <th>tweetid</th>\n",
       "      <th>userid</th>\n",
       "      <th>tweet_text</th>\n",
       "      <th>tweet_language</th>\n",
       "    </tr>\n",
       "    <tr>\n",
       "      <th>tweet_time</th>\n",
       "      <th></th>\n",
       "      <th></th>\n",
       "      <th></th>\n",
       "      <th></th>\n",
       "    </tr>\n",
       "  </thead>\n",
       "  <tbody>\n",
       "    <tr>\n",
       "      <th>2020-08-17 00:02:00</th>\n",
       "      <td>1295149036681474048</td>\n",
       "      <td>213589457</td>\n",
       "      <td>RT @irXcL8Y80STibhjlS3a48BahFUg3yqPT+XtTxkpLL8...</td>\n",
       "      <td>es</td>\n",
       "    </tr>\n",
       "    <tr>\n",
       "      <th>2020-08-17 00:02:00</th>\n",
       "      <td>1295149057372033024</td>\n",
       "      <td>jWkurFac8vhkrkKlTqvhjp4rwEVXCuZ7uOhVc+bs1ZY=</td>\n",
       "      <td>@safewordthe2nd @Mahyargdrz عه نه! چرا!؟ پس کی...</td>\n",
       "      <td>fa</td>\n",
       "    </tr>\n",
       "    <tr>\n",
       "      <th>2020-08-17 00:15:00</th>\n",
       "      <td>1295152130546900995</td>\n",
       "      <td>213589457</td>\n",
       "      <td>Una fuente saudí afirma que el príncipe herede...</td>\n",
       "      <td>es</td>\n",
       "    </tr>\n",
       "    <tr>\n",
       "      <th>2020-08-17 00:30:00</th>\n",
       "      <td>1295155883819667458</td>\n",
       "      <td>etDaWEjMPleueDrpkatPUSCApc6yU8W95+yZYWzVxSY=</td>\n",
       "      <td>Dirgahayu RI ke 75 \n",
       "\n",
       "Jangan sia-siain jasa pah...</td>\n",
       "      <td>in</td>\n",
       "    </tr>\n",
       "    <tr>\n",
       "      <th>2020-08-17 00:30:00</th>\n",
       "      <td>1295155884205789185</td>\n",
       "      <td>etDaWEjMPleueDrpkatPUSCApc6yU8W95+yZYWzVxSY=</td>\n",
       "      <td>\"Kita berutang kepada Palestina. Palestina yan...</td>\n",
       "      <td>in</td>\n",
       "    </tr>\n",
       "  </tbody>\n",
       "</table>\n",
       "</div>"
      ],
      "text/plain": [
       "                                 tweetid  \\\n",
       "tweet_time                                 \n",
       "2020-08-17 00:02:00  1295149036681474048   \n",
       "2020-08-17 00:02:00  1295149057372033024   \n",
       "2020-08-17 00:15:00  1295152130546900995   \n",
       "2020-08-17 00:30:00  1295155883819667458   \n",
       "2020-08-17 00:30:00  1295155884205789185   \n",
       "\n",
       "                                                           userid  \\\n",
       "tweet_time                                                          \n",
       "2020-08-17 00:02:00                                     213589457   \n",
       "2020-08-17 00:02:00  jWkurFac8vhkrkKlTqvhjp4rwEVXCuZ7uOhVc+bs1ZY=   \n",
       "2020-08-17 00:15:00                                     213589457   \n",
       "2020-08-17 00:30:00  etDaWEjMPleueDrpkatPUSCApc6yU8W95+yZYWzVxSY=   \n",
       "2020-08-17 00:30:00  etDaWEjMPleueDrpkatPUSCApc6yU8W95+yZYWzVxSY=   \n",
       "\n",
       "                                                            tweet_text  \\\n",
       "tweet_time                                                               \n",
       "2020-08-17 00:02:00  RT @irXcL8Y80STibhjlS3a48BahFUg3yqPT+XtTxkpLL8...   \n",
       "2020-08-17 00:02:00  @safewordthe2nd @Mahyargdrz عه نه! چرا!؟ پس کی...   \n",
       "2020-08-17 00:15:00  Una fuente saudí afirma que el príncipe herede...   \n",
       "2020-08-17 00:30:00  Dirgahayu RI ke 75 \n",
       "\n",
       "Jangan sia-siain jasa pah...   \n",
       "2020-08-17 00:30:00  \"Kita berutang kepada Palestina. Palestina yan...   \n",
       "\n",
       "                    tweet_language  \n",
       "tweet_time                          \n",
       "2020-08-17 00:02:00             es  \n",
       "2020-08-17 00:02:00             fa  \n",
       "2020-08-17 00:15:00             es  \n",
       "2020-08-17 00:30:00             in  \n",
       "2020-08-17 00:30:00             in  "
      ]
     },
     "execution_count": 67,
     "metadata": {},
     "output_type": "execute_result"
    }
   ],
   "source": [
    "grouped = (campaign\n",
    " .reset_index()\n",
    " .set_index('tweet_time')\n",
    " .resample('D')[['tweetid','userid','tweet_text','tweet_language']]\n",
    ")\n",
    "\n",
    "top_day = (grouped\n",
    " .size()\n",
    " .sort_values(ascending=False)\n",
    ").idxmax()\n",
    "\n",
    "top_day_tweets = grouped.get_group(top_day)\n",
    "top_day_tweets.head(5)"
   ]
  },
  {
   "cell_type": "code",
   "execution_count": 85,
   "metadata": {},
   "outputs": [
    {
     "data": {
      "text/html": [
       "<div>\n",
       "<style scoped>\n",
       "    .dataframe tbody tr th:only-of-type {\n",
       "        vertical-align: middle;\n",
       "    }\n",
       "\n",
       "    .dataframe tbody tr th {\n",
       "        vertical-align: top;\n",
       "    }\n",
       "\n",
       "    .dataframe thead th {\n",
       "        text-align: right;\n",
       "    }\n",
       "</style>\n",
       "<table border=\"1\" class=\"dataframe\">\n",
       "  <thead>\n",
       "    <tr style=\"text-align: right;\">\n",
       "      <th></th>\n",
       "      <th>tweetid</th>\n",
       "      <th>userid</th>\n",
       "      <th>tweet_text</th>\n",
       "      <th>tweet_language</th>\n",
       "    </tr>\n",
       "    <tr>\n",
       "      <th>tweet_time</th>\n",
       "      <th></th>\n",
       "      <th></th>\n",
       "      <th></th>\n",
       "      <th></th>\n",
       "    </tr>\n",
       "  </thead>\n",
       "  <tbody>\n",
       "    <tr>\n",
       "      <th>2020-08-17 00:30:00</th>\n",
       "      <td>1295155883857436672</td>\n",
       "      <td>6qhrzJLryTiE7VlJkmY+cKE5VsITiaFwMA7s3Dr5I=</td>\n",
       "      <td>We stand with Palestine. Isreal occupation of ...</td>\n",
       "      <td>en</td>\n",
       "    </tr>\n",
       "    <tr>\n",
       "      <th>2020-08-17 00:30:00</th>\n",
       "      <td>1295155884193124353</td>\n",
       "      <td>etDaWEjMPleueDrpkatPUSCApc6yU8W95+yZYWzVxSY=</td>\n",
       "      <td>SHAME ON UAE !!!\n",
       "\n",
       "#UAEBetraysPalestine https:/...</td>\n",
       "      <td>en</td>\n",
       "    </tr>\n",
       "    <tr>\n",
       "      <th>2020-08-17 00:30:00</th>\n",
       "      <td>1295155883945521152</td>\n",
       "      <td>79Tf6XH3DwjdUWGO4aQWghSj5G2esetBnePoOBB3wYM=</td>\n",
       "      <td>It has always been Palestine and it always wil...</td>\n",
       "      <td>en</td>\n",
       "    </tr>\n",
       "    <tr>\n",
       "      <th>2020-08-17 00:30:00</th>\n",
       "      <td>1295155884855762944</td>\n",
       "      <td>etDaWEjMPleueDrpkatPUSCApc6yU8W95+yZYWzVxSY=</td>\n",
       "      <td>tomorrow is Indonesia's independence, this can...</td>\n",
       "      <td>en</td>\n",
       "    </tr>\n",
       "    <tr>\n",
       "      <th>2020-08-17 00:31:00</th>\n",
       "      <td>1295156135587123201</td>\n",
       "      <td>79Tf6XH3DwjdUWGO4aQWghSj5G2esetBnePoOBB3wYM=</td>\n",
       "      <td>We stand by the Palestine and Yaman  Until the...</td>\n",
       "      <td>en</td>\n",
       "    </tr>\n",
       "  </tbody>\n",
       "</table>\n",
       "</div>"
      ],
      "text/plain": [
       "                                 tweetid  \\\n",
       "tweet_time                                 \n",
       "2020-08-17 00:30:00  1295155883857436672   \n",
       "2020-08-17 00:30:00  1295155884193124353   \n",
       "2020-08-17 00:30:00  1295155883945521152   \n",
       "2020-08-17 00:30:00  1295155884855762944   \n",
       "2020-08-17 00:31:00  1295156135587123201   \n",
       "\n",
       "                                                           userid  \\\n",
       "tweet_time                                                          \n",
       "2020-08-17 00:30:00    6qhrzJLryTiE7VlJkmY+cKE5VsITiaFwMA7s3Dr5I=   \n",
       "2020-08-17 00:30:00  etDaWEjMPleueDrpkatPUSCApc6yU8W95+yZYWzVxSY=   \n",
       "2020-08-17 00:30:00  79Tf6XH3DwjdUWGO4aQWghSj5G2esetBnePoOBB3wYM=   \n",
       "2020-08-17 00:30:00  etDaWEjMPleueDrpkatPUSCApc6yU8W95+yZYWzVxSY=   \n",
       "2020-08-17 00:31:00  79Tf6XH3DwjdUWGO4aQWghSj5G2esetBnePoOBB3wYM=   \n",
       "\n",
       "                                                            tweet_text  \\\n",
       "tweet_time                                                               \n",
       "2020-08-17 00:30:00  We stand with Palestine. Isreal occupation of ...   \n",
       "2020-08-17 00:30:00  SHAME ON UAE !!!\n",
       "\n",
       "#UAEBetraysPalestine https:/...   \n",
       "2020-08-17 00:30:00  It has always been Palestine and it always wil...   \n",
       "2020-08-17 00:30:00  tomorrow is Indonesia's independence, this can...   \n",
       "2020-08-17 00:31:00  We stand by the Palestine and Yaman  Until the...   \n",
       "\n",
       "                    tweet_language  \n",
       "tweet_time                          \n",
       "2020-08-17 00:30:00             en  \n",
       "2020-08-17 00:30:00             en  \n",
       "2020-08-17 00:30:00             en  \n",
       "2020-08-17 00:30:00             en  \n",
       "2020-08-17 00:31:00             en  "
      ]
     },
     "execution_count": 85,
     "metadata": {},
     "output_type": "execute_result"
    }
   ],
   "source": [
    "english_tweets = (top_day_tweets\n",
    "                  .groupby('tweet_language')\n",
    "                  .get_group('en')\n",
    "                 )\n",
    "english_tweets.head(5)"
   ]
  },
  {
   "cell_type": "code",
   "execution_count": 71,
   "metadata": {},
   "outputs": [
    {
     "name": "stdout",
     "output_type": "stream",
     "text": [
      "elapsed: 119.54598299402278\n"
     ]
    }
   ],
   "source": [
    "t1 = default_timer()\n",
    "\n",
    "sentiment = (english_tweets['tweet_text']\n",
    "             .apply(preprocess_string)\n",
    "             .apply(predict_sentiment)\n",
    "            )\n",
    "print('elapsed: {}'.format(default_timer() - t1))"
   ]
  },
  {
   "cell_type": "code",
   "execution_count": 86,
   "metadata": {},
   "outputs": [
    {
     "data": {
      "text/html": [
       "<div>\n",
       "<style scoped>\n",
       "    .dataframe tbody tr th:only-of-type {\n",
       "        vertical-align: middle;\n",
       "    }\n",
       "\n",
       "    .dataframe tbody tr th {\n",
       "        vertical-align: top;\n",
       "    }\n",
       "\n",
       "    .dataframe thead th {\n",
       "        text-align: right;\n",
       "    }\n",
       "</style>\n",
       "<table border=\"1\" class=\"dataframe\">\n",
       "  <thead>\n",
       "    <tr style=\"text-align: right;\">\n",
       "      <th></th>\n",
       "      <th>tweet_text</th>\n",
       "      <th>sentiment</th>\n",
       "    </tr>\n",
       "    <tr>\n",
       "      <th>tweet_time</th>\n",
       "      <th></th>\n",
       "      <th></th>\n",
       "    </tr>\n",
       "  </thead>\n",
       "  <tbody>\n",
       "    <tr>\n",
       "      <th>2020-08-17 00:30:00</th>\n",
       "      <td>We stand with Palestine. Isreal occupation of ...</td>\n",
       "      <td>negative</td>\n",
       "    </tr>\n",
       "    <tr>\n",
       "      <th>2020-08-17 00:30:00</th>\n",
       "      <td>SHAME ON UAE !!!\n",
       "\n",
       "#UAEBetraysPalestine https:/...</td>\n",
       "      <td>negative</td>\n",
       "    </tr>\n",
       "    <tr>\n",
       "      <th>2020-08-17 00:30:00</th>\n",
       "      <td>It has always been Palestine and it always wil...</td>\n",
       "      <td>neutral</td>\n",
       "    </tr>\n",
       "    <tr>\n",
       "      <th>2020-08-17 00:30:00</th>\n",
       "      <td>tomorrow is Indonesia's independence, this can...</td>\n",
       "      <td>neutral</td>\n",
       "    </tr>\n",
       "    <tr>\n",
       "      <th>2020-08-17 00:31:00</th>\n",
       "      <td>We stand by the Palestine and Yaman  Until the...</td>\n",
       "      <td>neutral</td>\n",
       "    </tr>\n",
       "    <tr>\n",
       "      <th>2020-08-17 00:32:00</th>\n",
       "      <td>Normalization of israil = betrayal of the Musl...</td>\n",
       "      <td>negative</td>\n",
       "    </tr>\n",
       "    <tr>\n",
       "      <th>2020-08-17 00:34:00</th>\n",
       "      <td>If u forget we would never forget !!\n",
       "#UAEBetra...</td>\n",
       "      <td>neutral</td>\n",
       "    </tr>\n",
       "    <tr>\n",
       "      <th>2020-08-17 00:34:00</th>\n",
       "      <td>The goal is to destroy Israel\n",
       "#UAEBetraysPales...</td>\n",
       "      <td>negative</td>\n",
       "    </tr>\n",
       "    <tr>\n",
       "      <th>2020-08-17 00:35:00</th>\n",
       "      <td>Stop this treason to the Arabs further more to...</td>\n",
       "      <td>negative</td>\n",
       "    </tr>\n",
       "    <tr>\n",
       "      <th>2020-08-17 00:35:00</th>\n",
       "      <td>Long life Palestine.\n",
       "#UAEBetraysPalestine</td>\n",
       "      <td>neutral</td>\n",
       "    </tr>\n",
       "  </tbody>\n",
       "</table>\n",
       "</div>"
      ],
      "text/plain": [
       "                                                            tweet_text  \\\n",
       "tweet_time                                                               \n",
       "2020-08-17 00:30:00  We stand with Palestine. Isreal occupation of ...   \n",
       "2020-08-17 00:30:00  SHAME ON UAE !!!\n",
       "\n",
       "#UAEBetraysPalestine https:/...   \n",
       "2020-08-17 00:30:00  It has always been Palestine and it always wil...   \n",
       "2020-08-17 00:30:00  tomorrow is Indonesia's independence, this can...   \n",
       "2020-08-17 00:31:00  We stand by the Palestine and Yaman  Until the...   \n",
       "2020-08-17 00:32:00  Normalization of israil = betrayal of the Musl...   \n",
       "2020-08-17 00:34:00  If u forget we would never forget !!\n",
       "#UAEBetra...   \n",
       "2020-08-17 00:34:00  The goal is to destroy Israel\n",
       "#UAEBetraysPales...   \n",
       "2020-08-17 00:35:00  Stop this treason to the Arabs further more to...   \n",
       "2020-08-17 00:35:00          Long life Palestine.\n",
       "#UAEBetraysPalestine   \n",
       "\n",
       "                    sentiment  \n",
       "tweet_time                     \n",
       "2020-08-17 00:30:00  negative  \n",
       "2020-08-17 00:30:00  negative  \n",
       "2020-08-17 00:30:00   neutral  \n",
       "2020-08-17 00:30:00   neutral  \n",
       "2020-08-17 00:31:00   neutral  \n",
       "2020-08-17 00:32:00  negative  \n",
       "2020-08-17 00:34:00   neutral  \n",
       "2020-08-17 00:34:00  negative  \n",
       "2020-08-17 00:35:00  negative  \n",
       "2020-08-17 00:35:00   neutral  "
      ]
     },
     "execution_count": 86,
     "metadata": {},
     "output_type": "execute_result"
    }
   ],
   "source": [
    "english_tweets = pd.DataFrame(english_tweets)\n",
    "english_tweets['sentiment'] = sentiment\n",
    "english_tweets[['tweet_text','sentiment']].head(10)"
   ]
  },
  {
   "cell_type": "code",
   "execution_count": 77,
   "metadata": {},
   "outputs": [
    {
     "data": {
      "text/plain": [
       "sentiment\n",
       "negative    540\n",
       "neutral     389\n",
       "positive     85\n",
       "dtype: int64"
      ]
     },
     "execution_count": 77,
     "metadata": {},
     "output_type": "execute_result"
    }
   ],
   "source": [
    "grouped = (english_tweets\n",
    ".groupby('sentiment')\n",
    ")\n",
    "grouped.size()"
   ]
  },
  {
   "cell_type": "code",
   "execution_count": 80,
   "metadata": {},
   "outputs": [
    {
     "data": {
      "text/plain": [
       "tweet_time\n",
       "2020-08-17 00:43:00    RT @My1ManArmy: Very strong words.\n",
       "\n",
       "#UAEStabsM...\n",
       "2020-08-17 00:48:00    RT @BadriaNaila: Palestine, don't be disappoin...\n",
       "2020-08-17 00:48:00    RT @BadriaNaila: Palestine, we still love you ...\n",
       "2020-08-17 01:33:00    Verily God  is  with the truthful and Palestin...\n",
       "2020-08-17 01:57:00    we are not like arabs we are much better than ...\n",
       "Name: tweet_text, dtype: string"
      ]
     },
     "execution_count": 80,
     "metadata": {},
     "output_type": "execute_result"
    }
   ],
   "source": [
    "positive = grouped.get_group('positive')['tweet_text']\n",
    "positive[:5]"
   ]
  },
  {
   "cell_type": "code",
   "execution_count": 81,
   "metadata": {},
   "outputs": [],
   "source": [
    "tokens = make_tokens(positive)"
   ]
  },
  {
   "cell_type": "code",
   "execution_count": 83,
   "metadata": {},
   "outputs": [],
   "source": [
    "freq_dict = word_frequency(long_list(tokens))"
   ]
  },
  {
   "cell_type": "markdown",
   "metadata": {},
   "source": [
    "### Visualize positive keywords"
   ]
  },
  {
   "cell_type": "code",
   "execution_count": 84,
   "metadata": {
    "scrolled": true
   },
   "outputs": [
    {
     "data": {
      "image/png": "[encoded data removed]",
      "text/plain": [
       "<Figure size 432x288 with 1 Axes>"
      ]
     },
     "metadata": {
      "needs_background": "light"
     },
     "output_type": "display_data"
    }
   ],
   "source": [
    "fig = visualize(freq_dict)"
   ]
  },
  {
   "cell_type": "markdown",
   "metadata": {},
   "source": [
    "### Visualize negative keywords"
   ]
  },
  {
   "cell_type": "code",
   "execution_count": 161,
   "metadata": {},
   "outputs": [
    {
     "data": {
      "image/png": "[encoded data removed]",
      "text/plain": [
       "<Figure size 432x288 with 1 Axes>"
      ]
     },
     "metadata": {
      "needs_background": "light"
     },
     "output_type": "display_data"
    }
   ],
   "source": [
    "negative = grouped.get_group('negative')['tweet_text']\n",
    "freq = word_frequency(long_list(make_tokens(negative)))\n",
    "fig = visualize(freq)"
   ]
  },
  {
   "cell_type": "code",
   "execution_count": null,
   "metadata": {},
   "outputs": [],
   "source": []
  },
  {
   "cell_type": "markdown",
   "metadata": {},
   "source": [
    "#### To Do:\n",
    "- separate tweets by language + use different models\n",
    "    - make sure they have the same labels"
   ]
  },
  {
   "cell_type": "code",
   "execution_count": 96,
   "metadata": {},
   "outputs": [
    {
     "data": {
      "text/plain": [
       "es     193843\n",
       "en     115723\n",
       "in      57947\n",
       "fa      43765\n",
       "und     15708\n",
       "ar       7245\n",
       "fr       6015\n",
       "pt        792\n",
       "tl        759\n",
       "ca        439\n",
       "Name: tweet_language, dtype: Int64"
      ]
     },
     "execution_count": 96,
     "metadata": {},
     "output_type": "execute_result"
    }
   ],
   "source": [
    "(campaign['tweet_language']\n",
    ".value_counts()\n",
    ".sort_values(ascending=False))[:10]"
   ]
  },
  {
   "cell_type": "markdown",
   "metadata": {},
   "source": [
    "## Spanish language tweets"
   ]
  },
  {
   "cell_type": "code",
   "execution_count": 134,
   "metadata": {
    "scrolled": false
   },
   "outputs": [
    {
     "name": "stdout",
     "output_type": "stream",
     "text": [
      "Collecting pysentimiento\n",
      "  Downloading pysentimiento-0.2.2-py3-none-any.whl (13 kB)\n",
      "Requirement already satisfied: torch in /home/sarah/anaconda3/lib/python3.7/site-packages (from pysentimiento) (1.6.0)\n",
      "Collecting sklearn\n",
      "  Downloading sklearn-0.0.tar.gz (1.1 kB)\n",
      "Collecting transformers==4.6.1\n",
      "  Downloading transformers-4.6.1-py3-none-any.whl (2.2 MB)\n",
      "\u001b[K     |████████████████████████████████| 2.2 MB 634 kB/s eta 0:00:01\n",
      "\u001b[?25hCollecting emoji\n",
      "  Downloading emoji-1.2.0-py3-none-any.whl (131 kB)\n",
      "\u001b[K     |████████████████████████████████| 131 kB 22.0 MB/s eta 0:00:01\n",
      "\u001b[?25hRequirement already satisfied: future in /home/sarah/anaconda3/lib/python3.7/site-packages (from torch->pysentimiento) (0.18.2)\n",
      "Requirement already satisfied: numpy in /home/sarah/anaconda3/lib/python3.7/site-packages (from torch->pysentimiento) (1.19.5)\n",
      "Requirement already satisfied: scikit-learn in /home/sarah/anaconda3/lib/python3.7/site-packages (from sklearn->pysentimiento) (0.22.1)\n",
      "Requirement already satisfied: sacremoses in /home/sarah/anaconda3/lib/python3.7/site-packages (from transformers==4.6.1->pysentimiento) (0.0.45)\n",
      "Collecting huggingface-hub==0.0.8\n",
      "  Downloading huggingface_hub-0.0.8-py3-none-any.whl (34 kB)\n",
      "Requirement already satisfied: tqdm>=4.27 in /home/sarah/anaconda3/lib/python3.7/site-packages (from transformers==4.6.1->pysentimiento) (4.42.1)\n",
      "Requirement already satisfied: packaging in /home/sarah/anaconda3/lib/python3.7/site-packages (from transformers==4.6.1->pysentimiento) (20.1)\n",
      "Requirement already satisfied: filelock in /home/sarah/anaconda3/lib/python3.7/site-packages (from transformers==4.6.1->pysentimiento) (3.0.12)\n",
      "Requirement already satisfied: regex!=2019.12.17 in /home/sarah/anaconda3/lib/python3.7/site-packages (from transformers==4.6.1->pysentimiento) (2021.7.6)\n",
      "Requirement already satisfied: requests in /home/sarah/anaconda3/lib/python3.7/site-packages (from transformers==4.6.1->pysentimiento) (2.22.0)\n",
      "Requirement already satisfied: tokenizers<0.11,>=0.10.1 in /home/sarah/anaconda3/lib/python3.7/site-packages (from transformers==4.6.1->pysentimiento) (0.10.3)\n",
      "Requirement already satisfied: importlib-metadata; python_version < \"3.8\" in /home/sarah/anaconda3/lib/python3.7/site-packages (from transformers==4.6.1->pysentimiento) (1.7.0)\n",
      "Requirement already satisfied: scipy>=0.17.0 in /home/sarah/anaconda3/lib/python3.7/site-packages (from scikit-learn->sklearn->pysentimiento) (1.4.1)\n",
      "Requirement already satisfied: joblib>=0.11 in /home/sarah/anaconda3/lib/python3.7/site-packages (from scikit-learn->sklearn->pysentimiento) (0.14.1)\n",
      "Requirement already satisfied: six in /home/sarah/anaconda3/lib/python3.7/site-packages (from sacremoses->transformers==4.6.1->pysentimiento) (1.15.0)\n",
      "Requirement already satisfied: click in /home/sarah/anaconda3/lib/python3.7/site-packages (from sacremoses->transformers==4.6.1->pysentimiento) (7.0)\n",
      "Requirement already satisfied: pyparsing>=2.0.2 in /home/sarah/anaconda3/lib/python3.7/site-packages (from packaging->transformers==4.6.1->pysentimiento) (2.4.6)\n",
      "Requirement already satisfied: certifi>=2017.4.17 in /home/sarah/anaconda3/lib/python3.7/site-packages (from requests->transformers==4.6.1->pysentimiento) (2019.11.28)\n",
      "Requirement already satisfied: chardet<3.1.0,>=3.0.2 in /home/sarah/anaconda3/lib/python3.7/site-packages (from requests->transformers==4.6.1->pysentimiento) (3.0.4)\n",
      "Requirement already satisfied: urllib3!=1.25.0,!=1.25.1,<1.26,>=1.21.1 in /home/sarah/anaconda3/lib/python3.7/site-packages (from requests->transformers==4.6.1->pysentimiento) (1.25.8)\n",
      "Requirement already satisfied: idna<2.9,>=2.5 in /home/sarah/anaconda3/lib/python3.7/site-packages (from requests->transformers==4.6.1->pysentimiento) (2.8)\n",
      "Requirement already satisfied: zipp>=0.5 in /home/sarah/anaconda3/lib/python3.7/site-packages (from importlib-metadata; python_version < \"3.8\"->transformers==4.6.1->pysentimiento) (2.2.0)\n",
      "Building wheels for collected packages: sklearn\n",
      "  Building wheel for sklearn (setup.py) ... \u001b[?25ldone\n",
      "\u001b[?25h  Created wheel for sklearn: filename=sklearn-0.0-py2.py3-none-any.whl size=1316 sha256=094f81356b7e674dba21b0613ebfb45887a33638d6e109560b4a8309471bbbec\n",
      "  Stored in directory: /home/sarah/.cache/pip/wheels/46/ef/c3/157e41f5ee1372d1be90b09f74f82b10e391eaacca8f22d33e\n",
      "Successfully built sklearn\n",
      "Installing collected packages: sklearn, huggingface-hub, transformers, emoji, pysentimiento\n",
      "  Attempting uninstall: huggingface-hub\n",
      "    Found existing installation: huggingface-hub 0.0.12\n",
      "    Uninstalling huggingface-hub-0.0.12:\n",
      "      Successfully uninstalled huggingface-hub-0.0.12\n",
      "  Attempting uninstall: transformers\n",
      "    Found existing installation: transformers 4.8.2\n",
      "    Uninstalling transformers-4.8.2:\n",
      "      Successfully uninstalled transformers-4.8.2\n",
      "Successfully installed emoji-1.2.0 huggingface-hub-0.0.8 pysentimiento-0.2.2 sklearn-0.0 transformers-4.6.1\n"
     ]
    }
   ],
   "source": [
    "!pip install pysentimiento"
   ]
  },
  {
   "cell_type": "code",
   "execution_count": 135,
   "metadata": {},
   "outputs": [],
   "source": [
    "from pysentimiento import SentimentAnalyzer\n",
    "analyzer = SentimentAnalyzer(lang=\"es\")"
   ]
  },
  {
   "cell_type": "code",
   "execution_count": 149,
   "metadata": {},
   "outputs": [],
   "source": [
    "documents = (campaign\n",
    " .groupby('tweet_language')\n",
    " .get_group('es')['tweet_text']\n",
    ").head(100)"
   ]
  },
  {
   "cell_type": "code",
   "execution_count": 145,
   "metadata": {},
   "outputs": [
    {
     "name": "stdout",
     "output_type": "stream",
     "text": [
      "elapsed: 6.965889608953148\n"
     ]
    }
   ],
   "source": [
    "t1 = default_timer()\n",
    "\n",
    "sentiment = (documents\n",
    "             .apply(analyzer.predict)\n",
    "             .apply(lambda x: x.output)\n",
    "            )\n",
    "print('elapsed: {}'.format(default_timer() - t1))"
   ]
  },
  {
   "cell_type": "code",
   "execution_count": 154,
   "metadata": {},
   "outputs": [
    {
     "data": {
      "text/html": [
       "<div>\n",
       "<style scoped>\n",
       "    .dataframe tbody tr th:only-of-type {\n",
       "        vertical-align: middle;\n",
       "    }\n",
       "\n",
       "    .dataframe tbody tr th {\n",
       "        vertical-align: top;\n",
       "    }\n",
       "\n",
       "    .dataframe thead th {\n",
       "        text-align: right;\n",
       "    }\n",
       "</style>\n",
       "<table border=\"1\" class=\"dataframe\">\n",
       "  <thead>\n",
       "    <tr style=\"text-align: right;\">\n",
       "      <th></th>\n",
       "      <th>tweet_text</th>\n",
       "      <th>sentiment</th>\n",
       "    </tr>\n",
       "    <tr>\n",
       "      <th>tweetid</th>\n",
       "      <th></th>\n",
       "      <th></th>\n",
       "    </tr>\n",
       "  </thead>\n",
       "  <tbody>\n",
       "    <tr>\n",
       "      <th>1287686936698781703</th>\n",
       "      <td>Quien con una sonrisa se levanta un buen día l...</td>\n",
       "      <td>POS</td>\n",
       "    </tr>\n",
       "    <tr>\n",
       "      <th>1309019270370799618</th>\n",
       "      <td>Colombia, bohota\n",
       "han estallado protestas contr...</td>\n",
       "      <td>NEG</td>\n",
       "    </tr>\n",
       "    <tr>\n",
       "      <th>1294191167446364161</th>\n",
       "      <td>El bebé de Dalya Samoudi, durante el funeral d...</td>\n",
       "      <td>NEU</td>\n",
       "    </tr>\n",
       "    <tr>\n",
       "      <th>1290666171444887559</th>\n",
       "      <td>Las fuerzas israelíes detuvieron a jóvenes pal...</td>\n",
       "      <td>NEG</td>\n",
       "    </tr>\n",
       "    <tr>\n",
       "      <th>1303173676821557248</th>\n",
       "      <td>Las fuerzas de ocupación israelíes asaltan a l...</td>\n",
       "      <td>NEG</td>\n",
       "    </tr>\n",
       "    <tr>\n",
       "      <th>1303939884688736256</th>\n",
       "      <td>Las fuerzas de ocupación asaltan una fiesta de...</td>\n",
       "      <td>NEG</td>\n",
       "    </tr>\n",
       "    <tr>\n",
       "      <th>1282903550562054144</th>\n",
       "      <td>Fuerzas encubiertas israelíes secuestran a un ...</td>\n",
       "      <td>NEG</td>\n",
       "    </tr>\n",
       "    <tr>\n",
       "      <th>1310832161847640069</th>\n",
       "      <td>El líder de la oposición venezolana, Juan Guid...</td>\n",
       "      <td>NEG</td>\n",
       "    </tr>\n",
       "    <tr>\n",
       "      <th>1291896905098829825</th>\n",
       "      <td>Foto: israel ora por el Líbano!!!\n",
       "\n",
       "#BeirutBlas...</td>\n",
       "      <td>NEU</td>\n",
       "    </tr>\n",
       "    <tr>\n",
       "      <th>1295650271020953600</th>\n",
       "      <td>Buenos días princesa, que el día ya ha comenza...</td>\n",
       "      <td>POS</td>\n",
       "    </tr>\n",
       "  </tbody>\n",
       "</table>\n",
       "</div>"
      ],
      "text/plain": [
       "                                                            tweet_text  \\\n",
       "tweetid                                                                  \n",
       "1287686936698781703  Quien con una sonrisa se levanta un buen día l...   \n",
       "1309019270370799618  Colombia, bohota\n",
       "han estallado protestas contr...   \n",
       "1294191167446364161  El bebé de Dalya Samoudi, durante el funeral d...   \n",
       "1290666171444887559  Las fuerzas israelíes detuvieron a jóvenes pal...   \n",
       "1303173676821557248  Las fuerzas de ocupación israelíes asaltan a l...   \n",
       "1303939884688736256  Las fuerzas de ocupación asaltan una fiesta de...   \n",
       "1282903550562054144  Fuerzas encubiertas israelíes secuestran a un ...   \n",
       "1310832161847640069  El líder de la oposición venezolana, Juan Guid...   \n",
       "1291896905098829825  Foto: israel ora por el Líbano!!!\n",
       "\n",
       "#BeirutBlas...   \n",
       "1295650271020953600  Buenos días princesa, que el día ya ha comenza...   \n",
       "\n",
       "                    sentiment  \n",
       "tweetid                        \n",
       "1287686936698781703       POS  \n",
       "1309019270370799618       NEG  \n",
       "1294191167446364161       NEU  \n",
       "1290666171444887559       NEG  \n",
       "1303173676821557248       NEG  \n",
       "1303939884688736256       NEG  \n",
       "1282903550562054144       NEG  \n",
       "1310832161847640069       NEG  \n",
       "1291896905098829825       NEU  \n",
       "1295650271020953600       POS  "
      ]
     },
     "execution_count": 154,
     "metadata": {},
     "output_type": "execute_result"
    }
   ],
   "source": [
    "documents = pd.DataFrame(documents)\n",
    "documents['sentiment'] = sentiment['sentiment']\n",
    "documents[['tweet_text','sentiment']].head(10)"
   ]
  },
  {
   "cell_type": "code",
   "execution_count": 159,
   "metadata": {},
   "outputs": [
    {
     "data": {
      "text/plain": [
       "['Quien con una sonrisa se levanta un buen día le espera.\\n#FelizLunesATodos #27Julio #BuenosDiasATodos https://t.co/nYLW2YJp3z',\n",
       " 'Buenos días princesa, que el día ya ha comenzado y tenemos que disfrutar del día juntos.\\n#BuenosDiasATodos #FelizMartesATodos #18Agosto https://t.co/sFvca6gQoR',\n",
       " 'El lugar más bello para dormir es en el pensamiento de alguien. Buenas noches.\\n#FelizDomingo \\n#26Julio \\n#BuenasNochesATodos https://t.co/X5CnKoB4vF',\n",
       " 'Que la noche te depare un dulce descanso, ¡buenas noches.\\n#BuenasNoches #FelizViernes #14agosto 14ago https://t.co/6KjEUE8qCU',\n",
       " 'Buenos días, es hora de que despiertes y leas mi primer te amo del día.\\n#felizmartesatodos #BuenosDiasMundo #25agosto https://t.co/DcxJlGmZ8f',\n",
       " 'Hora del almuerzo 🦈\\n#BuenasNoches \\n#FelizMiércoles \\n#2Sep https://t.co/eVaiz0V3Jh',\n",
       " 'Nada es más suave o más flexible que el agua.\\n#BuenosDiasMundo #BuenosAires #FelizLunesATodos https://t.co/6eO4q4Z2iw',\n",
       " '¡Realmente una imagen poderosa!\\n#PalestiniansLivesMatter #PalestinaLibre #IsraeliCrimes https://t.co/scUoLnglS1',\n",
       " 'Hola...\\nFeliz martes A todos\\n#18Feb \\n#FelizMartes \\n#Venezuela https://t.co/nZjzBGj0St',\n",
       " '¡El significado de la paz desde el punto de vista israelí!\\n#PalestinianLivesMatter \\n#Israel https://t.co/v71d47sJ0G']"
      ]
     },
     "execution_count": 159,
     "metadata": {},
     "output_type": "execute_result"
    }
   ],
   "source": [
    "((documents\n",
    ".groupby('sentiment')\n",
    ".get_group('POS')\n",
    ").head(10)['tweet_text']).to_list()"
   ]
  },
  {
   "cell_type": "code",
   "execution_count": null,
   "metadata": {},
   "outputs": [],
   "source": []
  }
 ],
 "metadata": {
  "kernelspec": {
   "display_name": "Python 3",
   "language": "python",
   "name": "python3"
  },
  "language_info": {
   "codemirror_mode": {
    "name": "ipython",
    "version": 3
   },
   "file_extension": ".py",
   "mimetype": "text/x-python",
   "name": "python",
   "nbconvert_exporter": "python",
   "pygments_lexer": "ipython3",
   "version": "3.7.6"
  }
 },
 "nbformat": 4,
 "nbformat_minor": 4
}
