{
 "cells": [
  {
   "cell_type": "code",
   "execution_count": null,
   "metadata": {
    "scrolled": true
   },
   "outputs": [],
   "source": [
    "!pip install tensorflow\n",
    "!pip install tokenizers\n",
    "!pip install transformers"
   ]
  },
  {
   "cell_type": "code",
   "execution_count": 1,
   "metadata": {},
   "outputs": [],
   "source": [
    "import collections\n",
    "from collections import defaultdict\n",
    "import csv\n",
    "import functools\n",
    "import itertools\n",
    "import re\n",
    "import string\n",
    "import timeit\n",
    "from timeit import default_timer\n",
    "import urllib.request\n",
    "\n",
    "import matplotlib.pyplot as plt\n",
    "import numpy as np\n",
    "import pandas as pd\n",
    "from scipy.spatial.distance import cosine\n",
    "from scipy.special import softmax\n",
    "from transformers import AutoModelForSequenceClassification\n",
    "from transformers import TFAutoModelForSequenceClassification\n",
    "from transformers import AutoTokenizer, AutoModel, TFAutoModel\n",
    "\n",
    "from utils import *\n",
    "from topic_utils import *"
   ]
  },
  {
   "cell_type": "markdown",
   "metadata": {},
   "source": [
    "### Data"
   ]
  },
  {
   "cell_type": "code",
   "execution_count": 2,
   "metadata": {},
   "outputs": [],
   "source": [
    "users = UsersData('data/users')\n",
    "tweets = TweetsData('data/tweets')"
   ]
  },
  {
   "cell_type": "code",
   "execution_count": 3,
   "metadata": {},
   "outputs": [],
   "source": [
    "df = tweets.df.loc[:][:]\n",
    "user_df = users.df.loc[:][:]"
   ]
  },
  {
   "cell_type": "code",
   "execution_count": 4,
   "metadata": {},
   "outputs": [],
   "source": [
    "campaign = df[df['campaign'] == 'iran202012']\n",
    "campaign_users = user_df[user_df['campaign'] == 'iran202012']"
   ]
  },
  {
   "cell_type": "markdown",
   "metadata": {},
   "source": [
    "# Sentiment Analysis"
   ]
  },
  {
   "cell_type": "markdown",
   "metadata": {},
   "source": [
    "Download the Cardiff NLP Twitter pre-trained roBERTa base model:"
   ]
  },
  {
   "cell_type": "code",
   "execution_count": 5,
   "metadata": {},
   "outputs": [
    {
     "name": "stderr",
     "output_type": "stream",
     "text": [
      "All model checkpoint layers were used when initializing TFRobertaForSequenceClassification.\n",
      "\n",
      "All the layers of TFRobertaForSequenceClassification were initialized from the model checkpoint at cardiffnlp/twitter-roberta-base-sentiment.\n",
      "If your task is similar to the task the model of the checkpoint was trained on, you can already use TFRobertaForSequenceClassification for predictions without further training.\n"
     ]
    }
   ],
   "source": [
    "task = 'sentiment'\n",
    "\n",
    "MODEL = \"cardiffnlp/twitter-roberta-base-{}\".format(task)\n",
    "model = TFAutoModelForSequenceClassification.from_pretrained(MODEL)"
   ]
  },
  {
   "cell_type": "code",
   "execution_count": 14,
   "metadata": {},
   "outputs": [
    {
     "data": {
      "text/plain": [
       "RobertaConfig {\n",
       "  \"_name_or_path\": \"cardiffnlp/twitter-roberta-base-sentiment\",\n",
       "  \"architectures\": [\n",
       "    \"RobertaForSequenceClassification\"\n",
       "  ],\n",
       "  \"attention_probs_dropout_prob\": 0.1,\n",
       "  \"bos_token_id\": 0,\n",
       "  \"eos_token_id\": 2,\n",
       "  \"gradient_checkpointing\": false,\n",
       "  \"hidden_act\": \"gelu\",\n",
       "  \"hidden_dropout_prob\": 0.1,\n",
       "  \"hidden_size\": 768,\n",
       "  \"id2label\": {\n",
       "    \"0\": \"LABEL_0\",\n",
       "    \"1\": \"LABEL_1\",\n",
       "    \"2\": \"LABEL_2\"\n",
       "  },\n",
       "  \"initializer_range\": 0.02,\n",
       "  \"intermediate_size\": 3072,\n",
       "  \"label2id\": {\n",
       "    \"LABEL_0\": 0,\n",
       "    \"LABEL_1\": 1,\n",
       "    \"LABEL_2\": 2\n",
       "  },\n",
       "  \"layer_norm_eps\": 1e-05,\n",
       "  \"max_position_embeddings\": 514,\n",
       "  \"model_type\": \"roberta\",\n",
       "  \"num_attention_heads\": 12,\n",
       "  \"num_hidden_layers\": 12,\n",
       "  \"pad_token_id\": 1,\n",
       "  \"position_embedding_type\": \"absolute\",\n",
       "  \"transformers_version\": \"4.8.2\",\n",
       "  \"type_vocab_size\": 1,\n",
       "  \"use_cache\": true,\n",
       "  \"vocab_size\": 50265\n",
       "}"
      ]
     },
     "execution_count": 14,
     "metadata": {},
     "output_type": "execute_result"
    }
   ],
   "source": [
    "model.config"
   ]
  },
  {
   "cell_type": "code",
   "execution_count": null,
   "metadata": {},
   "outputs": [],
   "source": [
    "def get_sentiment(documents):\n",
    "    \n",
    "    sentiments = []\n",
    "\n",
    "    for doc in documents:\n",
    "        encoded_input = tokenizer(doc, return_tensors='tf')\n",
    "        output = model(encoded_input)\n",
    "        scores = output[0][0].numpy()\n",
    "        scores = softmax(scores)\n",
    "\n",
    "        sentiments.append(labels[np.argmax(scores)])\n",
    "\n",
    "    return dict(zip(documents, sentiments))"
   ]
  },
  {
   "cell_type": "code",
   "execution_count": 50,
   "metadata": {},
   "outputs": [],
   "source": [
    "def get_model(model, task):\n",
    "    model = TFAutoModelForSequenceClassification.from_pretrained(MODEL)\n",
    "\n",
    "    tokenizer = AutoTokenizer.from_pretrained(MODEL)\n",
    "    tokenizer.add_tokens(['[HTAG]', '[URL]', '[AT]'])\n",
    "    \n",
    "    return model, tokenizer\n",
    "    \n",
    "def get_labels(task):\n",
    "    mapping_link = ('https://raw.githubusercontent.com/cardiffnlp/tweeteval/main/datasets/{}/mapping.txt'.format(task))\n",
    "    with urllib.request.urlopen(mapping_link) as f:\n",
    "        html = f.read().decode('utf-8').split(\"\\n\")\n",
    "        csvreader = csv.reader(html, delimiter='\\t')\n",
    "    return [row[1] for row in csvreader if len(row) > 1]\n",
    "    \n",
    "def predict_sentiment(document):\n",
    "    # preprocess\n",
    "    document = preprocess_string(document)\n",
    "    \n",
    "    # tokenize\n",
    "    encoded_input = tokenizer(document, return_tensors='tf')\n",
    "    \n",
    "    # apply model\n",
    "    output = model(encoded_input)\n",
    "    scores = output[0][0].numpy()\n",
    "    scores = softmax(scores)\n",
    "\n",
    "    return labels[np.argmax(scores)]#, np.max(scores)"
   ]
  },
  {
   "cell_type": "code",
   "execution_count": 8,
   "metadata": {},
   "outputs": [],
   "source": [
    "def get_sentiment_apply(document):\n",
    "    \"\"\"Usage: df.apply(get_sentiment_apply)\"\"\"\n",
    "    encoded_input = tokenizer(document, return_tensors='tf')\n",
    "    output = model(encoded_input)\n",
    "    scores = output[0][0].numpy()\n",
    "    scores = softmax(scores)\n",
    "\n",
    "    return labels[np.argmax(scores)]#, np.max(scores)"
   ]
  },
  {
   "cell_type": "code",
   "execution_count": 7,
   "metadata": {},
   "outputs": [
    {
     "name": "stderr",
     "output_type": "stream",
     "text": [
      "All model checkpoint layers were used when initializing TFRobertaForSequenceClassification.\n",
      "\n",
      "All the layers of TFRobertaForSequenceClassification were initialized from the model checkpoint at cardiffnlp/twitter-roberta-base-sentiment.\n",
      "If your task is similar to the task the model of the checkpoint was trained on, you can already use TFRobertaForSequenceClassification for predictions without further training.\n"
     ]
    }
   ],
   "source": [
    "task = 'sentiment'\n",
    "MODEL = 'cardiffnlp/twitter-roberta-base-{}'.format(task)\n",
    "\n",
    "model, tokenizer = get_model(MODEL, task)\n",
    "\n",
    "labels = get_labels(task)"
   ]
  },
  {
   "cell_type": "markdown",
   "metadata": {},
   "source": [
    "Apply only to English tweets (model has been trained on English):"
   ]
  },
  {
   "cell_type": "code",
   "execution_count": 61,
   "metadata": {},
   "outputs": [
    {
     "data": {
      "text/plain": [
       "\"Why there's a bird sound? And why it's upside down? https://t.co/FK8pOY2PqU\""
      ]
     },
     "execution_count": 61,
     "metadata": {},
     "output_type": "execute_result"
    }
   ],
   "source": [
    "documents = (campaign\n",
    " .groupby('tweet_language')\n",
    " .get_group('en')['tweet_text']\n",
    ").head(100)\n",
    "\n",
    "documents.iloc[0]"
   ]
  },
  {
   "cell_type": "code",
   "execution_count": 89,
   "metadata": {},
   "outputs": [
    {
     "name": "stdout",
     "output_type": "stream",
     "text": [
      "elapsed: 11.885387755988631\n"
     ]
    }
   ],
   "source": [
    "# todo: make this much faster\n",
    "t1 = default_timer()\n",
    "\n",
    "sentiment = (documents\n",
    "             .apply(preprocess_string)\n",
    "             .apply(predict_sentiment)\n",
    "            )\n",
    "print('elapsed: {}'.format(default_timer() - t1))"
   ]
  },
  {
   "cell_type": "code",
   "execution_count": 91,
   "metadata": {},
   "outputs": [
    {
     "data": {
      "text/html": [
       "<div>\n",
       "<style scoped>\n",
       "    .dataframe tbody tr th:only-of-type {\n",
       "        vertical-align: middle;\n",
       "    }\n",
       "\n",
       "    .dataframe tbody tr th {\n",
       "        vertical-align: top;\n",
       "    }\n",
       "\n",
       "    .dataframe thead th {\n",
       "        text-align: right;\n",
       "    }\n",
       "</style>\n",
       "<table border=\"1\" class=\"dataframe\">\n",
       "  <thead>\n",
       "    <tr style=\"text-align: right;\">\n",
       "      <th></th>\n",
       "      <th>tweet_text</th>\n",
       "      <th>sentiment</th>\n",
       "    </tr>\n",
       "    <tr>\n",
       "      <th>tweetid</th>\n",
       "      <th></th>\n",
       "      <th></th>\n",
       "    </tr>\n",
       "  </thead>\n",
       "  <tbody>\n",
       "    <tr>\n",
       "      <th>907991739713118208</th>\n",
       "      <td>Why there's a bird sound? And why it's upside ...</td>\n",
       "      <td>neutral</td>\n",
       "    </tr>\n",
       "    <tr>\n",
       "      <th>1277789135470768129</th>\n",
       "      <td>Malawi is using bamboo to fight #climatechange...</td>\n",
       "      <td>positive</td>\n",
       "    </tr>\n",
       "    <tr>\n",
       "      <th>1314271851988873251</th>\n",
       "      <td>😷Right in the middle of an illness😷 ..... #Bla...</td>\n",
       "      <td>negative</td>\n",
       "    </tr>\n",
       "    <tr>\n",
       "      <th>1298084197773520898</th>\n",
       "      <td>Scotland’s Climate Assembly, doing politics di...</td>\n",
       "      <td>neutral</td>\n",
       "    </tr>\n",
       "    <tr>\n",
       "      <th>1291999805770694656</th>\n",
       "      <td>It's an urgent warning from climate scientists...</td>\n",
       "      <td>neutral</td>\n",
       "    </tr>\n",
       "    <tr>\n",
       "      <th>1281483637997940736</th>\n",
       "      <td>Economic inequality is out of control...\n",
       "This ...</td>\n",
       "      <td>negative</td>\n",
       "    </tr>\n",
       "    <tr>\n",
       "      <th>1302115414919401473</th>\n",
       "      <td>DR. Anthony Fauci: I congratulate Russians to ...</td>\n",
       "      <td>negative</td>\n",
       "    </tr>\n",
       "    <tr>\n",
       "      <th>1267652700537315331</th>\n",
       "      <td>I can't breath...\n",
       "#HumanRights \n",
       "#HumanRightsVi...</td>\n",
       "      <td>negative</td>\n",
       "    </tr>\n",
       "    <tr>\n",
       "      <th>1243826214630031360</th>\n",
       "      <td>A major exhibition hall in Vienna has been tra...</td>\n",
       "      <td>neutral</td>\n",
       "    </tr>\n",
       "    <tr>\n",
       "      <th>1218816383812718592</th>\n",
       "      <td>The Global Human Rights Regime needs to be rev...</td>\n",
       "      <td>neutral</td>\n",
       "    </tr>\n",
       "  </tbody>\n",
       "</table>\n",
       "</div>"
      ],
      "text/plain": [
       "                                                            tweet_text  \\\n",
       "tweetid                                                                  \n",
       "907991739713118208   Why there's a bird sound? And why it's upside ...   \n",
       "1277789135470768129  Malawi is using bamboo to fight #climatechange...   \n",
       "1314271851988873251  😷Right in the middle of an illness😷 ..... #Bla...   \n",
       "1298084197773520898  Scotland’s Climate Assembly, doing politics di...   \n",
       "1291999805770694656  It's an urgent warning from climate scientists...   \n",
       "1281483637997940736  Economic inequality is out of control...\n",
       "This ...   \n",
       "1302115414919401473  DR. Anthony Fauci: I congratulate Russians to ...   \n",
       "1267652700537315331  I can't breath...\n",
       "#HumanRights \n",
       "#HumanRightsVi...   \n",
       "1243826214630031360  A major exhibition hall in Vienna has been tra...   \n",
       "1218816383812718592  The Global Human Rights Regime needs to be rev...   \n",
       "\n",
       "                    sentiment  \n",
       "tweetid                        \n",
       "907991739713118208    neutral  \n",
       "1277789135470768129  positive  \n",
       "1314271851988873251  negative  \n",
       "1298084197773520898   neutral  \n",
       "1291999805770694656   neutral  \n",
       "1281483637997940736  negative  \n",
       "1302115414919401473  negative  \n",
       "1267652700537315331  negative  \n",
       "1243826214630031360   neutral  \n",
       "1218816383812718592   neutral  "
      ]
     },
     "execution_count": 91,
     "metadata": {},
     "output_type": "execute_result"
    }
   ],
   "source": [
    "df_abbrv = pd.DataFrame(documents)\n",
    "df_abbrv['sentiment'] = sentiment\n",
    "df_abbrv['tw'.head(10)"
   ]
  },
  {
   "cell_type": "code",
   "execution_count": 64,
   "metadata": {},
   "outputs": [
    {
     "data": {
      "text/html": [
       "<div>\n",
       "<style scoped>\n",
       "    .dataframe tbody tr th:only-of-type {\n",
       "        vertical-align: middle;\n",
       "    }\n",
       "\n",
       "    .dataframe tbody tr th {\n",
       "        vertical-align: top;\n",
       "    }\n",
       "\n",
       "    .dataframe thead th {\n",
       "        text-align: right;\n",
       "    }\n",
       "</style>\n",
       "<table border=\"1\" class=\"dataframe\">\n",
       "  <thead>\n",
       "    <tr style=\"text-align: right;\">\n",
       "      <th></th>\n",
       "      <th>tweet_text</th>\n",
       "      <th>sentiment</th>\n",
       "    </tr>\n",
       "    <tr>\n",
       "      <th>tweetid</th>\n",
       "      <th></th>\n",
       "      <th></th>\n",
       "    </tr>\n",
       "  </thead>\n",
       "  <tbody>\n",
       "    <tr>\n",
       "      <th>1314271851988873251</th>\n",
       "      <td>😷Right in the middle of an illness😷 ..... #Bla...</td>\n",
       "      <td>negative</td>\n",
       "    </tr>\n",
       "    <tr>\n",
       "      <th>1281483637997940736</th>\n",
       "      <td>Economic inequality is out of control...\n",
       "This ...</td>\n",
       "      <td>negative</td>\n",
       "    </tr>\n",
       "    <tr>\n",
       "      <th>1302115414919401473</th>\n",
       "      <td>DR. Anthony Fauci: I congratulate Russians to ...</td>\n",
       "      <td>negative</td>\n",
       "    </tr>\n",
       "    <tr>\n",
       "      <th>1267652700537315331</th>\n",
       "      <td>I can't breath...\n",
       "#HumanRights \n",
       "#HumanRightsVi...</td>\n",
       "      <td>negative</td>\n",
       "    </tr>\n",
       "    <tr>\n",
       "      <th>1289552966752460802</th>\n",
       "      <td>Alexander Vindman retires,cites 'bullying' by ...</td>\n",
       "      <td>negative</td>\n",
       "    </tr>\n",
       "    <tr>\n",
       "      <th>1269827106042720258</th>\n",
       "      <td>This is what oppression of a black live looks ...</td>\n",
       "      <td>negative</td>\n",
       "    </tr>\n",
       "    <tr>\n",
       "      <th>1222143276951601153</th>\n",
       "      <td>I don't understand his language, but my heart ...</td>\n",
       "      <td>negative</td>\n",
       "    </tr>\n",
       "    <tr>\n",
       "      <th>1299400387078881281</th>\n",
       "      <td>can't name one because he ruined everything fo...</td>\n",
       "      <td>negative</td>\n",
       "    </tr>\n",
       "    <tr>\n",
       "      <th>1300830299786543104</th>\n",
       "      <td>The Role of Law Enforcement in Supporting Pede...</td>\n",
       "      <td>negative</td>\n",
       "    </tr>\n",
       "    <tr>\n",
       "      <th>1302039770076516354</th>\n",
       "      <td>A significant majority of Americans believe Pr...</td>\n",
       "      <td>negative</td>\n",
       "    </tr>\n",
       "  </tbody>\n",
       "</table>\n",
       "</div>"
      ],
      "text/plain": [
       "                                                            tweet_text  \\\n",
       "tweetid                                                                  \n",
       "1314271851988873251  😷Right in the middle of an illness😷 ..... #Bla...   \n",
       "1281483637997940736  Economic inequality is out of control...\n",
       "This ...   \n",
       "1302115414919401473  DR. Anthony Fauci: I congratulate Russians to ...   \n",
       "1267652700537315331  I can't breath...\n",
       "#HumanRights \n",
       "#HumanRightsVi...   \n",
       "1289552966752460802  Alexander Vindman retires,cites 'bullying' by ...   \n",
       "1269827106042720258  This is what oppression of a black live looks ...   \n",
       "1222143276951601153  I don't understand his language, but my heart ...   \n",
       "1299400387078881281  can't name one because he ruined everything fo...   \n",
       "1300830299786543104  The Role of Law Enforcement in Supporting Pede...   \n",
       "1302039770076516354  A significant majority of Americans believe Pr...   \n",
       "\n",
       "                    sentiment  \n",
       "tweetid                        \n",
       "1314271851988873251  negative  \n",
       "1281483637997940736  negative  \n",
       "1302115414919401473  negative  \n",
       "1267652700537315331  negative  \n",
       "1289552966752460802  negative  \n",
       "1269827106042720258  negative  \n",
       "1222143276951601153  negative  \n",
       "1299400387078881281  negative  \n",
       "1300830299786543104  negative  \n",
       "1302039770076516354  negative  "
      ]
     },
     "execution_count": 64,
     "metadata": {},
     "output_type": "execute_result"
    }
   ],
   "source": [
    "(df_abbrv\n",
    ".groupby('sentiment')\n",
    ".get_group('negative')\n",
    ").head(10)"
   ]
  },
  {
   "cell_type": "markdown",
   "metadata": {},
   "source": [
    "## Event-related sentiment\n",
    "- separate tweets by language + use different models\n",
    "    - make sure they have the same labels"
   ]
  },
  {
   "cell_type": "code",
   "execution_count": 67,
   "metadata": {},
   "outputs": [
    {
     "data": {
      "text/html": [
       "<div>\n",
       "<style scoped>\n",
       "    .dataframe tbody tr th:only-of-type {\n",
       "        vertical-align: middle;\n",
       "    }\n",
       "\n",
       "    .dataframe tbody tr th {\n",
       "        vertical-align: top;\n",
       "    }\n",
       "\n",
       "    .dataframe thead th {\n",
       "        text-align: right;\n",
       "    }\n",
       "</style>\n",
       "<table border=\"1\" class=\"dataframe\">\n",
       "  <thead>\n",
       "    <tr style=\"text-align: right;\">\n",
       "      <th></th>\n",
       "      <th>tweetid</th>\n",
       "      <th>userid</th>\n",
       "      <th>tweet_text</th>\n",
       "      <th>tweet_language</th>\n",
       "    </tr>\n",
       "    <tr>\n",
       "      <th>tweet_time</th>\n",
       "      <th></th>\n",
       "      <th></th>\n",
       "      <th></th>\n",
       "      <th></th>\n",
       "    </tr>\n",
       "  </thead>\n",
       "  <tbody>\n",
       "    <tr>\n",
       "      <th>2020-08-17 00:02:00</th>\n",
       "      <td>1295149036681474048</td>\n",
       "      <td>213589457</td>\n",
       "      <td>RT @irXcL8Y80STibhjlS3a48BahFUg3yqPT+XtTxkpLL8...</td>\n",
       "      <td>es</td>\n",
       "    </tr>\n",
       "    <tr>\n",
       "      <th>2020-08-17 00:02:00</th>\n",
       "      <td>1295149057372033024</td>\n",
       "      <td>jWkurFac8vhkrkKlTqvhjp4rwEVXCuZ7uOhVc+bs1ZY=</td>\n",
       "      <td>@safewordthe2nd @Mahyargdrz عه نه! چرا!؟ پس کی...</td>\n",
       "      <td>fa</td>\n",
       "    </tr>\n",
       "    <tr>\n",
       "      <th>2020-08-17 00:15:00</th>\n",
       "      <td>1295152130546900995</td>\n",
       "      <td>213589457</td>\n",
       "      <td>Una fuente saudí afirma que el príncipe herede...</td>\n",
       "      <td>es</td>\n",
       "    </tr>\n",
       "    <tr>\n",
       "      <th>2020-08-17 00:30:00</th>\n",
       "      <td>1295155883819667458</td>\n",
       "      <td>etDaWEjMPleueDrpkatPUSCApc6yU8W95+yZYWzVxSY=</td>\n",
       "      <td>Dirgahayu RI ke 75 \n",
       "\n",
       "Jangan sia-siain jasa pah...</td>\n",
       "      <td>in</td>\n",
       "    </tr>\n",
       "    <tr>\n",
       "      <th>2020-08-17 00:30:00</th>\n",
       "      <td>1295155884205789185</td>\n",
       "      <td>etDaWEjMPleueDrpkatPUSCApc6yU8W95+yZYWzVxSY=</td>\n",
       "      <td>\"Kita berutang kepada Palestina. Palestina yan...</td>\n",
       "      <td>in</td>\n",
       "    </tr>\n",
       "  </tbody>\n",
       "</table>\n",
       "</div>"
      ],
      "text/plain": [
       "                                 tweetid  \\\n",
       "tweet_time                                 \n",
       "2020-08-17 00:02:00  1295149036681474048   \n",
       "2020-08-17 00:02:00  1295149057372033024   \n",
       "2020-08-17 00:15:00  1295152130546900995   \n",
       "2020-08-17 00:30:00  1295155883819667458   \n",
       "2020-08-17 00:30:00  1295155884205789185   \n",
       "\n",
       "                                                           userid  \\\n",
       "tweet_time                                                          \n",
       "2020-08-17 00:02:00                                     213589457   \n",
       "2020-08-17 00:02:00  jWkurFac8vhkrkKlTqvhjp4rwEVXCuZ7uOhVc+bs1ZY=   \n",
       "2020-08-17 00:15:00                                     213589457   \n",
       "2020-08-17 00:30:00  etDaWEjMPleueDrpkatPUSCApc6yU8W95+yZYWzVxSY=   \n",
       "2020-08-17 00:30:00  etDaWEjMPleueDrpkatPUSCApc6yU8W95+yZYWzVxSY=   \n",
       "\n",
       "                                                            tweet_text  \\\n",
       "tweet_time                                                               \n",
       "2020-08-17 00:02:00  RT @irXcL8Y80STibhjlS3a48BahFUg3yqPT+XtTxkpLL8...   \n",
       "2020-08-17 00:02:00  @safewordthe2nd @Mahyargdrz عه نه! چرا!؟ پس کی...   \n",
       "2020-08-17 00:15:00  Una fuente saudí afirma que el príncipe herede...   \n",
       "2020-08-17 00:30:00  Dirgahayu RI ke 75 \n",
       "\n",
       "Jangan sia-siain jasa pah...   \n",
       "2020-08-17 00:30:00  \"Kita berutang kepada Palestina. Palestina yan...   \n",
       "\n",
       "                    tweet_language  \n",
       "tweet_time                          \n",
       "2020-08-17 00:02:00             es  \n",
       "2020-08-17 00:02:00             fa  \n",
       "2020-08-17 00:15:00             es  \n",
       "2020-08-17 00:30:00             in  \n",
       "2020-08-17 00:30:00             in  "
      ]
     },
     "execution_count": 67,
     "metadata": {},
     "output_type": "execute_result"
    }
   ],
   "source": [
    "grouped = (campaign\n",
    " .reset_index()\n",
    " .set_index('tweet_time')\n",
    " .resample('D')[['tweetid','userid','tweet_text','tweet_language']]\n",
    ")\n",
    "\n",
    "top_day = (grouped\n",
    " .size()\n",
    " .sort_values(ascending=False)\n",
    ").idxmax()\n",
    "\n",
    "top_day_tweets = grouped.get_group(top_day)\n",
    "top_day_tweets.head(5)"
   ]
  },
  {
   "cell_type": "code",
   "execution_count": 85,
   "metadata": {},
   "outputs": [
    {
     "data": {
      "text/html": [
       "<div>\n",
       "<style scoped>\n",
       "    .dataframe tbody tr th:only-of-type {\n",
       "        vertical-align: middle;\n",
       "    }\n",
       "\n",
       "    .dataframe tbody tr th {\n",
       "        vertical-align: top;\n",
       "    }\n",
       "\n",
       "    .dataframe thead th {\n",
       "        text-align: right;\n",
       "    }\n",
       "</style>\n",
       "<table border=\"1\" class=\"dataframe\">\n",
       "  <thead>\n",
       "    <tr style=\"text-align: right;\">\n",
       "      <th></th>\n",
       "      <th>tweetid</th>\n",
       "      <th>userid</th>\n",
       "      <th>tweet_text</th>\n",
       "      <th>tweet_language</th>\n",
       "    </tr>\n",
       "    <tr>\n",
       "      <th>tweet_time</th>\n",
       "      <th></th>\n",
       "      <th></th>\n",
       "      <th></th>\n",
       "      <th></th>\n",
       "    </tr>\n",
       "  </thead>\n",
       "  <tbody>\n",
       "    <tr>\n",
       "      <th>2020-08-17 00:30:00</th>\n",
       "      <td>1295155883857436672</td>\n",
       "      <td>6qhrzJLryTiE7VlJkmY+cKE5VsITiaFwMA7s3Dr5I=</td>\n",
       "      <td>We stand with Palestine. Isreal occupation of ...</td>\n",
       "      <td>en</td>\n",
       "    </tr>\n",
       "    <tr>\n",
       "      <th>2020-08-17 00:30:00</th>\n",
       "      <td>1295155884193124353</td>\n",
       "      <td>etDaWEjMPleueDrpkatPUSCApc6yU8W95+yZYWzVxSY=</td>\n",
       "      <td>SHAME ON UAE !!!\n",
       "\n",
       "#UAEBetraysPalestine https:/...</td>\n",
       "      <td>en</td>\n",
       "    </tr>\n",
       "    <tr>\n",
       "      <th>2020-08-17 00:30:00</th>\n",
       "      <td>1295155883945521152</td>\n",
       "      <td>79Tf6XH3DwjdUWGO4aQWghSj5G2esetBnePoOBB3wYM=</td>\n",
       "      <td>It has always been Palestine and it always wil...</td>\n",
       "      <td>en</td>\n",
       "    </tr>\n",
       "    <tr>\n",
       "      <th>2020-08-17 00:30:00</th>\n",
       "      <td>1295155884855762944</td>\n",
       "      <td>etDaWEjMPleueDrpkatPUSCApc6yU8W95+yZYWzVxSY=</td>\n",
       "      <td>tomorrow is Indonesia's independence, this can...</td>\n",
       "      <td>en</td>\n",
       "    </tr>\n",
       "    <tr>\n",
       "      <th>2020-08-17 00:31:00</th>\n",
       "      <td>1295156135587123201</td>\n",
       "      <td>79Tf6XH3DwjdUWGO4aQWghSj5G2esetBnePoOBB3wYM=</td>\n",
       "      <td>We stand by the Palestine and Yaman  Until the...</td>\n",
       "      <td>en</td>\n",
       "    </tr>\n",
       "  </tbody>\n",
       "</table>\n",
       "</div>"
      ],
      "text/plain": [
       "                                 tweetid  \\\n",
       "tweet_time                                 \n",
       "2020-08-17 00:30:00  1295155883857436672   \n",
       "2020-08-17 00:30:00  1295155884193124353   \n",
       "2020-08-17 00:30:00  1295155883945521152   \n",
       "2020-08-17 00:30:00  1295155884855762944   \n",
       "2020-08-17 00:31:00  1295156135587123201   \n",
       "\n",
       "                                                           userid  \\\n",
       "tweet_time                                                          \n",
       "2020-08-17 00:30:00    6qhrzJLryTiE7VlJkmY+cKE5VsITiaFwMA7s3Dr5I=   \n",
       "2020-08-17 00:30:00  etDaWEjMPleueDrpkatPUSCApc6yU8W95+yZYWzVxSY=   \n",
       "2020-08-17 00:30:00  79Tf6XH3DwjdUWGO4aQWghSj5G2esetBnePoOBB3wYM=   \n",
       "2020-08-17 00:30:00  etDaWEjMPleueDrpkatPUSCApc6yU8W95+yZYWzVxSY=   \n",
       "2020-08-17 00:31:00  79Tf6XH3DwjdUWGO4aQWghSj5G2esetBnePoOBB3wYM=   \n",
       "\n",
       "                                                            tweet_text  \\\n",
       "tweet_time                                                               \n",
       "2020-08-17 00:30:00  We stand with Palestine. Isreal occupation of ...   \n",
       "2020-08-17 00:30:00  SHAME ON UAE !!!\n",
       "\n",
       "#UAEBetraysPalestine https:/...   \n",
       "2020-08-17 00:30:00  It has always been Palestine and it always wil...   \n",
       "2020-08-17 00:30:00  tomorrow is Indonesia's independence, this can...   \n",
       "2020-08-17 00:31:00  We stand by the Palestine and Yaman  Until the...   \n",
       "\n",
       "                    tweet_language  \n",
       "tweet_time                          \n",
       "2020-08-17 00:30:00             en  \n",
       "2020-08-17 00:30:00             en  \n",
       "2020-08-17 00:30:00             en  \n",
       "2020-08-17 00:30:00             en  \n",
       "2020-08-17 00:31:00             en  "
      ]
     },
     "execution_count": 85,
     "metadata": {},
     "output_type": "execute_result"
    }
   ],
   "source": [
    "english_tweets = (top_day_tweets\n",
    "                  .groupby('tweet_language')\n",
    "                  .get_group('en')\n",
    "                 )\n",
    "english_tweets.head(5)"
   ]
  },
  {
   "cell_type": "code",
   "execution_count": 71,
   "metadata": {},
   "outputs": [
    {
     "name": "stdout",
     "output_type": "stream",
     "text": [
      "elapsed: 119.54598299402278\n"
     ]
    }
   ],
   "source": [
    "t1 = default_timer()\n",
    "\n",
    "sentiment = (english_tweets['tweet_text']\n",
    "             .apply(preprocess_string)\n",
    "             .apply(predict_sentiment)\n",
    "            )\n",
    "print('elapsed: {}'.format(default_timer() - t1))"
   ]
  },
  {
   "cell_type": "code",
   "execution_count": 86,
   "metadata": {},
   "outputs": [
    {
     "data": {
      "text/html": [
       "<div>\n",
       "<style scoped>\n",
       "    .dataframe tbody tr th:only-of-type {\n",
       "        vertical-align: middle;\n",
       "    }\n",
       "\n",
       "    .dataframe tbody tr th {\n",
       "        vertical-align: top;\n",
       "    }\n",
       "\n",
       "    .dataframe thead th {\n",
       "        text-align: right;\n",
       "    }\n",
       "</style>\n",
       "<table border=\"1\" class=\"dataframe\">\n",
       "  <thead>\n",
       "    <tr style=\"text-align: right;\">\n",
       "      <th></th>\n",
       "      <th>tweet_text</th>\n",
       "      <th>sentiment</th>\n",
       "    </tr>\n",
       "    <tr>\n",
       "      <th>tweet_time</th>\n",
       "      <th></th>\n",
       "      <th></th>\n",
       "    </tr>\n",
       "  </thead>\n",
       "  <tbody>\n",
       "    <tr>\n",
       "      <th>2020-08-17 00:30:00</th>\n",
       "      <td>We stand with Palestine. Isreal occupation of ...</td>\n",
       "      <td>negative</td>\n",
       "    </tr>\n",
       "    <tr>\n",
       "      <th>2020-08-17 00:30:00</th>\n",
       "      <td>SHAME ON UAE !!!\n",
       "\n",
       "#UAEBetraysPalestine https:/...</td>\n",
       "      <td>negative</td>\n",
       "    </tr>\n",
       "    <tr>\n",
       "      <th>2020-08-17 00:30:00</th>\n",
       "      <td>It has always been Palestine and it always wil...</td>\n",
       "      <td>neutral</td>\n",
       "    </tr>\n",
       "    <tr>\n",
       "      <th>2020-08-17 00:30:00</th>\n",
       "      <td>tomorrow is Indonesia's independence, this can...</td>\n",
       "      <td>neutral</td>\n",
       "    </tr>\n",
       "    <tr>\n",
       "      <th>2020-08-17 00:31:00</th>\n",
       "      <td>We stand by the Palestine and Yaman  Until the...</td>\n",
       "      <td>neutral</td>\n",
       "    </tr>\n",
       "    <tr>\n",
       "      <th>2020-08-17 00:32:00</th>\n",
       "      <td>Normalization of israil = betrayal of the Musl...</td>\n",
       "      <td>negative</td>\n",
       "    </tr>\n",
       "    <tr>\n",
       "      <th>2020-08-17 00:34:00</th>\n",
       "      <td>If u forget we would never forget !!\n",
       "#UAEBetra...</td>\n",
       "      <td>neutral</td>\n",
       "    </tr>\n",
       "    <tr>\n",
       "      <th>2020-08-17 00:34:00</th>\n",
       "      <td>The goal is to destroy Israel\n",
       "#UAEBetraysPales...</td>\n",
       "      <td>negative</td>\n",
       "    </tr>\n",
       "    <tr>\n",
       "      <th>2020-08-17 00:35:00</th>\n",
       "      <td>Stop this treason to the Arabs further more to...</td>\n",
       "      <td>negative</td>\n",
       "    </tr>\n",
       "    <tr>\n",
       "      <th>2020-08-17 00:35:00</th>\n",
       "      <td>Long life Palestine.\n",
       "#UAEBetraysPalestine</td>\n",
       "      <td>neutral</td>\n",
       "    </tr>\n",
       "  </tbody>\n",
       "</table>\n",
       "</div>"
      ],
      "text/plain": [
       "                                                            tweet_text  \\\n",
       "tweet_time                                                               \n",
       "2020-08-17 00:30:00  We stand with Palestine. Isreal occupation of ...   \n",
       "2020-08-17 00:30:00  SHAME ON UAE !!!\n",
       "\n",
       "#UAEBetraysPalestine https:/...   \n",
       "2020-08-17 00:30:00  It has always been Palestine and it always wil...   \n",
       "2020-08-17 00:30:00  tomorrow is Indonesia's independence, this can...   \n",
       "2020-08-17 00:31:00  We stand by the Palestine and Yaman  Until the...   \n",
       "2020-08-17 00:32:00  Normalization of israil = betrayal of the Musl...   \n",
       "2020-08-17 00:34:00  If u forget we would never forget !!\n",
       "#UAEBetra...   \n",
       "2020-08-17 00:34:00  The goal is to destroy Israel\n",
       "#UAEBetraysPales...   \n",
       "2020-08-17 00:35:00  Stop this treason to the Arabs further more to...   \n",
       "2020-08-17 00:35:00          Long life Palestine.\n",
       "#UAEBetraysPalestine   \n",
       "\n",
       "                    sentiment  \n",
       "tweet_time                     \n",
       "2020-08-17 00:30:00  negative  \n",
       "2020-08-17 00:30:00  negative  \n",
       "2020-08-17 00:30:00   neutral  \n",
       "2020-08-17 00:30:00   neutral  \n",
       "2020-08-17 00:31:00   neutral  \n",
       "2020-08-17 00:32:00  negative  \n",
       "2020-08-17 00:34:00   neutral  \n",
       "2020-08-17 00:34:00  negative  \n",
       "2020-08-17 00:35:00  negative  \n",
       "2020-08-17 00:35:00   neutral  "
      ]
     },
     "execution_count": 86,
     "metadata": {},
     "output_type": "execute_result"
    }
   ],
   "source": [
    "english_tweets = pd.DataFrame(english_tweets)\n",
    "english_tweets['sentiment'] = sentiment\n",
    "english_tweets[['tweet_text','sentiment']].head(10)"
   ]
  },
  {
   "cell_type": "code",
   "execution_count": 77,
   "metadata": {},
   "outputs": [
    {
     "data": {
      "text/plain": [
       "sentiment\n",
       "negative    540\n",
       "neutral     389\n",
       "positive     85\n",
       "dtype: int64"
      ]
     },
     "execution_count": 77,
     "metadata": {},
     "output_type": "execute_result"
    }
   ],
   "source": [
    "grouped = (english_tweets\n",
    ".groupby('sentiment')\n",
    ")\n",
    "grouped.size()"
   ]
  },
  {
   "cell_type": "code",
   "execution_count": 80,
   "metadata": {},
   "outputs": [
    {
     "data": {
      "text/plain": [
       "tweet_time\n",
       "2020-08-17 00:43:00    RT @My1ManArmy: Very strong words.\n",
       "\n",
       "#UAEStabsM...\n",
       "2020-08-17 00:48:00    RT @BadriaNaila: Palestine, don't be disappoin...\n",
       "2020-08-17 00:48:00    RT @BadriaNaila: Palestine, we still love you ...\n",
       "2020-08-17 01:33:00    Verily God  is  with the truthful and Palestin...\n",
       "2020-08-17 01:57:00    we are not like arabs we are much better than ...\n",
       "Name: tweet_text, dtype: string"
      ]
     },
     "execution_count": 80,
     "metadata": {},
     "output_type": "execute_result"
    }
   ],
   "source": [
    "positive = grouped.get_group('positive')['tweet_text']\n",
    "positive[:5]"
   ]
  },
  {
   "cell_type": "code",
   "execution_count": 81,
   "metadata": {},
   "outputs": [],
   "source": [
    "tokens = make_tokens(positive)"
   ]
  },
  {
   "cell_type": "code",
   "execution_count": 83,
   "metadata": {},
   "outputs": [],
   "source": [
    "freq_dict = word_frequency(long_list(tokens))"
   ]
  },
  {
   "cell_type": "code",
   "execution_count": 84,
   "metadata": {},
   "outputs": [
    {
     "data": {
      "image/png": "[encoded data removed]",
      "text/plain": [
       "<Figure size 432x288 with 1 Axes>"
      ]
     },
     "metadata": {
      "needs_background": "light"
     },
     "output_type": "display_data"
    }
   ],
   "source": [
    "fig = visualize(freq_dict)"
   ]
  },
  {
   "cell_type": "code",
   "execution_count": null,
   "metadata": {},
   "outputs": [],
   "source": []
  }
 ],
 "metadata": {
  "kernelspec": {
   "display_name": "Python 3",
   "language": "python",
   "name": "python3"
  },
  "language_info": {
   "codemirror_mode": {
    "name": "ipython",
    "version": 3
   },
   "file_extension": ".py",
   "mimetype": "text/x-python",
   "name": "python",
   "nbconvert_exporter": "python",
   "pygments_lexer": "ipython3",
   "version": "3.7.6"
  }
 },
 "nbformat": 4,
 "nbformat_minor": 4
}
