{
 "cells": [
  {
   "cell_type": "code",
   "execution_count": 1,
   "metadata": {},
   "outputs": [],
   "source": [
    "import datetime\n",
    "import functools\n",
    "import itertools\n",
    "import os\n",
    "from pathlib import Path\n",
    "import re\n",
    "\n",
    "import numpy as np\n",
    "import pandas as pd"
   ]
  },
  {
   "cell_type": "markdown",
   "metadata": {},
   "source": [
    "## Join campaign datasets"
   ]
  },
  {
   "cell_type": "code",
   "execution_count": 2,
   "metadata": {},
   "outputs": [],
   "source": [
    "def combine_csvs(directory):\n",
    "    \"\"\"Join multiple CSVs into a single file.\"\"\"\n",
    "\n",
    "    df = pd.DataFrame()\n",
    "    \n",
    "    p = Path(directory)\n",
    "\n",
    "    for file in p.iterdir():\n",
    "        temp = pd.read_csv(file, \n",
    "                         index_col=0,\n",
    "                         low_memory=False,)\n",
    "        temp['file'] = str(file.stem)\n",
    "        temp['campaign'] = (file.name.split('_')[-5]\n",
    "                        + file.name.split('_')[-4])\n",
    "        temp['release'] = file.name.split('_')[-4]\n",
    "        temp['government'] = file.name.split('_')[-5]\n",
    "        df = df.append(temp)\n",
    "\n",
    "    return df"
   ]
  },
  {
   "cell_type": "markdown",
   "metadata": {},
   "source": [
    "## Generate dataset objects"
   ]
  },
  {
   "cell_type": "code",
   "execution_count": 3,
   "metadata": {},
   "outputs": [],
   "source": [
    "class UsersData(object):\n",
    "    \"\"\"Class for generating dataframe from csv dataset of users.\"\"\"\n",
    "    def __init__(self, data_path):\n",
    "        self.df = combine_csvs(data_path)\n",
    "        self.fields = {'user_display_name':'string',\n",
    "                        'user_screen_name':'string',\n",
    "                        'user_reported_location':'string',\n",
    "                        'user_profile_description':'string',\n",
    "                        'user_profile_url':'string',\n",
    "                        'follower_count':'int64',\n",
    "                        'following_count':'int64',\n",
    "                        'account_creation_date':'datetime64',\n",
    "                        'account_language':'string',\n",
    "                        'campaign':'string',\n",
    "                        'government':'string',\n",
    "                        'file':'string'}\n",
    "        self.df = self.df.astype(self.fields)\n",
    "    \n",
    "    def __str__(self):\n",
    "        return 'Dataset: {}'.format(name)\n",
    "    \n",
    "    def to_torch(self):\n",
    "        return #torch.data.DataLoader(self.df)\n",
    "    \n",
    "    def to_tf(self):\n",
    "        return tf.data.Dataset.from_tensor_slices(dict(self.df))\n",
    "        \n",
    "    def to_np(self):\n",
    "        return np.to_array(self.df)\n",
    "        "
   ]
  },
  {
   "cell_type": "code",
   "execution_count": 4,
   "metadata": {},
   "outputs": [
    {
     "name": "stdout",
     "output_type": "stream",
     "text": [
      "<class 'pandas.core.frame.DataFrame'>\n",
      "Index: 374 entries, GotPdi7ND5U93CiLruCUjAPr0R5af8PkKEZQ9UJHNlE= to umi7TfGCQ73OtREt5v8BMjNBHbg96LnkEmH65RO8Ts=\n",
      "Data columns (total 13 columns):\n",
      " #   Column                    Non-Null Count  Dtype         \n",
      "---  ------                    --------------  -----         \n",
      " 0   user_display_name         374 non-null    string        \n",
      " 1   user_screen_name          374 non-null    string        \n",
      " 2   user_reported_location    162 non-null    string        \n",
      " 3   user_profile_description  274 non-null    string        \n",
      " 4   user_profile_url          44 non-null     string        \n",
      " 5   follower_count            374 non-null    int64         \n",
      " 6   following_count           374 non-null    int64         \n",
      " 7   account_creation_date     374 non-null    datetime64[ns]\n",
      " 8   account_language          374 non-null    string        \n",
      " 9   file                      374 non-null    string        \n",
      " 10  campaign                  374 non-null    string        \n",
      " 11  release                   374 non-null    object        \n",
      " 12  government                374 non-null    string        \n",
      "dtypes: datetime64[ns](1), int64(2), object(1), string(9)\n",
      "memory usage: 40.9+ KB\n"
     ]
    }
   ],
   "source": [
    "users = UsersData('../data/users')\n",
    "users.df.info()"
   ]
  },
  {
   "cell_type": "code",
   "execution_count": 5,
   "metadata": {},
   "outputs": [],
   "source": [
    "class TweetsData(object):\n",
    "    \"\"\"Class for generating dataframe from csv dataset of tweets.\"\"\"\n",
    "    \n",
    "    def __init__(self, data_path):\n",
    "        self.df = combine_csvs(data_path)\n",
    "        self.fields = {'userid':'string',\n",
    "                        'user_display_name':'string',\n",
    "                        'user_screen_name':'string',\n",
    "                        'user_reported_location':'string',\n",
    "                        'user_profile_description':'string',\n",
    "                        'user_profile_url':'string',\n",
    "                        'account_creation_date':'datetime64',\n",
    "                        'account_language':'string',\n",
    "                        'tweet_language':'string',\n",
    "                        'tweet_text':'string',\n",
    "                        'tweet_time':'datetime64',\n",
    "                        'tweet_client_name':'category',\n",
    "                        'in_reply_to_userid':'string',\n",
    "                        'retweet_userid':'string',\n",
    "                        'latitude':'category',\n",
    "                        'longitude':'category',\n",
    "                        'campaign':'string',\n",
    "                        'government':'string',\n",
    "                        'hashtags':'string',\n",
    "                        'urls':'string',\n",
    "                        'user_mentions':'string',\n",
    "                        'file':'string'}\n",
    "        \n",
    "        self.df = self.df.astype(self.fields)\n",
    "        self.df['type'] = self.df['is_retweet'].apply(\n",
    "                            lambda x: 'retweet' if x == True else 'original')\n",
    "        self.df['has_quote'] = self.df['quoted_tweet_tweetid'].notna()\n",
    "        \n",
    "    def __str__(self):\n",
    "        return 'Dataset: {}'.format(name)\n",
    "    \n",
    "    def to_torch(self):\n",
    "        return #torch.data.DataLoader(self.df)\n",
    "    \n",
    "    def to_tf(self):\n",
    "        return tf.data.Dataset.from_tensor_slices(dict(self.df))\n",
    "        \n",
    "    def to_np(self):\n",
    "        return np.to_array(self.df)"
   ]
  },
  {
   "cell_type": "code",
   "execution_count": 20,
   "metadata": {},
   "outputs": [
    {
     "name": "stdout",
     "output_type": "stream",
     "text": [
      "<class 'pandas.core.frame.DataFrame'>\n",
      "Int64Index: 729129 entries, 1331706590525874184 to 1000259808442961920\n",
      "Data columns (total 35 columns):\n",
      " #   Column                    Non-Null Count   Dtype         \n",
      "---  ------                    --------------   -----         \n",
      " 0   userid                    729129 non-null  string        \n",
      " 1   user_display_name         729129 non-null  string        \n",
      " 2   user_screen_name          729129 non-null  string        \n",
      " 3   user_reported_location    545336 non-null  string        \n",
      " 4   user_profile_description  684476 non-null  string        \n",
      " 5   user_profile_url          448380 non-null  string        \n",
      " 6   follower_count            729129 non-null  int64         \n",
      " 7   following_count           729129 non-null  int64         \n",
      " 8   account_creation_date     729129 non-null  datetime64[ns]\n",
      " 9   account_language          729129 non-null  string        \n",
      " 10  tweet_language            603007 non-null  string        \n",
      " 11  tweet_text                729129 non-null  string        \n",
      " 12  tweet_time                729129 non-null  datetime64[ns]\n",
      " 13  tweet_client_name         729129 non-null  category      \n",
      " 14  in_reply_to_userid        104793 non-null  string        \n",
      " 15  in_reply_to_tweetid       97859 non-null   float64       \n",
      " 16  quoted_tweet_tweetid      28197 non-null   float64       \n",
      " 17  is_retweet                729129 non-null  bool          \n",
      " 18  retweet_userid            19803 non-null   string        \n",
      " 19  retweet_tweetid           126489 non-null  float64       \n",
      " 20  latitude                  729129 non-null  category      \n",
      " 21  longitude                 729129 non-null  category      \n",
      " 22  quote_count               729129 non-null  int64         \n",
      " 23  reply_count               729129 non-null  int64         \n",
      " 24  like_count                729129 non-null  int64         \n",
      " 25  retweet_count             729129 non-null  int64         \n",
      " 26  hashtags                  602102 non-null  string        \n",
      " 27  urls                      628835 non-null  string        \n",
      " 28  user_mentions             729129 non-null  string        \n",
      " 29  file                      729129 non-null  string        \n",
      " 30  campaign                  729129 non-null  string        \n",
      " 31  release                   729129 non-null  object        \n",
      " 32  government                729129 non-null  string        \n",
      " 33  type                      729129 non-null  object        \n",
      " 34  has_quote                 729129 non-null  bool          \n",
      "dtypes: bool(2), category(3), datetime64[ns](2), float64(3), int64(6), object(2), string(17)\n",
      "memory usage: 175.9+ MB\n"
     ]
    }
   ],
   "source": [
    "tweets = TweetsData('../data/tweets')\n",
    "tweets.df.info()"
   ]
  },
  {
   "cell_type": "markdown",
   "metadata": {},
   "source": [
    "## Cleaning text\n",
    "\n",
    "Turn hashtag, url, and user mentions columns into lists"
   ]
  },
  {
   "cell_type": "code",
   "execution_count": 18,
   "metadata": {},
   "outputs": [],
   "source": [
    "df = tweets.df.loc[:][:]"
   ]
  },
  {
   "cell_type": "code",
   "execution_count": 8,
   "metadata": {},
   "outputs": [],
   "source": [
    "def str_to_list(string):\n",
    "    string = re.sub(r\"[\\[\\]\\']\", \"\", string)\n",
    "    return list(string.split(','))"
   ]
  },
  {
   "cell_type": "code",
   "execution_count": 9,
   "metadata": {},
   "outputs": [],
   "source": [
    "def melt_list_column(df, col_name, id_var):\n",
    "    mask = df[col_name].isin(['[]'])\n",
    "    col = df[col_name][~mask]\n",
    "    return (col\n",
    "            # expand items into columns\n",
    "            .str.replace(r\"[\\[\\]\\']\", \"\", regex=True)\n",
    "            .str.split(',', expand=True)\n",
    "            # melt wide table into duplicated tweets\n",
    "            .reset_index()\n",
    "            .melt(id_vars=[id_var])\n",
    "            .drop(columns=['variable'])\n",
    "            .dropna()\n",
    "           )"
   ]
  },
  {
   "cell_type": "code",
   "execution_count": 12,
   "metadata": {},
   "outputs": [],
   "source": [
    "df['hashtags'] = df['hashtags'].map(str_to_list, na_action='ignore')"
   ]
  },
  {
   "cell_type": "code",
   "execution_count": 13,
   "metadata": {},
   "outputs": [
    {
     "data": {
      "text/plain": [
       "tweetid\n",
       "1331706590525874184                        [haqqinaz,  haqqin,  haqqinz]\n",
       "1100358276435398656    [Azerbaijan,  shareforkhojaly,  justiceforkhoj...\n",
       "1100389340914569216                [shareforkhojaly,  justiceforkhojaly]\n",
       "724982683118358528                                                    []\n",
       "728142042765742080                                          [Azerbaijan]\n",
       "                                             ...                        \n",
       "1004340724949831681           [Syrianarmy,  Aleppo,  Terrorists,  Syria]\n",
       "1001358869132644354                          [Dera,  terrorists,  Syria]\n",
       "982141416179576835     [Refugees,  Euphrates,  Jnayna,  Syria,  news,...\n",
       "979255677850935296     [US,  European,  Syria,  EasternGhouta,  Damas...\n",
       "1000259808442961920                                              [Syria]\n",
       "Name: hashtags, Length: 729129, dtype: object"
      ]
     },
     "execution_count": 13,
     "metadata": {},
     "output_type": "execute_result"
    }
   ],
   "source": [
    "df['hashtags']"
   ]
  },
  {
   "cell_type": "code",
   "execution_count": 21,
   "metadata": {},
   "outputs": [],
   "source": [
    "df = tweets.df.loc[:][:]\n",
    "\n",
    "hashtags = melt_list_column(df, 'hashtags', 'tweetid')\n",
    "urls = melt_list_column(df, 'urls', 'tweetid')\n",
    "mentions = melt_list_column(df, 'user_mentions', 'tweetid')"
   ]
  },
  {
   "cell_type": "code",
   "execution_count": 22,
   "metadata": {},
   "outputs": [
    {
     "data": {
      "text/html": [
       "<div>\n",
       "<style scoped>\n",
       "    .dataframe tbody tr th:only-of-type {\n",
       "        vertical-align: middle;\n",
       "    }\n",
       "\n",
       "    .dataframe tbody tr th {\n",
       "        vertical-align: top;\n",
       "    }\n",
       "\n",
       "    .dataframe thead th {\n",
       "        text-align: right;\n",
       "    }\n",
       "</style>\n",
       "<table border=\"1\" class=\"dataframe\">\n",
       "  <thead>\n",
       "    <tr style=\"text-align: right;\">\n",
       "      <th></th>\n",
       "      <th>tweetid</th>\n",
       "      <th>value</th>\n",
       "    </tr>\n",
       "  </thead>\n",
       "  <tbody>\n",
       "    <tr>\n",
       "      <th>0</th>\n",
       "      <td>1331706590525874184</td>\n",
       "      <td>haqqinaz</td>\n",
       "    </tr>\n",
       "    <tr>\n",
       "      <th>1</th>\n",
       "      <td>1100358276435398656</td>\n",
       "      <td>Azerbaijan</td>\n",
       "    </tr>\n",
       "    <tr>\n",
       "      <th>2</th>\n",
       "      <td>1100389340914569216</td>\n",
       "      <td>shareforkhojaly</td>\n",
       "    </tr>\n",
       "    <tr>\n",
       "      <th>3</th>\n",
       "      <td>728142042765742080</td>\n",
       "      <td>Azerbaijan</td>\n",
       "    </tr>\n",
       "    <tr>\n",
       "      <th>4</th>\n",
       "      <td>650550450320601088</td>\n",
       "      <td>novosti_az</td>\n",
       "    </tr>\n",
       "    <tr>\n",
       "      <th>5</th>\n",
       "      <td>661914640331333632</td>\n",
       "      <td>novosti_az</td>\n",
       "    </tr>\n",
       "    <tr>\n",
       "      <th>6</th>\n",
       "      <td>535744142437933056</td>\n",
       "      <td>novosti_az</td>\n",
       "    </tr>\n",
       "    <tr>\n",
       "      <th>7</th>\n",
       "      <td>676719279950053376</td>\n",
       "      <td>novosti_az</td>\n",
       "    </tr>\n",
       "    <tr>\n",
       "      <th>8</th>\n",
       "      <td>563659939231457280</td>\n",
       "      <td>novosti_az</td>\n",
       "    </tr>\n",
       "    <tr>\n",
       "      <th>9</th>\n",
       "      <td>593663020993150977</td>\n",
       "      <td>novosti_az</td>\n",
       "    </tr>\n",
       "  </tbody>\n",
       "</table>\n",
       "</div>"
      ],
      "text/plain": [
       "               tweetid            value\n",
       "0  1331706590525874184         haqqinaz\n",
       "1  1100358276435398656       Azerbaijan\n",
       "2  1100389340914569216  shareforkhojaly\n",
       "3   728142042765742080       Azerbaijan\n",
       "4   650550450320601088       novosti_az\n",
       "5   661914640331333632       novosti_az\n",
       "6   535744142437933056       novosti_az\n",
       "7   676719279950053376       novosti_az\n",
       "8   563659939231457280       novosti_az\n",
       "9   593663020993150977       novosti_az"
      ]
     },
     "execution_count": 22,
     "metadata": {},
     "output_type": "execute_result"
    }
   ],
   "source": [
    "hashtags.head(10)"
   ]
  },
  {
   "cell_type": "code",
   "execution_count": null,
   "metadata": {},
   "outputs": [],
   "source": []
  }
 ],
 "metadata": {
  "kernelspec": {
   "display_name": "Python 3",
   "language": "python",
   "name": "python3"
  },
  "language_info": {
   "codemirror_mode": {
    "name": "ipython",
    "version": 3
   },
   "file_extension": ".py",
   "mimetype": "text/x-python",
   "name": "python",
   "nbconvert_exporter": "python",
   "pygments_lexer": "ipython3",
   "version": "3.7.6"
  }
 },
 "nbformat": 4,
 "nbformat_minor": 4
}
