{
 "cells": [
  {
   "cell_type": "code",
   "execution_count": 1,
   "id": "3414b589",
   "metadata": {},
   "outputs": [],
   "source": [
    "import collections\n",
    "import functools\n",
    "import itertools\n",
    "import os\n",
    "from pathlib import Path\n",
    "import random\n",
    "import re\n",
    "import string\n",
    "import sys\n",
    "from timeit import default_timer\n",
    "import warnings\n",
    "\n",
    "import matplotlib.pyplot as plt\n",
    "import numpy as np\n",
    "import pandas as pd\n",
    "import sklearn\n",
    "from sklearn.decomposition import LatentDirichletAllocation\n",
    "from sklearn.feature_extraction.text import CountVectorizer\n",
    "from sklearn.feature_extraction import DictVectorizer\n",
    "from wordcloud import WordCloud\n",
    "\n",
    "sys.path.append('../')\n",
    "warnings.filterwarnings('ignore')"
   ]
  },
  {
   "cell_type": "code",
   "execution_count": 14,
   "id": "a47c6f31",
   "metadata": {},
   "outputs": [
    {
     "name": "stderr",
     "output_type": "stream",
     "text": [
      "[nltk_data] Downloading package stopwords to\n",
      "[nltk_data]     /Users/skp340/nltk_data...\n",
      "[nltk_data]   Package stopwords is already up-to-date!\n"
     ]
    }
   ],
   "source": [
    "import nltk\n",
    "nltk.download('stopwords')\n",
    "from nltk.corpus import stopwords\n",
    "from nltk.tokenize import TweetTokenizer"
   ]
  },
  {
   "cell_type": "code",
   "execution_count": 2,
   "id": "4434f5ff",
   "metadata": {},
   "outputs": [],
   "source": [
    "import sm_analysis\n",
    "import sm_analysis.topic_modeling as topic"
   ]
  },
  {
   "cell_type": "code",
   "execution_count": 5,
   "id": "60b80e9d",
   "metadata": {},
   "outputs": [],
   "source": [
    "from sm_analysis import youtube\n",
    "from sm_analysis.youtube import api\n",
    "from sm_analysis.youtube import channels\n",
    "from sm_analysis.youtube import videos\n",
    "from sm_analysis.youtube import utils"
   ]
  },
  {
   "cell_type": "markdown",
   "id": "9a8ba9ba",
   "metadata": {},
   "source": [
    "# Retrieve comments"
   ]
  },
  {
   "cell_type": "code",
   "execution_count": 59,
   "id": "70cff2b6",
   "metadata": {},
   "outputs": [],
   "source": [
    "search = api.Search(\"jacobin magazine\")"
   ]
  },
  {
   "cell_type": "code",
   "execution_count": 60,
   "id": "32f47a48",
   "metadata": {},
   "outputs": [],
   "source": [
    "for page in range(5):\n",
    "    result = search.api_request()\n",
    "    search.parse(result)"
   ]
  },
  {
   "cell_type": "code",
   "execution_count": 61,
   "id": "02464ec2",
   "metadata": {},
   "outputs": [
    {
     "name": "stdout",
     "output_type": "stream",
     "text": [
      "<class 'pandas.core.frame.DataFrame'>\n",
      "RangeIndex: 25 entries, 0 to 24\n",
      "Data columns (total 10 columns):\n",
      " #   Column                Non-Null Count  Dtype \n",
      "---  ------                --------------  ----- \n",
      " 0   kind                  25 non-null     object\n",
      " 1   channelId             25 non-null     object\n",
      " 2   publishedAt           25 non-null     object\n",
      " 3   title                 25 non-null     object\n",
      " 4   description           25 non-null     object\n",
      " 5   thumbnails            25 non-null     object\n",
      " 6   channelTitle          25 non-null     object\n",
      " 7   liveBroadcastContent  25 non-null     object\n",
      " 8   publishTime           25 non-null     object\n",
      " 9   videoId               23 non-null     object\n",
      "dtypes: object(10)\n",
      "memory usage: 2.1+ KB\n"
     ]
    }
   ],
   "source": [
    "df = search.to_dataframe()\n",
    "df.info()"
   ]
  },
  {
   "cell_type": "code",
   "execution_count": 70,
   "id": "b5c81d25",
   "metadata": {},
   "outputs": [],
   "source": [
    "videos = df.where(df[\"channelTitle\"]==\"Jacobin\").dropna()"
   ]
  },
  {
   "cell_type": "code",
   "execution_count": 78,
   "id": "7a30bec1",
   "metadata": {},
   "outputs": [],
   "source": [
    "vids = videos[\"videoId\"]"
   ]
  },
  {
   "cell_type": "code",
   "execution_count": 84,
   "id": "34e7079f",
   "metadata": {},
   "outputs": [],
   "source": [
    "threads = [api.CommentThreads(vids.iloc[i]) for i in range(len(vids))]"
   ]
  },
  {
   "cell_type": "code",
   "execution_count": 85,
   "id": "036e5f6e",
   "metadata": {},
   "outputs": [],
   "source": [
    "results = [thread.api_request() for thread in threads]"
   ]
  },
  {
   "cell_type": "code",
   "execution_count": 88,
   "id": "5b126723",
   "metadata": {},
   "outputs": [],
   "source": [
    "for thread, result in zip(threads, results):\n",
    "    thread.parse(result)"
   ]
  },
  {
   "cell_type": "code",
   "execution_count": 91,
   "id": "338a4e69",
   "metadata": {
    "scrolled": false
   },
   "outputs": [],
   "source": [
    "df = threads[0].to_dataframe()\n",
    "for i in range(1,len(threads)):\n",
    "    df = df.append(threads[i].to_dataframe())"
   ]
  },
  {
   "cell_type": "code",
   "execution_count": 92,
   "id": "f78bad26",
   "metadata": {},
   "outputs": [
    {
     "data": {
      "text/html": [
       "<div>\n",
       "<style scoped>\n",
       "    .dataframe tbody tr th:only-of-type {\n",
       "        vertical-align: middle;\n",
       "    }\n",
       "\n",
       "    .dataframe tbody tr th {\n",
       "        vertical-align: top;\n",
       "    }\n",
       "\n",
       "    .dataframe thead th {\n",
       "        text-align: right;\n",
       "    }\n",
       "</style>\n",
       "<table border=\"1\" class=\"dataframe\">\n",
       "  <thead>\n",
       "    <tr style=\"text-align: right;\">\n",
       "      <th></th>\n",
       "      <th>videoId</th>\n",
       "      <th>textDisplay</th>\n",
       "      <th>textOriginal</th>\n",
       "      <th>authorDisplayName</th>\n",
       "      <th>authorProfileImageUrl</th>\n",
       "      <th>authorChannelUrl</th>\n",
       "      <th>canRate</th>\n",
       "      <th>viewerRating</th>\n",
       "      <th>likeCount</th>\n",
       "      <th>publishedAt</th>\n",
       "      <th>updatedAt</th>\n",
       "      <th>canReply</th>\n",
       "      <th>totalReplyCount</th>\n",
       "      <th>isPublic</th>\n",
       "      <th>authorchannelId</th>\n",
       "      <th>parentId</th>\n",
       "    </tr>\n",
       "    <tr>\n",
       "      <th>id</th>\n",
       "      <th></th>\n",
       "      <th></th>\n",
       "      <th></th>\n",
       "      <th></th>\n",
       "      <th></th>\n",
       "      <th></th>\n",
       "      <th></th>\n",
       "      <th></th>\n",
       "      <th></th>\n",
       "      <th></th>\n",
       "      <th></th>\n",
       "      <th></th>\n",
       "      <th></th>\n",
       "      <th></th>\n",
       "      <th></th>\n",
       "      <th></th>\n",
       "    </tr>\n",
       "  </thead>\n",
       "  <tbody>\n",
       "    <tr>\n",
       "      <th>UgzzuQVi66aJA5EQ6M14AaABAg</th>\n",
       "      <td>XnvpdCPeIJU</td>\n",
       "      <td>I agree with just about everything that Mister...</td>\n",
       "      <td>I agree with just about everything that Mister...</td>\n",
       "      <td>Michael Kilcommons</td>\n",
       "      <td>https://yt3.ggpht.com/ytc/AMLnZu-bFBP7EjPScUef...</td>\n",
       "      <td>http://www.youtube.com/channel/UCgiPbAaHBac_ie...</td>\n",
       "      <td>True</td>\n",
       "      <td>none</td>\n",
       "      <td>0</td>\n",
       "      <td>2022-09-05T16:01:29Z</td>\n",
       "      <td>2022-09-05T16:01:29Z</td>\n",
       "      <td>True</td>\n",
       "      <td>0</td>\n",
       "      <td>True</td>\n",
       "      <td>UCgiPbAaHBac_ierA1rpqwUg</td>\n",
       "      <td>UgzzuQVi66aJA5EQ6M14AaABAg</td>\n",
       "    </tr>\n",
       "    <tr>\n",
       "      <th>UgwXnDFD9tx_QzcFpqB4AaABAg</th>\n",
       "      <td>XnvpdCPeIJU</td>\n",
       "      <td>Great job Jen with this interview of Dr. Gerst...</td>\n",
       "      <td>Great job Jen with this interview of Dr. Gerst...</td>\n",
       "      <td>AM</td>\n",
       "      <td>https://yt3.ggpht.com/7SAdcerpBlNMSwVr6LKBTIpZ...</td>\n",
       "      <td>http://www.youtube.com/channel/UC0qS1_HKZJADb5...</td>\n",
       "      <td>True</td>\n",
       "      <td>none</td>\n",
       "      <td>0</td>\n",
       "      <td>2022-08-30T15:58:33Z</td>\n",
       "      <td>2022-08-30T15:58:33Z</td>\n",
       "      <td>True</td>\n",
       "      <td>0</td>\n",
       "      <td>True</td>\n",
       "      <td>UC0qS1_HKZJADb5Nn9k-KjlA</td>\n",
       "      <td>UgwXnDFD9tx_QzcFpqB4AaABAg</td>\n",
       "    </tr>\n",
       "    <tr>\n",
       "      <th>Ugwl976lg7VgU4DSxSd4AaABAg</th>\n",
       "      <td>XnvpdCPeIJU</td>\n",
       "      <td>Enjoyed the interview!</td>\n",
       "      <td>Enjoyed the interview!</td>\n",
       "      <td>Russell Gallman</td>\n",
       "      <td>https://yt3.ggpht.com/ytc/AMLnZu8Rv8jXuauyYFmQ...</td>\n",
       "      <td>http://www.youtube.com/channel/UCd5XaRJREEuLtf...</td>\n",
       "      <td>True</td>\n",
       "      <td>none</td>\n",
       "      <td>0</td>\n",
       "      <td>2022-08-28T23:38:38Z</td>\n",
       "      <td>2022-08-28T23:38:38Z</td>\n",
       "      <td>True</td>\n",
       "      <td>0</td>\n",
       "      <td>True</td>\n",
       "      <td>UCd5XaRJREEuLtfYXPaEC86Q</td>\n",
       "      <td>Ugwl976lg7VgU4DSxSd4AaABAg</td>\n",
       "    </tr>\n",
       "    <tr>\n",
       "      <th>Ugz_pf9i7YuC5tJ8p2l4AaABAg</th>\n",
       "      <td>XnvpdCPeIJU</td>\n",
       "      <td>Get lobbyists and insider trading out of polit...</td>\n",
       "      <td>Get lobbyists and insider trading out of polit...</td>\n",
       "      <td>Adam Brock</td>\n",
       "      <td>https://yt3.ggpht.com/ytc/AMLnZu8tr_LGxqWo8iBx...</td>\n",
       "      <td>http://www.youtube.com/channel/UCMXbC79tRzitOs...</td>\n",
       "      <td>True</td>\n",
       "      <td>none</td>\n",
       "      <td>0</td>\n",
       "      <td>2022-08-23T14:12:56Z</td>\n",
       "      <td>2022-08-23T14:13:53Z</td>\n",
       "      <td>True</td>\n",
       "      <td>0</td>\n",
       "      <td>True</td>\n",
       "      <td>UCMXbC79tRzitOsSmRhnJfeg</td>\n",
       "      <td>Ugz_pf9i7YuC5tJ8p2l4AaABAg</td>\n",
       "    </tr>\n",
       "    <tr>\n",
       "      <th>Ugxel72Il2EK95bTz4t4AaABAg</th>\n",
       "      <td>XnvpdCPeIJU</td>\n",
       "      <td>Fck Neoliberalism!!!!</td>\n",
       "      <td>Fck Neoliberalism!!!!</td>\n",
       "      <td>Noah Woodhope</td>\n",
       "      <td>https://yt3.ggpht.com/ytc/AMLnZu9nKKilcG7Gdpf4...</td>\n",
       "      <td>http://www.youtube.com/channel/UCgv6f2oe77M5D3...</td>\n",
       "      <td>True</td>\n",
       "      <td>none</td>\n",
       "      <td>0</td>\n",
       "      <td>2022-08-07T18:40:19Z</td>\n",
       "      <td>2022-08-07T18:40:19Z</td>\n",
       "      <td>True</td>\n",
       "      <td>0</td>\n",
       "      <td>True</td>\n",
       "      <td>UCgv6f2oe77M5D3Nwp2Wje7A</td>\n",
       "      <td>Ugxel72Il2EK95bTz4t4AaABAg</td>\n",
       "    </tr>\n",
       "    <tr>\n",
       "      <th>...</th>\n",
       "      <td>...</td>\n",
       "      <td>...</td>\n",
       "      <td>...</td>\n",
       "      <td>...</td>\n",
       "      <td>...</td>\n",
       "      <td>...</td>\n",
       "      <td>...</td>\n",
       "      <td>...</td>\n",
       "      <td>...</td>\n",
       "      <td>...</td>\n",
       "      <td>...</td>\n",
       "      <td>...</td>\n",
       "      <td>...</td>\n",
       "      <td>...</td>\n",
       "      <td>...</td>\n",
       "      <td>...</td>\n",
       "    </tr>\n",
       "    <tr>\n",
       "      <th>UgymP1A7hjz0cqf6pKt4AaABAg</th>\n",
       "      <td>b-zkEAq-5Dc</td>\n",
       "      <td>I think the fact that non-profit employees ten...</td>\n",
       "      <td>I think the fact that non-profit employees ten...</td>\n",
       "      <td>David Breitowitz</td>\n",
       "      <td>https://yt3.ggpht.com/PwfvLWbnLOHasa3vUmNJMQao...</td>\n",
       "      <td>http://www.youtube.com/channel/UCytAdny2KqKX5m...</td>\n",
       "      <td>True</td>\n",
       "      <td>none</td>\n",
       "      <td>3</td>\n",
       "      <td>2022-06-29T03:08:01Z</td>\n",
       "      <td>2022-06-29T03:08:01Z</td>\n",
       "      <td>True</td>\n",
       "      <td>3</td>\n",
       "      <td>True</td>\n",
       "      <td>UCytAdny2KqKX5m7xdKtsN4w</td>\n",
       "      <td>UgymP1A7hjz0cqf6pKt4AaABAg</td>\n",
       "    </tr>\n",
       "    <tr>\n",
       "      <th>UgxweMzJCcEULvJYuZp4AaABAg</th>\n",
       "      <td>b-zkEAq-5Dc</td>\n",
       "      <td>Pyramidic power structure.  It will be the dea...</td>\n",
       "      <td>Pyramidic power structure.  It will be the dea...</td>\n",
       "      <td>bpalpha</td>\n",
       "      <td>https://yt3.ggpht.com/ytc/AMLnZu-HPjgG29jIpMXS...</td>\n",
       "      <td>http://www.youtube.com/channel/UCfE_G0x3iOJheH...</td>\n",
       "      <td>True</td>\n",
       "      <td>none</td>\n",
       "      <td>1</td>\n",
       "      <td>2022-06-28T22:48:45Z</td>\n",
       "      <td>2022-06-28T23:01:44Z</td>\n",
       "      <td>True</td>\n",
       "      <td>0</td>\n",
       "      <td>True</td>\n",
       "      <td>UCfE_G0x3iOJheHZV_WtdzDg</td>\n",
       "      <td>UgxweMzJCcEULvJYuZp4AaABAg</td>\n",
       "    </tr>\n",
       "    <tr>\n",
       "      <th>UgzVl-koIse-ARWoOfd4AaABAg</th>\n",
       "      <td>b-zkEAq-5Dc</td>\n",
       "      <td>The article was painfully spot on.  I now emai...</td>\n",
       "      <td>The article was painfully spot on.  I now emai...</td>\n",
       "      <td>Shani Handel</td>\n",
       "      <td>https://yt3.ggpht.com/ytc/AMLnZu_Q2ZhBAPbtNALX...</td>\n",
       "      <td>http://www.youtube.com/channel/UCAqGDSiRqfDDMr...</td>\n",
       "      <td>True</td>\n",
       "      <td>none</td>\n",
       "      <td>14</td>\n",
       "      <td>2022-06-28T22:24:57Z</td>\n",
       "      <td>2022-06-28T22:24:57Z</td>\n",
       "      <td>True</td>\n",
       "      <td>1</td>\n",
       "      <td>True</td>\n",
       "      <td>UCAqGDSiRqfDDMr4BX7sUkTw</td>\n",
       "      <td>UgzVl-koIse-ARWoOfd4AaABAg</td>\n",
       "    </tr>\n",
       "    <tr>\n",
       "      <th>UgwmetnMvsWOVVmGy5N4AaABAg</th>\n",
       "      <td>b-zkEAq-5Dc</td>\n",
       "      <td>I hope this problem is limited to USA. If so, ...</td>\n",
       "      <td>I hope this problem is limited to USA. If so, ...</td>\n",
       "      <td>Keith Warner</td>\n",
       "      <td>https://yt3.ggpht.com/ytc/AMLnZu_tb9fO7VfrsGiE...</td>\n",
       "      <td>http://www.youtube.com/channel/UCbTEPPnor25BJI...</td>\n",
       "      <td>True</td>\n",
       "      <td>none</td>\n",
       "      <td>1</td>\n",
       "      <td>2022-06-28T22:09:16Z</td>\n",
       "      <td>2022-06-28T22:09:16Z</td>\n",
       "      <td>True</td>\n",
       "      <td>0</td>\n",
       "      <td>True</td>\n",
       "      <td>UCbTEPPnor25BJIqAb_ZmhAA</td>\n",
       "      <td>UgwmetnMvsWOVVmGy5N4AaABAg</td>\n",
       "    </tr>\n",
       "    <tr>\n",
       "      <th>UgwaJZ5rrHC6XlRVhet4AaABAg</th>\n",
       "      <td>b-zkEAq-5Dc</td>\n",
       "      <td>The instability and infighting that identity p...</td>\n",
       "      <td>The instability and infighting that identity p...</td>\n",
       "      <td>Oceania 23</td>\n",
       "      <td>https://yt3.ggpht.com/ytc/AMLnZu_4asIwVp1KCrgE...</td>\n",
       "      <td>http://www.youtube.com/channel/UCW9AMXEPGyozBK...</td>\n",
       "      <td>True</td>\n",
       "      <td>none</td>\n",
       "      <td>7</td>\n",
       "      <td>2022-06-28T21:44:20Z</td>\n",
       "      <td>2022-06-28T21:44:20Z</td>\n",
       "      <td>True</td>\n",
       "      <td>0</td>\n",
       "      <td>True</td>\n",
       "      <td>UCW9AMXEPGyozBKefDY1ETNg</td>\n",
       "      <td>UgwaJZ5rrHC6XlRVhet4AaABAg</td>\n",
       "    </tr>\n",
       "  </tbody>\n",
       "</table>\n",
       "<p>387 rows × 16 columns</p>\n",
       "</div>"
      ],
      "text/plain": [
       "                                videoId  \\\n",
       "id                                        \n",
       "UgzzuQVi66aJA5EQ6M14AaABAg  XnvpdCPeIJU   \n",
       "UgwXnDFD9tx_QzcFpqB4AaABAg  XnvpdCPeIJU   \n",
       "Ugwl976lg7VgU4DSxSd4AaABAg  XnvpdCPeIJU   \n",
       "Ugz_pf9i7YuC5tJ8p2l4AaABAg  XnvpdCPeIJU   \n",
       "Ugxel72Il2EK95bTz4t4AaABAg  XnvpdCPeIJU   \n",
       "...                                 ...   \n",
       "UgymP1A7hjz0cqf6pKt4AaABAg  b-zkEAq-5Dc   \n",
       "UgxweMzJCcEULvJYuZp4AaABAg  b-zkEAq-5Dc   \n",
       "UgzVl-koIse-ARWoOfd4AaABAg  b-zkEAq-5Dc   \n",
       "UgwmetnMvsWOVVmGy5N4AaABAg  b-zkEAq-5Dc   \n",
       "UgwaJZ5rrHC6XlRVhet4AaABAg  b-zkEAq-5Dc   \n",
       "\n",
       "                                                                  textDisplay  \\\n",
       "id                                                                              \n",
       "UgzzuQVi66aJA5EQ6M14AaABAg  I agree with just about everything that Mister...   \n",
       "UgwXnDFD9tx_QzcFpqB4AaABAg  Great job Jen with this interview of Dr. Gerst...   \n",
       "Ugwl976lg7VgU4DSxSd4AaABAg                             Enjoyed the interview!   \n",
       "Ugz_pf9i7YuC5tJ8p2l4AaABAg  Get lobbyists and insider trading out of polit...   \n",
       "Ugxel72Il2EK95bTz4t4AaABAg                              Fck Neoliberalism!!!!   \n",
       "...                                                                       ...   \n",
       "UgymP1A7hjz0cqf6pKt4AaABAg  I think the fact that non-profit employees ten...   \n",
       "UgxweMzJCcEULvJYuZp4AaABAg  Pyramidic power structure.  It will be the dea...   \n",
       "UgzVl-koIse-ARWoOfd4AaABAg  The article was painfully spot on.  I now emai...   \n",
       "UgwmetnMvsWOVVmGy5N4AaABAg  I hope this problem is limited to USA. If so, ...   \n",
       "UgwaJZ5rrHC6XlRVhet4AaABAg  The instability and infighting that identity p...   \n",
       "\n",
       "                                                                 textOriginal  \\\n",
       "id                                                                              \n",
       "UgzzuQVi66aJA5EQ6M14AaABAg  I agree with just about everything that Mister...   \n",
       "UgwXnDFD9tx_QzcFpqB4AaABAg  Great job Jen with this interview of Dr. Gerst...   \n",
       "Ugwl976lg7VgU4DSxSd4AaABAg                             Enjoyed the interview!   \n",
       "Ugz_pf9i7YuC5tJ8p2l4AaABAg  Get lobbyists and insider trading out of polit...   \n",
       "Ugxel72Il2EK95bTz4t4AaABAg                              Fck Neoliberalism!!!!   \n",
       "...                                                                       ...   \n",
       "UgymP1A7hjz0cqf6pKt4AaABAg  I think the fact that non-profit employees ten...   \n",
       "UgxweMzJCcEULvJYuZp4AaABAg  Pyramidic power structure.  It will be the dea...   \n",
       "UgzVl-koIse-ARWoOfd4AaABAg  The article was painfully spot on.  I now emai...   \n",
       "UgwmetnMvsWOVVmGy5N4AaABAg  I hope this problem is limited to USA. If so, ...   \n",
       "UgwaJZ5rrHC6XlRVhet4AaABAg  The instability and infighting that identity p...   \n",
       "\n",
       "                             authorDisplayName  \\\n",
       "id                                               \n",
       "UgzzuQVi66aJA5EQ6M14AaABAg  Michael Kilcommons   \n",
       "UgwXnDFD9tx_QzcFpqB4AaABAg                  AM   \n",
       "Ugwl976lg7VgU4DSxSd4AaABAg     Russell Gallman   \n",
       "Ugz_pf9i7YuC5tJ8p2l4AaABAg          Adam Brock   \n",
       "Ugxel72Il2EK95bTz4t4AaABAg       Noah Woodhope   \n",
       "...                                        ...   \n",
       "UgymP1A7hjz0cqf6pKt4AaABAg    David Breitowitz   \n",
       "UgxweMzJCcEULvJYuZp4AaABAg             bpalpha   \n",
       "UgzVl-koIse-ARWoOfd4AaABAg        Shani Handel   \n",
       "UgwmetnMvsWOVVmGy5N4AaABAg        Keith Warner   \n",
       "UgwaJZ5rrHC6XlRVhet4AaABAg          Oceania 23   \n",
       "\n",
       "                                                        authorProfileImageUrl  \\\n",
       "id                                                                              \n",
       "UgzzuQVi66aJA5EQ6M14AaABAg  https://yt3.ggpht.com/ytc/AMLnZu-bFBP7EjPScUef...   \n",
       "UgwXnDFD9tx_QzcFpqB4AaABAg  https://yt3.ggpht.com/7SAdcerpBlNMSwVr6LKBTIpZ...   \n",
       "Ugwl976lg7VgU4DSxSd4AaABAg  https://yt3.ggpht.com/ytc/AMLnZu8Rv8jXuauyYFmQ...   \n",
       "Ugz_pf9i7YuC5tJ8p2l4AaABAg  https://yt3.ggpht.com/ytc/AMLnZu8tr_LGxqWo8iBx...   \n",
       "Ugxel72Il2EK95bTz4t4AaABAg  https://yt3.ggpht.com/ytc/AMLnZu9nKKilcG7Gdpf4...   \n",
       "...                                                                       ...   \n",
       "UgymP1A7hjz0cqf6pKt4AaABAg  https://yt3.ggpht.com/PwfvLWbnLOHasa3vUmNJMQao...   \n",
       "UgxweMzJCcEULvJYuZp4AaABAg  https://yt3.ggpht.com/ytc/AMLnZu-HPjgG29jIpMXS...   \n",
       "UgzVl-koIse-ARWoOfd4AaABAg  https://yt3.ggpht.com/ytc/AMLnZu_Q2ZhBAPbtNALX...   \n",
       "UgwmetnMvsWOVVmGy5N4AaABAg  https://yt3.ggpht.com/ytc/AMLnZu_tb9fO7VfrsGiE...   \n",
       "UgwaJZ5rrHC6XlRVhet4AaABAg  https://yt3.ggpht.com/ytc/AMLnZu_4asIwVp1KCrgE...   \n",
       "\n",
       "                                                             authorChannelUrl  \\\n",
       "id                                                                              \n",
       "UgzzuQVi66aJA5EQ6M14AaABAg  http://www.youtube.com/channel/UCgiPbAaHBac_ie...   \n",
       "UgwXnDFD9tx_QzcFpqB4AaABAg  http://www.youtube.com/channel/UC0qS1_HKZJADb5...   \n",
       "Ugwl976lg7VgU4DSxSd4AaABAg  http://www.youtube.com/channel/UCd5XaRJREEuLtf...   \n",
       "Ugz_pf9i7YuC5tJ8p2l4AaABAg  http://www.youtube.com/channel/UCMXbC79tRzitOs...   \n",
       "Ugxel72Il2EK95bTz4t4AaABAg  http://www.youtube.com/channel/UCgv6f2oe77M5D3...   \n",
       "...                                                                       ...   \n",
       "UgymP1A7hjz0cqf6pKt4AaABAg  http://www.youtube.com/channel/UCytAdny2KqKX5m...   \n",
       "UgxweMzJCcEULvJYuZp4AaABAg  http://www.youtube.com/channel/UCfE_G0x3iOJheH...   \n",
       "UgzVl-koIse-ARWoOfd4AaABAg  http://www.youtube.com/channel/UCAqGDSiRqfDDMr...   \n",
       "UgwmetnMvsWOVVmGy5N4AaABAg  http://www.youtube.com/channel/UCbTEPPnor25BJI...   \n",
       "UgwaJZ5rrHC6XlRVhet4AaABAg  http://www.youtube.com/channel/UCW9AMXEPGyozBK...   \n",
       "\n",
       "                            canRate viewerRating  likeCount  \\\n",
       "id                                                            \n",
       "UgzzuQVi66aJA5EQ6M14AaABAg     True         none          0   \n",
       "UgwXnDFD9tx_QzcFpqB4AaABAg     True         none          0   \n",
       "Ugwl976lg7VgU4DSxSd4AaABAg     True         none          0   \n",
       "Ugz_pf9i7YuC5tJ8p2l4AaABAg     True         none          0   \n",
       "Ugxel72Il2EK95bTz4t4AaABAg     True         none          0   \n",
       "...                             ...          ...        ...   \n",
       "UgymP1A7hjz0cqf6pKt4AaABAg     True         none          3   \n",
       "UgxweMzJCcEULvJYuZp4AaABAg     True         none          1   \n",
       "UgzVl-koIse-ARWoOfd4AaABAg     True         none         14   \n",
       "UgwmetnMvsWOVVmGy5N4AaABAg     True         none          1   \n",
       "UgwaJZ5rrHC6XlRVhet4AaABAg     True         none          7   \n",
       "\n",
       "                                     publishedAt             updatedAt  \\\n",
       "id                                                                       \n",
       "UgzzuQVi66aJA5EQ6M14AaABAg  2022-09-05T16:01:29Z  2022-09-05T16:01:29Z   \n",
       "UgwXnDFD9tx_QzcFpqB4AaABAg  2022-08-30T15:58:33Z  2022-08-30T15:58:33Z   \n",
       "Ugwl976lg7VgU4DSxSd4AaABAg  2022-08-28T23:38:38Z  2022-08-28T23:38:38Z   \n",
       "Ugz_pf9i7YuC5tJ8p2l4AaABAg  2022-08-23T14:12:56Z  2022-08-23T14:13:53Z   \n",
       "Ugxel72Il2EK95bTz4t4AaABAg  2022-08-07T18:40:19Z  2022-08-07T18:40:19Z   \n",
       "...                                          ...                   ...   \n",
       "UgymP1A7hjz0cqf6pKt4AaABAg  2022-06-29T03:08:01Z  2022-06-29T03:08:01Z   \n",
       "UgxweMzJCcEULvJYuZp4AaABAg  2022-06-28T22:48:45Z  2022-06-28T23:01:44Z   \n",
       "UgzVl-koIse-ARWoOfd4AaABAg  2022-06-28T22:24:57Z  2022-06-28T22:24:57Z   \n",
       "UgwmetnMvsWOVVmGy5N4AaABAg  2022-06-28T22:09:16Z  2022-06-28T22:09:16Z   \n",
       "UgwaJZ5rrHC6XlRVhet4AaABAg  2022-06-28T21:44:20Z  2022-06-28T21:44:20Z   \n",
       "\n",
       "                            canReply  totalReplyCount  isPublic  \\\n",
       "id                                                                \n",
       "UgzzuQVi66aJA5EQ6M14AaABAg      True                0      True   \n",
       "UgwXnDFD9tx_QzcFpqB4AaABAg      True                0      True   \n",
       "Ugwl976lg7VgU4DSxSd4AaABAg      True                0      True   \n",
       "Ugz_pf9i7YuC5tJ8p2l4AaABAg      True                0      True   \n",
       "Ugxel72Il2EK95bTz4t4AaABAg      True                0      True   \n",
       "...                              ...              ...       ...   \n",
       "UgymP1A7hjz0cqf6pKt4AaABAg      True                3      True   \n",
       "UgxweMzJCcEULvJYuZp4AaABAg      True                0      True   \n",
       "UgzVl-koIse-ARWoOfd4AaABAg      True                1      True   \n",
       "UgwmetnMvsWOVVmGy5N4AaABAg      True                0      True   \n",
       "UgwaJZ5rrHC6XlRVhet4AaABAg      True                0      True   \n",
       "\n",
       "                                     authorchannelId  \\\n",
       "id                                                     \n",
       "UgzzuQVi66aJA5EQ6M14AaABAg  UCgiPbAaHBac_ierA1rpqwUg   \n",
       "UgwXnDFD9tx_QzcFpqB4AaABAg  UC0qS1_HKZJADb5Nn9k-KjlA   \n",
       "Ugwl976lg7VgU4DSxSd4AaABAg  UCd5XaRJREEuLtfYXPaEC86Q   \n",
       "Ugz_pf9i7YuC5tJ8p2l4AaABAg  UCMXbC79tRzitOsSmRhnJfeg   \n",
       "Ugxel72Il2EK95bTz4t4AaABAg  UCgv6f2oe77M5D3Nwp2Wje7A   \n",
       "...                                              ...   \n",
       "UgymP1A7hjz0cqf6pKt4AaABAg  UCytAdny2KqKX5m7xdKtsN4w   \n",
       "UgxweMzJCcEULvJYuZp4AaABAg  UCfE_G0x3iOJheHZV_WtdzDg   \n",
       "UgzVl-koIse-ARWoOfd4AaABAg  UCAqGDSiRqfDDMr4BX7sUkTw   \n",
       "UgwmetnMvsWOVVmGy5N4AaABAg  UCbTEPPnor25BJIqAb_ZmhAA   \n",
       "UgwaJZ5rrHC6XlRVhet4AaABAg  UCW9AMXEPGyozBKefDY1ETNg   \n",
       "\n",
       "                                              parentId  \n",
       "id                                                      \n",
       "UgzzuQVi66aJA5EQ6M14AaABAg  UgzzuQVi66aJA5EQ6M14AaABAg  \n",
       "UgwXnDFD9tx_QzcFpqB4AaABAg  UgwXnDFD9tx_QzcFpqB4AaABAg  \n",
       "Ugwl976lg7VgU4DSxSd4AaABAg  Ugwl976lg7VgU4DSxSd4AaABAg  \n",
       "Ugz_pf9i7YuC5tJ8p2l4AaABAg  Ugz_pf9i7YuC5tJ8p2l4AaABAg  \n",
       "Ugxel72Il2EK95bTz4t4AaABAg  Ugxel72Il2EK95bTz4t4AaABAg  \n",
       "...                                                ...  \n",
       "UgymP1A7hjz0cqf6pKt4AaABAg  UgymP1A7hjz0cqf6pKt4AaABAg  \n",
       "UgxweMzJCcEULvJYuZp4AaABAg  UgxweMzJCcEULvJYuZp4AaABAg  \n",
       "UgzVl-koIse-ARWoOfd4AaABAg  UgzVl-koIse-ARWoOfd4AaABAg  \n",
       "UgwmetnMvsWOVVmGy5N4AaABAg  UgwmetnMvsWOVVmGy5N4AaABAg  \n",
       "UgwaJZ5rrHC6XlRVhet4AaABAg  UgwaJZ5rrHC6XlRVhet4AaABAg  \n",
       "\n",
       "[387 rows x 16 columns]"
      ]
     },
     "execution_count": 92,
     "metadata": {},
     "output_type": "execute_result"
    }
   ],
   "source": [
    "df"
   ]
  },
  {
   "cell_type": "markdown",
   "id": "b02506c3",
   "metadata": {},
   "source": [
    "# Topic modeling"
   ]
  },
  {
   "cell_type": "code",
   "execution_count": 93,
   "id": "f1fd4c57",
   "metadata": {},
   "outputs": [],
   "source": [
    "string_agg = lambda x: list(x)\n",
    "\n",
    "comment_text = (df\n",
    "               .groupby('authorDisplayName')[['textOriginal']]\n",
    "               .agg(string_agg)\n",
    "              )"
   ]
  },
  {
   "cell_type": "code",
   "execution_count": 94,
   "id": "d3367311",
   "metadata": {},
   "outputs": [
    {
     "data": {
      "text/html": [
       "<div>\n",
       "<style scoped>\n",
       "    .dataframe tbody tr th:only-of-type {\n",
       "        vertical-align: middle;\n",
       "    }\n",
       "\n",
       "    .dataframe tbody tr th {\n",
       "        vertical-align: top;\n",
       "    }\n",
       "\n",
       "    .dataframe thead th {\n",
       "        text-align: right;\n",
       "    }\n",
       "</style>\n",
       "<table border=\"1\" class=\"dataframe\">\n",
       "  <thead>\n",
       "    <tr style=\"text-align: right;\">\n",
       "      <th></th>\n",
       "      <th>textOriginal</th>\n",
       "    </tr>\n",
       "    <tr>\n",
       "      <th>authorDisplayName</th>\n",
       "      <th></th>\n",
       "    </tr>\n",
       "  </thead>\n",
       "  <tbody>\n",
       "    <tr>\n",
       "      <th>A DEK</th>\n",
       "      <td>[Will he mention US oligarchs?]</td>\n",
       "    </tr>\n",
       "    <tr>\n",
       "      <th>A. Lerner</th>\n",
       "      <td>[The US was built upon slavery, they have simp...</td>\n",
       "    </tr>\n",
       "    <tr>\n",
       "      <th>AM</th>\n",
       "      <td>[Great job Jen with this interview of Dr. Gers...</td>\n",
       "    </tr>\n",
       "    <tr>\n",
       "      <th>Aaron Wellman</th>\n",
       "      <td>[i just find all of the 'woke' / heavily ident...</td>\n",
       "    </tr>\n",
       "    <tr>\n",
       "      <th>Abject Individual</th>\n",
       "      <td>[58:41]</td>\n",
       "    </tr>\n",
       "    <tr>\n",
       "      <th>...</th>\n",
       "      <td>...</td>\n",
       "    </tr>\n",
       "    <tr>\n",
       "      <th>ultraviolet iris</th>\n",
       "      <td>[Yep this is why MLK was killed]</td>\n",
       "    </tr>\n",
       "    <tr>\n",
       "      <th>umperthay</th>\n",
       "      <td>[NATO is just another tool of the globalists, ...</td>\n",
       "    </tr>\n",
       "    <tr>\n",
       "      <th>wv watson</th>\n",
       "      <td>[Lol @ uvalde blue lives matter]</td>\n",
       "    </tr>\n",
       "    <tr>\n",
       "      <th>zhonguocha</th>\n",
       "      <td>[I would love to turn down the volume on the c...</td>\n",
       "    </tr>\n",
       "    <tr>\n",
       "      <th>미향 주</th>\n",
       "      <td>[It's very serious that we thrown the economic...</td>\n",
       "    </tr>\n",
       "  </tbody>\n",
       "</table>\n",
       "<p>333 rows × 1 columns</p>\n",
       "</div>"
      ],
      "text/plain": [
       "                                                        textOriginal\n",
       "authorDisplayName                                                   \n",
       "A DEK                                [Will he mention US oligarchs?]\n",
       "A. Lerner          [The US was built upon slavery, they have simp...\n",
       "AM                 [Great job Jen with this interview of Dr. Gers...\n",
       "Aaron Wellman      [i just find all of the 'woke' / heavily ident...\n",
       "Abject Individual                                            [58:41]\n",
       "...                                                              ...\n",
       "ultraviolet iris                    [Yep this is why MLK was killed]\n",
       "umperthay          [NATO is just another tool of the globalists, ...\n",
       "wv watson                           [Lol @ uvalde blue lives matter]\n",
       "zhonguocha         [I would love to turn down the volume on the c...\n",
       "미향 주               [It's very serious that we thrown the economic...\n",
       "\n",
       "[333 rows x 1 columns]"
      ]
     },
     "execution_count": 94,
     "metadata": {},
     "output_type": "execute_result"
    }
   ],
   "source": [
    "comment_text"
   ]
  },
  {
   "cell_type": "code",
   "execution_count": 95,
   "id": "c383388d",
   "metadata": {},
   "outputs": [
    {
     "data": {
      "text/plain": [
       "authorDisplayName\n",
       "A DEK                                     [mention, oligarchs]\n",
       "A. Lerner    [built, slavery, simply, refined, system, incl...\n",
       "AM           [great, job, jen, interview, dr, gerstle, read...\n",
       "Name: textOriginal, dtype: object"
      ]
     },
     "execution_count": 95,
     "metadata": {},
     "output_type": "execute_result"
    }
   ],
   "source": [
    "user_tokens = (comment_text['textOriginal']\n",
    "               .map(topic.make_tokens)\n",
    "               .map(topic.long_list))\n",
    "user_tokens.head(3)"
   ]
  },
  {
   "cell_type": "markdown",
   "id": "bc9a82cc",
   "metadata": {},
   "source": [
    "# Topic extraction"
   ]
  },
  {
   "cell_type": "code",
   "execution_count": 102,
   "id": "395946e3",
   "metadata": {},
   "outputs": [],
   "source": [
    "stop_words = [*stopwords.words(),\n",
    "              'jen', 'gerstle','gary','jacobin',\n",
    "             ]\n",
    "tokenize_partial = functools.partial(topic.tokenize_string, \n",
    "                                     stop_words=stop_words)\n",
    "preprocess_partial = functools.partial(topic.preprocess_string, \n",
    "                                       special_tokens=False)"
   ]
  },
  {
   "cell_type": "code",
   "execution_count": 103,
   "id": "f401b8ab",
   "metadata": {},
   "outputs": [],
   "source": [
    "vectorizer = CountVectorizer(analyzer='word',\n",
    "                             strip_accents='ascii',\n",
    "                             stop_words=stop_words,\n",
    "                             ngram_range=(1,2),\n",
    "                             preprocessor=preprocess_partial,\n",
    "                             tokenizer=tokenize_partial,\n",
    "                            )\n",
    "\n",
    "documents_list = (comment_text['textOriginal']\n",
    "                    .map(topic.long_string)\n",
    "                   )"
   ]
  },
  {
   "cell_type": "code",
   "execution_count": 104,
   "id": "63897095",
   "metadata": {},
   "outputs": [
    {
     "name": "stdout",
     "output_type": "stream",
     "text": [
      "authorDisplayName\n",
      "A DEK                                    Will he mention US oligarchs?\n",
      "A. Lerner            The US was built upon slavery, they have simpl...\n",
      "AM                   Great job Jen with this interview of Dr. Gerst...\n",
      "Aaron Wellman        i just find all of the 'woke' / heavily identi...\n",
      "Abject Individual                                                58:41\n",
      "Name: textOriginal, dtype: object\n"
     ]
    }
   ],
   "source": [
    "print(documents_list[:5])"
   ]
  },
  {
   "cell_type": "code",
   "execution_count": 105,
   "id": "8ed54a19",
   "metadata": {},
   "outputs": [],
   "source": [
    "# tokenize + construct the frequency matrix from tokens\n",
    "matrix = vectorizer.fit_transform(documents_list)"
   ]
  },
  {
   "cell_type": "code",
   "execution_count": 106,
   "id": "48b1ee00",
   "metadata": {},
   "outputs": [],
   "source": [
    "# get token names + frequencies\n",
    "ngrams = vectorizer.get_feature_names()\n",
    "ngram_frequencies = matrix.sum(axis=0).tolist()[0]\n",
    "freq_dict = dict(zip(ngrams, ngram_frequencies))"
   ]
  },
  {
   "cell_type": "code",
   "execution_count": 107,
   "id": "51012c15",
   "metadata": {},
   "outputs": [
    {
     "name": "stdout",
     "output_type": "stream",
     "text": [
      "[('class', 40), ('pay', 38), ('left', 32), ('power', 27), ('make', 26), ('system', 26), ('bernie', 23), ('issues', 22), ('working', 22), ('world', 21), ('democratic', 19), ('great', 19), ('money', 19), ('time', 19), ('back', 18), ('economic', 18), ('america', 17), ('problem', 17), ('social', 17), ('working class', 17)]\n"
     ]
    }
   ],
   "source": [
    "print(sorted(freq_dict.items(), key=lambda item: item[1], reverse=True)[:20])"
   ]
  },
  {
   "cell_type": "code",
   "execution_count": null,
   "id": "ce5f72e7",
   "metadata": {},
   "outputs": [],
   "source": []
  },
  {
   "cell_type": "markdown",
   "id": "f0cbf102",
   "metadata": {},
   "source": [
    "# Text classification"
   ]
  },
  {
   "cell_type": "code",
   "execution_count": null,
   "id": "7e3561ca",
   "metadata": {},
   "outputs": [],
   "source": [
    "def preds_from_list(strings_list, classifier):\n",
    "    preds = [classifier.from_text(string) for string in strings_list]\n",
    "    pairs = list(zip(strings_list, preds))\n",
    "\n",
    "    return sorted(pairs, key=lambda p: p[1])\n",
    "\n",
    "def pred_from_text(string, classifier):\n",
    "    return classifier.from_text(string)"
   ]
  },
  {
   "cell_type": "markdown",
   "id": "79cdf52f",
   "metadata": {},
   "source": [
    "## Basic sentiment classifier (Hugging Face transformers)"
   ]
  },
  {
   "cell_type": "code",
   "execution_count": 108,
   "id": "db9ae0d0",
   "metadata": {},
   "outputs": [
    {
     "name": "stderr",
     "output_type": "stream",
     "text": [
      "2022-09-14 05:23:03.056988: I tensorflow/core/platform/cpu_feature_guard.cc:193] This TensorFlow binary is optimized with oneAPI Deep Neural Network Library (oneDNN) to use the following CPU instructions in performance-critical operations:  AVX2 FMA\n",
      "To enable them in other operations, rebuild TensorFlow with the appropriate compiler flags.\n"
     ]
    }
   ],
   "source": [
    "import torch\n",
    "import transformers\n",
    "from transformers import pipeline"
   ]
  },
  {
   "cell_type": "code",
   "execution_count": null,
   "id": "9f130747",
   "metadata": {},
   "outputs": [
    {
     "name": "stderr",
     "output_type": "stream",
     "text": [
      "No model was supplied, defaulted to distilbert-base-uncased-finetuned-sst-2-english (https://huggingface.co/distilbert-base-uncased-finetuned-sst-2-english)\n"
     ]
    }
   ],
   "source": [
    "classifier = pipeline(\"sentiment-analysis\")\n",
    "\n",
    "sentence = df.iloc[0][\"originalText\"]\n",
    "print(sentence)\n",
    "result = classifier(sentence)\n",
    "print(result)"
   ]
  },
  {
   "cell_type": "markdown",
   "id": "1fc24efb",
   "metadata": {},
   "source": [
    "## Microsoft Toxigen\n",
    "\n",
    "Microsoft model pre-trained on Toxigen hate speech dataset"
   ]
  },
  {
   "cell_type": "code",
   "execution_count": null,
   "id": "bdc81076",
   "metadata": {},
   "outputs": [],
   "source": [
    "os.environ[\"TOKENIZERS_PARALLELISM\"] = \"false\"\n",
    "\n",
    "from toxigen import alice\n",
    "from toxigen.pretrained_classifiers import ToxDectRoBERTa, HateBERT\n",
    "\n",
    "# Load a pretrained hate speech classifier\n",
    "tox_classifier = ToxDectRoBERTa()\n",
    "\n",
    "prob = tox_classifier.from_text(sentence)\n",
    "print(\"input text: {}\\n\"\n",
    "      \"Probability the input text was toxic according to ToxDectRoBERTa: {:3f}\".format(sentence, prob))"
   ]
  }
 ],
 "metadata": {
  "kernelspec": {
   "display_name": "Python [conda env:sm_env] *",
   "language": "python",
   "name": "conda-env-sm_env-py"
  },
  "language_info": {
   "codemirror_mode": {
    "name": "ipython",
    "version": 3
   },
   "file_extension": ".py",
   "mimetype": "text/x-python",
   "name": "python",
   "nbconvert_exporter": "python",
   "pygments_lexer": "ipython3",
   "version": "3.10.4"
  }
 },
 "nbformat": 4,
 "nbformat_minor": 5
}
