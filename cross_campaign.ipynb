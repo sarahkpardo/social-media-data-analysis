{
 "cells": [
  {
   "cell_type": "code",
   "execution_count": 1,
   "metadata": {},
   "outputs": [],
   "source": [
    "from collections import Counter\n",
    "import datetime\n",
    "import functools\n",
    "import itertools\n",
    "import os\n",
    "from pathlib import Path\n",
    "\n",
    "import re\n",
    "import string\n",
    "from timeit import default_timer\n",
    "import warnings; warnings.simplefilter('ignore')\n",
    "\n",
    "import matplotlib.pyplot as plt\n",
    "from nltk.corpus import stopwords\n",
    "import numpy as np\n",
    "import pandas as pd\n",
    "from sklearn.cluster import KMeans\n",
    "from sklearn.feature_extraction.text import CountVectorizer\n",
    "from sklearn.metrics import silhouette_score\n",
    "\n",
    "from utils import *\n",
    "from graph_utils import *\n",
    "from series_utils import *\n",
    "from topic_utils import *"
   ]
  },
  {
   "cell_type": "code",
   "execution_count": 3,
   "metadata": {},
   "outputs": [],
   "source": [
    "%matplotlib notebook\n",
    "plt.style.use(\"bmh\")\n",
    "\n",
    "pd.options.display.float_format = '{:.2f}'.format"
   ]
  },
  {
   "cell_type": "code",
   "execution_count": 2,
   "metadata": {},
   "outputs": [],
   "source": [
    "counts = ['like_count',\n",
    "         'quote_count',\n",
    "         'reply_count',\n",
    "         'retweet_count',\n",
    "         ]\n",
    "plot_stats = ['mean',\n",
    "             'std',\n",
    "             ]\n",
    "stats = ['mean',\n",
    "         'std',\n",
    "         'min',\n",
    "         'max',\n",
    "        ]"
   ]
  },
  {
   "cell_type": "markdown",
   "metadata": {},
   "source": [
    "## Data: multiple campaigns\n",
    "Using data from campaigns in Iran in September 2020 and December 2020"
   ]
  },
  {
   "cell_type": "code",
   "execution_count": 5,
   "metadata": {},
   "outputs": [],
   "source": [
    "users = UsersData('data/users')\n",
    "tweets = TweetsData('data/tweets')\n",
    "df = tweets.df.loc[:][:]\n",
    "user_df = users.df.loc[:][:]"
   ]
  },
  {
   "cell_type": "code",
   "execution_count": 7,
   "metadata": {},
   "outputs": [],
   "source": [
    "campaign = df[df['government'] == 'iran']\n",
    "campaign_users = user_df[user_df['government'] == 'iran']"
   ]
  },
  {
   "cell_type": "code",
   "execution_count": 10,
   "metadata": {},
   "outputs": [
    {
     "name": "stdout",
     "output_type": "stream",
     "text": [
      "<class 'pandas.core.frame.DataFrame'>\n",
      "Index: 342 entries, XpT328jUSYUJJM4Bt0HmKSJ8d8rJWgkBkQhdff62skE= to BBsTYXJDsCvRvnfakEivqqKtHssmZAJ8M40n+C0kJaU=\n",
      "Data columns (total 13 columns):\n",
      " #   Column                    Non-Null Count  Dtype         \n",
      "---  ------                    --------------  -----         \n",
      " 0   user_display_name         342 non-null    string        \n",
      " 1   user_screen_name          342 non-null    string        \n",
      " 2   user_reported_location    183 non-null    string        \n",
      " 3   user_profile_description  292 non-null    string        \n",
      " 4   user_profile_url          67 non-null     string        \n",
      " 5   follower_count            342 non-null    int64         \n",
      " 6   following_count           342 non-null    int64         \n",
      " 7   account_creation_date     342 non-null    datetime64[ns]\n",
      " 8   account_language          342 non-null    string        \n",
      " 9   file                      342 non-null    string        \n",
      " 10  campaign                  342 non-null    string        \n",
      " 11  release                   342 non-null    object        \n",
      " 12  government                342 non-null    string        \n",
      "dtypes: datetime64[ns](1), int64(2), object(1), string(9)\n",
      "memory usage: 37.4+ KB\n"
     ]
    }
   ],
   "source": [
    "campaign_users.info()"
   ]
  },
  {
   "cell_type": "code",
   "execution_count": 15,
   "metadata": {
    "scrolled": true
   },
   "outputs": [
    {
     "data": {
      "text/plain": [
       "iran202012    238\n",
       "iran092020    104\n",
       "Name: campaign, dtype: Int64"
      ]
     },
     "execution_count": 15,
     "metadata": {},
     "output_type": "execute_result"
    }
   ],
   "source": [
    "campaign_users['campaign'].value_counts()"
   ]
  },
  {
   "cell_type": "code",
   "execution_count": 19,
   "metadata": {},
   "outputs": [
    {
     "data": {
      "text/plain": [
       "campaign\n",
       "iran092020      2450\n",
       "iran202012    560571\n",
       "dtype: int64"
      ]
     },
     "execution_count": 19,
     "metadata": {},
     "output_type": "execute_result"
    }
   ],
   "source": [
    "grouped = (campaign\n",
    "          .groupby(['campaign'])\n",
    "          )\n",
    "grouped.size()"
   ]
  },
  {
   "cell_type": "code",
   "execution_count": 27,
   "metadata": {},
   "outputs": [
    {
     "data": {
      "text/plain": [
       "dict_keys(['iran092020', 'iran202012'])"
      ]
     },
     "execution_count": 27,
     "metadata": {},
     "output_type": "execute_result"
    }
   ],
   "source": [
    "grouped.groups.keys()"
   ]
  },
  {
   "cell_type": "code",
   "execution_count": 28,
   "metadata": {},
   "outputs": [],
   "source": [
    "[c1, c2] = grouped.groups.keys()"
   ]
  },
  {
   "cell_type": "code",
   "execution_count": 31,
   "metadata": {},
   "outputs": [
    {
     "name": "stdout",
     "output_type": "stream",
     "text": [
      "2020-01-08 17:43:00\n",
      "2020-07-01 07:52:00\n",
      "174 days 14:09:00\n",
      "2009-09-06 13:56:00\n",
      "2020-12-27 18:08:00\n",
      "4130 days 04:12:00\n"
     ]
    }
   ],
   "source": [
    "for group in grouped.groups.keys():\n",
    "    campaign_start = min(grouped\n",
    "                         .get_group(group)\n",
    "                         .tweet_time\n",
    "                        )\n",
    "    campaign_end = max(grouped\n",
    "                     .get_group(group)\n",
    "                     .tweet_time\n",
    "                    )\n",
    "    campaign_period = campaign_end - campaign_start\n",
    "\n",
    "    print(campaign_start)\n",
    "    print(campaign_end)\n",
    "    print(campaign_period)"
   ]
  },
  {
   "cell_type": "code",
   "execution_count": null,
   "metadata": {},
   "outputs": [],
   "source": []
  }
 ],
 "metadata": {
  "kernelspec": {
   "display_name": "Python 3",
   "language": "python",
   "name": "python3"
  },
  "language_info": {
   "codemirror_mode": {
    "name": "ipython",
    "version": 3
   },
   "file_extension": ".py",
   "mimetype": "text/x-python",
   "name": "python",
   "nbconvert_exporter": "python",
   "pygments_lexer": "ipython3",
   "version": "3.7.6"
  }
 },
 "nbformat": 4,
 "nbformat_minor": 4
}
